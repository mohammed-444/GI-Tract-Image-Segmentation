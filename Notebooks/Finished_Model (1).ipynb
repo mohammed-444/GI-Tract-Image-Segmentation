{
  "cells": [
    {
      "cell_type": "code",
      "execution_count": 3,
      "metadata": {
        "id": "LP0pGUh3OBoR"
      },
      "outputs": [],
      "source": [
        "import pandas as pd\n",
        "from numpy import load\n",
        "import matplotlib.pyplot as plt\n",
        "from numpy import save\n",
        "import numpy as np\n",
        "import cv2\n",
        "import tensorflow as tf\n",
        "import numpy as np\n",
        "import tensorflow as tf\n",
        "import tensorflow.keras as keras\n",
        "from tensorflow.keras.layers import Input\n",
        "from tensorflow.keras.layers import Conv2D\n",
        "from tensorflow.keras.layers import MaxPooling2D\n",
        "from tensorflow.keras.layers import Dropout \n",
        "from tensorflow.keras.layers import Conv2DTranspose\n",
        "from tensorflow.keras.layers import concatenate\n",
        "from keras.utils import normalize\n",
        "from keras.utils import to_categorical\n",
        "from sklearn.model_selection import train_test_split"
      ]
    },
    {
      "cell_type": "code",
      "execution_count": 5,
      "metadata": {
        "colab": {
          "base_uri": "https://localhost:8080/"
        },
        "id": "jJcw2P4NOP8o",
        "outputId": "d6bbac41-b0d5-4df3-9562-87f52672f831"
      },
      "outputs": [
        {
          "output_type": "stream",
          "name": "stdout",
          "text": [
            "Looking in indexes: https://pypi.org/simple, https://us-python.pkg.dev/colab-wheels/public/simple/\n",
            "Requirement already satisfied: gdown in /usr/local/lib/python3.8/dist-packages (4.4.0)\n",
            "Collecting gdown\n",
            "  Downloading gdown-4.6.0-py3-none-any.whl (14 kB)\n",
            "Requirement already satisfied: six in /usr/local/lib/python3.8/dist-packages (from gdown) (1.15.0)\n",
            "Requirement already satisfied: tqdm in /usr/local/lib/python3.8/dist-packages (from gdown) (4.64.1)\n",
            "Requirement already satisfied: filelock in /usr/local/lib/python3.8/dist-packages (from gdown) (3.8.2)\n",
            "Requirement already satisfied: requests[socks] in /usr/local/lib/python3.8/dist-packages (from gdown) (2.25.1)\n",
            "Requirement already satisfied: beautifulsoup4 in /usr/local/lib/python3.8/dist-packages (from gdown) (4.6.3)\n",
            "Requirement already satisfied: certifi>=2017.4.17 in /usr/local/lib/python3.8/dist-packages (from requests[socks]->gdown) (2022.12.7)\n",
            "Requirement already satisfied: chardet<5,>=3.0.2 in /usr/local/lib/python3.8/dist-packages (from requests[socks]->gdown) (4.0.0)\n",
            "Requirement already satisfied: idna<3,>=2.5 in /usr/local/lib/python3.8/dist-packages (from requests[socks]->gdown) (2.10)\n",
            "Requirement already satisfied: urllib3<1.27,>=1.21.1 in /usr/local/lib/python3.8/dist-packages (from requests[socks]->gdown) (1.24.3)\n",
            "Requirement already satisfied: PySocks!=1.5.7,>=1.5.6 in /usr/local/lib/python3.8/dist-packages (from requests[socks]->gdown) (1.7.1)\n",
            "Installing collected packages: gdown\n",
            "  Attempting uninstall: gdown\n",
            "    Found existing installation: gdown 4.4.0\n",
            "    Uninstalling gdown-4.4.0:\n",
            "      Successfully uninstalled gdown-4.4.0\n",
            "Successfully installed gdown-4.6.0\n"
          ]
        }
      ],
      "source": [
        "!pip install --upgrade gdown"
      ]
    },
    {
      "cell_type": "code",
      "execution_count": 6,
      "metadata": {
        "colab": {
          "base_uri": "https://localhost:8080/"
        },
        "id": "JFb6aQHwPCLC",
        "outputId": "8755f167-cff8-4ea2-f445-d7b5fcbb68c8"
      },
      "outputs": [
        {
          "output_type": "stream",
          "name": "stdout",
          "text": [
            "Downloading...\n",
            "From: https://drive.google.com/uc?id=1-FuNH_VEkltxgD_6NaEtZJQR7ABtEJeu\n",
            "To: /content/Final_masks.npy\n",
            "100% 1.18G/1.18G [00:07<00:00, 163MB/s]\n"
          ]
        }
      ],
      "source": [
        "!gdown 1-FuNH_VEkltxgD_6NaEtZJQR7ABtEJeu"
      ]
    },
    {
      "cell_type": "code",
      "execution_count": 7,
      "metadata": {
        "colab": {
          "base_uri": "https://localhost:8080/"
        },
        "id": "WqSWrcn0PL1d",
        "outputId": "c69e2019-dd17-4874-fc2d-521fa71eeedd"
      },
      "outputs": [
        {
          "output_type": "stream",
          "name": "stdout",
          "text": [
            "Downloading...\n",
            "From: https://drive.google.com/uc?id=1-JvSo_TegFO37CKFsv7zMuCaLIlthq7u\n",
            "To: /content/Final_images1.npy\n",
            "100% 1.18G/1.18G [00:05<00:00, 210MB/s]\n"
          ]
        }
      ],
      "source": [
        "!gdown 1-JvSo_TegFO37CKFsv7zMuCaLIlthq7u"
      ]
    },
    {
      "cell_type": "code",
      "execution_count": 8,
      "metadata": {
        "id": "GLmsTTiCPWJV"
      },
      "outputs": [],
      "source": [
        "trainX, valX, trainY, valY = train_test_split(np.expand_dims(np.load('/content/Final_images1.npy'),axis=3),np.load('/content/Final_masks.npy'), test_size=0.20, random_state=42)"
      ]
    },
    {
      "cell_type": "markdown",
      "source": [],
      "metadata": {
        "id": "40HyBODMArDR"
      }
    },
    {
      "cell_type": "code",
      "execution_count": 9,
      "metadata": {
        "id": "FBnE8Ax5Wrca"
      },
      "outputs": [],
      "source": [
        "masks_cat=0\n",
        "masks_cat_test=0"
      ]
    },
    {
      "cell_type": "code",
      "execution_count": 10,
      "metadata": {
        "colab": {
          "base_uri": "https://localhost:8080/"
        },
        "id": "ZT7URKaZQcV8",
        "outputId": "43a56149-7cc2-4580-9cf3-a124dcafa8cb"
      },
      "outputs": [
        {
          "output_type": "execute_result",
          "data": {
            "text/plain": [
              "(7200, 128, 128, 1, 1)"
            ]
          },
          "metadata": {},
          "execution_count": 10
        }
      ],
      "source": [
        "trainX.shape"
      ]
    },
    {
      "cell_type": "code",
      "execution_count": 11,
      "metadata": {
        "id": "k9tB4sFWPxyd"
      },
      "outputs": [],
      "source": [
        "from keras.utils import to_categorical"
      ]
    },
    {
      "cell_type": "code",
      "execution_count": 12,
      "metadata": {
        "id": "RbIjBP2yQBxG"
      },
      "outputs": [],
      "source": [
        "masks_cat=to_categorical(trainY, num_classes= 4)"
      ]
    },
    {
      "cell_type": "markdown",
      "source": [
        "Validation masks from 0 to 1000 using one hot encoding "
      ],
      "metadata": {
        "id": "Qoq5d4VF_6qD"
      }
    },
    {
      "cell_type": "code",
      "execution_count": 13,
      "metadata": {
        "id": "m-5_hYMqQGB1"
      },
      "outputs": [],
      "source": [
        "masks_cat_val=to_categorical(valY[0:1000], num_classes=4)"
      ]
    },
    {
      "cell_type": "markdown",
      "source": [
        "Test data masks from 1000 to the end(1350) "
      ],
      "metadata": {
        "id": "QDWU8v3oADQD"
      }
    },
    {
      "cell_type": "code",
      "execution_count": 14,
      "metadata": {
        "id": "yB4nBDvecOYk"
      },
      "outputs": [],
      "source": [
        "masks_cat_test=to_categorical(valY[1000::], num_classes=4)"
      ]
    },
    {
      "cell_type": "code",
      "execution_count": 15,
      "metadata": {
        "id": "79nHu9erQPMA"
      },
      "outputs": [],
      "source": [
        "from keras.models import Model\n",
        "from keras.layers import Input, Conv2D, MaxPooling2D, UpSampling2D, concatenate, Conv2DTranspose, BatchNormalization, Dropout, Lambda\n",
        "from keras import backend as K\n",
        "\n",
        "def jacard_coef(y_true, y_pred):\n",
        "    y_true_f = K.flatten(y_true)\n",
        "    y_pred_f = K.flatten(y_pred)\n",
        "    intersection = K.sum(y_true_f * y_pred_f)\n",
        "    return (intersection + 1.0) / (K.sum(y_true_f) + K.sum(y_pred_f) - intersection + 1.0)\n",
        "\n",
        "\n",
        "\n",
        "################################################################\n",
        "def multi_unet_model(n_classes=4, IMG_HEIGHT=128, IMG_WIDTH=128, IMG_CHANNELS=1):\n",
        "#Build the model\n",
        "    inputs = Input((IMG_HEIGHT, IMG_WIDTH, IMG_CHANNELS))\n",
        "    #s = Lambda(lambda x: x / 255)(inputs)   #No need for this if we normalize our inputs beforehand\n",
        "    s = inputs\n",
        "\n",
        "    #Contraction path\n",
        "    c1 = Conv2D(16, (3, 3), activation='relu', kernel_initializer='he_normal', padding='same')(s)\n",
        "    c1 = Dropout(0.2)(c1)  # Original 0.1\n",
        "    c1 = Conv2D(16, (3, 3), activation='relu', kernel_initializer='he_normal', padding='same')(c1)\n",
        "    p1 = MaxPooling2D((2, 2))(c1)\n",
        "    \n",
        "    c2 = Conv2D(32, (3, 3), activation='relu', kernel_initializer='he_normal', padding='same')(p1)\n",
        "    c2 = Dropout(0.2)(c2)  # Original 0.1\n",
        "    c2 = Conv2D(32, (3, 3), activation='relu', kernel_initializer='he_normal', padding='same')(c2)\n",
        "    p2 = MaxPooling2D((2, 2))(c2)\n",
        "     \n",
        "    c3 = Conv2D(64, (3, 3), activation='relu', kernel_initializer='he_normal', padding='same')(p2)\n",
        "    c3 = Dropout(0.2)(c3)\n",
        "    c3 = Conv2D(64, (3, 3), activation='relu', kernel_initializer='he_normal', padding='same')(c3)\n",
        "    p3 = MaxPooling2D((2, 2))(c3)\n",
        "     \n",
        "    c4 = Conv2D(128, (3, 3), activation='relu', kernel_initializer='he_normal', padding='same')(p3)\n",
        "    c4 = Dropout(0.2)(c4)\n",
        "    c4 = Conv2D(128, (3, 3), activation='relu', kernel_initializer='he_normal', padding='same')(c4)\n",
        "    p4 = MaxPooling2D(pool_size=(2, 2))(c4)\n",
        "     \n",
        "    c5 = Conv2D(256, (3, 3), activation='relu', kernel_initializer='he_normal', padding='same')(p4)\n",
        "    c5 = Dropout(0.3)(c5)\n",
        "    c5 = Conv2D(256, (3, 3), activation='relu', kernel_initializer='he_normal', padding='same')(c5)\n",
        "    \n",
        "    #Expansive path \n",
        "    u6 = Conv2DTranspose(128, (2, 2), strides=(2, 2), padding='same')(c5)\n",
        "    u6 = concatenate([u6, c4])\n",
        "    c6 = Conv2D(128, (3, 3), activation='relu', kernel_initializer='he_normal', padding='same')(u6)\n",
        "    c6 = Dropout(0.2)(c6)\n",
        "    c6 = Conv2D(128, (3, 3), activation='relu', kernel_initializer='he_normal', padding='same')(c6)\n",
        "     \n",
        "    u7 = Conv2DTranspose(64, (2, 2), strides=(2, 2), padding='same')(c6)\n",
        "    u7 = concatenate([u7, c3])\n",
        "    c7 = Conv2D(64, (3, 3), activation='relu', kernel_initializer='he_normal', padding='same')(u7)\n",
        "    c7 = Dropout(0.2)(c7)\n",
        "    c7 = Conv2D(64, (3, 3), activation='relu', kernel_initializer='he_normal', padding='same')(c7)\n",
        "     \n",
        "    u8 = Conv2DTranspose(32, (2, 2), strides=(2, 2), padding='same')(c7)\n",
        "    u8 = concatenate([u8, c2])\n",
        "    c8 = Conv2D(32, (3, 3), activation='relu', kernel_initializer='he_normal', padding='same')(u8)\n",
        "    c8 = Dropout(0.2)(c8)  # Original 0.1\n",
        "    c8 = Conv2D(32, (3, 3), activation='relu', kernel_initializer='he_normal', padding='same')(c8)\n",
        "     \n",
        "    u9 = Conv2DTranspose(16, (2, 2), strides=(2, 2), padding='same')(c8)\n",
        "    u9 = concatenate([u9, c1], axis=3)\n",
        "    c9 = Conv2D(16, (3, 3), activation='relu', kernel_initializer='he_normal', padding='same')(u9)\n",
        "    c9 = Dropout(0.2)(c9)  # Original 0.1\n",
        "    c9 = Conv2D(16, (3, 3), activation='relu', kernel_initializer='he_normal', padding='same')(c9)\n",
        "     \n",
        "    outputs = Conv2D(n_classes, (1, 1), activation='softmax')(c9)\n",
        "     \n",
        "    model = Model(inputs=[inputs], outputs=[outputs])\n",
        "    \n",
        "    \n",
        "    model.summary()\n",
        "    \n",
        "    return model"
      ]
    },
    {
      "cell_type": "code",
      "execution_count": 16,
      "metadata": {
        "id": "BD9o0Rg2QSNq"
      },
      "outputs": [],
      "source": [
        "\n",
        "\n",
        "\n",
        "IMG_HEIGHT = trainX.shape[1]\n",
        "IMG_WIDTH  = trainX.shape[2]\n",
        "IMG_CHANNELS = trainX.shape[3]\n",
        "\n",
        "\n",
        "\n",
        "metrics=['accuracy', jacard_coef]"
      ]
    },
    {
      "cell_type": "code",
      "execution_count": 17,
      "metadata": {
        "colab": {
          "base_uri": "https://localhost:8080/"
        },
        "id": "AqYdi2ZOQWjG",
        "outputId": "400a1011-8057-494f-e605-826a0b9b6444"
      },
      "outputs": [
        {
          "output_type": "stream",
          "name": "stdout",
          "text": [
            "Model: \"model\"\n",
            "__________________________________________________________________________________________________\n",
            " Layer (type)                   Output Shape         Param #     Connected to                     \n",
            "==================================================================================================\n",
            " input_1 (InputLayer)           [(None, 128, 128, 1  0           []                               \n",
            "                                )]                                                                \n",
            "                                                                                                  \n",
            " conv2d (Conv2D)                (None, 128, 128, 16  160         ['input_1[0][0]']                \n",
            "                                )                                                                 \n",
            "                                                                                                  \n",
            " dropout (Dropout)              (None, 128, 128, 16  0           ['conv2d[0][0]']                 \n",
            "                                )                                                                 \n",
            "                                                                                                  \n",
            " conv2d_1 (Conv2D)              (None, 128, 128, 16  2320        ['dropout[0][0]']                \n",
            "                                )                                                                 \n",
            "                                                                                                  \n",
            " max_pooling2d (MaxPooling2D)   (None, 64, 64, 16)   0           ['conv2d_1[0][0]']               \n",
            "                                                                                                  \n",
            " conv2d_2 (Conv2D)              (None, 64, 64, 32)   4640        ['max_pooling2d[0][0]']          \n",
            "                                                                                                  \n",
            " dropout_1 (Dropout)            (None, 64, 64, 32)   0           ['conv2d_2[0][0]']               \n",
            "                                                                                                  \n",
            " conv2d_3 (Conv2D)              (None, 64, 64, 32)   9248        ['dropout_1[0][0]']              \n",
            "                                                                                                  \n",
            " max_pooling2d_1 (MaxPooling2D)  (None, 32, 32, 32)  0           ['conv2d_3[0][0]']               \n",
            "                                                                                                  \n",
            " conv2d_4 (Conv2D)              (None, 32, 32, 64)   18496       ['max_pooling2d_1[0][0]']        \n",
            "                                                                                                  \n",
            " dropout_2 (Dropout)            (None, 32, 32, 64)   0           ['conv2d_4[0][0]']               \n",
            "                                                                                                  \n",
            " conv2d_5 (Conv2D)              (None, 32, 32, 64)   36928       ['dropout_2[0][0]']              \n",
            "                                                                                                  \n",
            " max_pooling2d_2 (MaxPooling2D)  (None, 16, 16, 64)  0           ['conv2d_5[0][0]']               \n",
            "                                                                                                  \n",
            " conv2d_6 (Conv2D)              (None, 16, 16, 128)  73856       ['max_pooling2d_2[0][0]']        \n",
            "                                                                                                  \n",
            " dropout_3 (Dropout)            (None, 16, 16, 128)  0           ['conv2d_6[0][0]']               \n",
            "                                                                                                  \n",
            " conv2d_7 (Conv2D)              (None, 16, 16, 128)  147584      ['dropout_3[0][0]']              \n",
            "                                                                                                  \n",
            " max_pooling2d_3 (MaxPooling2D)  (None, 8, 8, 128)   0           ['conv2d_7[0][0]']               \n",
            "                                                                                                  \n",
            " conv2d_8 (Conv2D)              (None, 8, 8, 256)    295168      ['max_pooling2d_3[0][0]']        \n",
            "                                                                                                  \n",
            " dropout_4 (Dropout)            (None, 8, 8, 256)    0           ['conv2d_8[0][0]']               \n",
            "                                                                                                  \n",
            " conv2d_9 (Conv2D)              (None, 8, 8, 256)    590080      ['dropout_4[0][0]']              \n",
            "                                                                                                  \n",
            " conv2d_transpose (Conv2DTransp  (None, 16, 16, 128)  131200     ['conv2d_9[0][0]']               \n",
            " ose)                                                                                             \n",
            "                                                                                                  \n",
            " concatenate (Concatenate)      (None, 16, 16, 256)  0           ['conv2d_transpose[0][0]',       \n",
            "                                                                  'conv2d_7[0][0]']               \n",
            "                                                                                                  \n",
            " conv2d_10 (Conv2D)             (None, 16, 16, 128)  295040      ['concatenate[0][0]']            \n",
            "                                                                                                  \n",
            " dropout_5 (Dropout)            (None, 16, 16, 128)  0           ['conv2d_10[0][0]']              \n",
            "                                                                                                  \n",
            " conv2d_11 (Conv2D)             (None, 16, 16, 128)  147584      ['dropout_5[0][0]']              \n",
            "                                                                                                  \n",
            " conv2d_transpose_1 (Conv2DTran  (None, 32, 32, 64)  32832       ['conv2d_11[0][0]']              \n",
            " spose)                                                                                           \n",
            "                                                                                                  \n",
            " concatenate_1 (Concatenate)    (None, 32, 32, 128)  0           ['conv2d_transpose_1[0][0]',     \n",
            "                                                                  'conv2d_5[0][0]']               \n",
            "                                                                                                  \n",
            " conv2d_12 (Conv2D)             (None, 32, 32, 64)   73792       ['concatenate_1[0][0]']          \n",
            "                                                                                                  \n",
            " dropout_6 (Dropout)            (None, 32, 32, 64)   0           ['conv2d_12[0][0]']              \n",
            "                                                                                                  \n",
            " conv2d_13 (Conv2D)             (None, 32, 32, 64)   36928       ['dropout_6[0][0]']              \n",
            "                                                                                                  \n",
            " conv2d_transpose_2 (Conv2DTran  (None, 64, 64, 32)  8224        ['conv2d_13[0][0]']              \n",
            " spose)                                                                                           \n",
            "                                                                                                  \n",
            " concatenate_2 (Concatenate)    (None, 64, 64, 64)   0           ['conv2d_transpose_2[0][0]',     \n",
            "                                                                  'conv2d_3[0][0]']               \n",
            "                                                                                                  \n",
            " conv2d_14 (Conv2D)             (None, 64, 64, 32)   18464       ['concatenate_2[0][0]']          \n",
            "                                                                                                  \n",
            " dropout_7 (Dropout)            (None, 64, 64, 32)   0           ['conv2d_14[0][0]']              \n",
            "                                                                                                  \n",
            " conv2d_15 (Conv2D)             (None, 64, 64, 32)   9248        ['dropout_7[0][0]']              \n",
            "                                                                                                  \n",
            " conv2d_transpose_3 (Conv2DTran  (None, 128, 128, 16  2064       ['conv2d_15[0][0]']              \n",
            " spose)                         )                                                                 \n",
            "                                                                                                  \n",
            " concatenate_3 (Concatenate)    (None, 128, 128, 32  0           ['conv2d_transpose_3[0][0]',     \n",
            "                                )                                 'conv2d_1[0][0]']               \n",
            "                                                                                                  \n",
            " conv2d_16 (Conv2D)             (None, 128, 128, 16  4624        ['concatenate_3[0][0]']          \n",
            "                                )                                                                 \n",
            "                                                                                                  \n",
            " dropout_8 (Dropout)            (None, 128, 128, 16  0           ['conv2d_16[0][0]']              \n",
            "                                )                                                                 \n",
            "                                                                                                  \n",
            " conv2d_17 (Conv2D)             (None, 128, 128, 16  2320        ['dropout_8[0][0]']              \n",
            "                                )                                                                 \n",
            "                                                                                                  \n",
            " conv2d_18 (Conv2D)             (None, 128, 128, 4)  68          ['conv2d_17[0][0]']              \n",
            "                                                                                                  \n",
            "==================================================================================================\n",
            "Total params: 1,940,868\n",
            "Trainable params: 1,940,868\n",
            "Non-trainable params: 0\n",
            "__________________________________________________________________________________________________\n"
          ]
        }
      ],
      "source": [
        "model =  multi_unet_model(  n_classes=4, IMG_HEIGHT=IMG_HEIGHT, IMG_WIDTH=IMG_WIDTH, IMG_CHANNELS=IMG_CHANNELS)"
      ]
    },
    {
      "cell_type": "code",
      "execution_count": 20,
      "metadata": {
        "id": "qQKFOSFSQq5b"
      },
      "outputs": [],
      "source": [
        "model.compile(optimizer='adam', loss='categorical_crossentropy', metrics=metrics)"
      ]
    },
    {
      "cell_type": "code",
      "execution_count": null,
      "metadata": {
        "colab": {
          "base_uri": "https://localhost:8080/"
        },
        "id": "pUnc6xw2QucS",
        "outputId": "99a13a9c-90f6-4454-8f81-b27f472e5f5d"
      },
      "outputs": [
        {
          "output_type": "stream",
          "name": "stdout",
          "text": [
            "Epoch 1/25\n",
            "113/113 [==============================] - 36s 202ms/step - loss: 0.2233 - accuracy: 0.9373 - jacard_coef: 0.8243 - val_loss: 0.1350 - val_accuracy: 0.9601 - val_jacard_coef: 0.8654\n",
            "Epoch 2/25\n",
            "113/113 [==============================] - 19s 169ms/step - loss: 0.1266 - accuracy: 0.9593 - jacard_coef: 0.8855 - val_loss: 0.1266 - val_accuracy: 0.9601 - val_jacard_coef: 0.8921\n",
            "Epoch 3/25\n",
            "113/113 [==============================] - 19s 169ms/step - loss: 0.1151 - accuracy: 0.9593 - jacard_coef: 0.8933 - val_loss: 0.1141 - val_accuracy: 0.9602 - val_jacard_coef: 0.8979\n",
            "Epoch 4/25\n",
            "113/113 [==============================] - 19s 168ms/step - loss: 0.1061 - accuracy: 0.9609 - jacard_coef: 0.9000 - val_loss: 0.1046 - val_accuracy: 0.9633 - val_jacard_coef: 0.9082\n",
            "Epoch 5/25\n",
            "113/113 [==============================] - 19s 168ms/step - loss: 0.0971 - accuracy: 0.9651 - jacard_coef: 0.9072 - val_loss: 0.0952 - val_accuracy: 0.9658 - val_jacard_coef: 0.9137\n",
            "Epoch 6/25\n",
            "113/113 [==============================] - 19s 168ms/step - loss: 0.0854 - accuracy: 0.9683 - jacard_coef: 0.9157 - val_loss: 0.0824 - val_accuracy: 0.9704 - val_jacard_coef: 0.9232\n",
            "Epoch 7/25\n",
            "113/113 [==============================] - 19s 168ms/step - loss: 0.0757 - accuracy: 0.9728 - jacard_coef: 0.9244 - val_loss: 0.0695 - val_accuracy: 0.9753 - val_jacard_coef: 0.9297\n",
            "Epoch 8/25\n",
            "113/113 [==============================] - 19s 168ms/step - loss: 0.0670 - accuracy: 0.9760 - jacard_coef: 0.9328 - val_loss: 0.0627 - val_accuracy: 0.9777 - val_jacard_coef: 0.9354\n",
            "Epoch 9/25\n",
            "113/113 [==============================] - 19s 167ms/step - loss: 0.0609 - accuracy: 0.9781 - jacard_coef: 0.9385 - val_loss: 0.0568 - val_accuracy: 0.9796 - val_jacard_coef: 0.9409\n",
            "Epoch 10/25\n",
            "113/113 [==============================] - 19s 167ms/step - loss: 0.0562 - accuracy: 0.9798 - jacard_coef: 0.9429 - val_loss: 0.0518 - val_accuracy: 0.9815 - val_jacard_coef: 0.9469\n",
            "Epoch 11/25\n",
            "113/113 [==============================] - 19s 167ms/step - loss: 0.0524 - accuracy: 0.9811 - jacard_coef: 0.9465 - val_loss: 0.0478 - val_accuracy: 0.9829 - val_jacard_coef: 0.9506\n",
            "Epoch 12/25\n",
            "113/113 [==============================] - 19s 167ms/step - loss: 0.0435 - accuracy: 0.9843 - jacard_coef: 0.9553 - val_loss: 0.0403 - val_accuracy: 0.9856 - val_jacard_coef: 0.9598\n",
            "Epoch 17/25\n",
            "113/113 [==============================] - 19s 167ms/step - loss: 0.0422 - accuracy: 0.9847 - jacard_coef: 0.9565 - val_loss: 0.0391 - val_accuracy: 0.9859 - val_jacard_coef: 0.9595\n",
            "Epoch 18/25\n",
            "113/113 [==============================] - 19s 167ms/step - loss: 0.0408 - accuracy: 0.9852 - jacard_coef: 0.9579 - val_loss: 0.0387 - val_accuracy: 0.9861 - val_jacard_coef: 0.9592\n",
            "Epoch 19/25\n",
            "113/113 [==============================] - 19s 167ms/step - loss: 0.0401 - accuracy: 0.9855 - jacard_coef: 0.9586 - val_loss: 0.0371 - val_accuracy: 0.9867 - val_jacard_coef: 0.9622\n",
            "Epoch 20/25\n",
            "113/113 [==============================] - 19s 168ms/step - loss: 0.0392 - accuracy: 0.9858 - jacard_coef: 0.9595 - val_loss: 0.0372 - val_accuracy: 0.9866 - val_jacard_coef: 0.9613\n",
            "Epoch 21/25\n",
            "113/113 [==============================] - 19s 167ms/step - loss: 0.0386 - accuracy: 0.9861 - jacard_coef: 0.9602 - val_loss: 0.0359 - val_accuracy: 0.9871 - val_jacard_coef: 0.9638\n",
            "Epoch 22/25\n",
            "113/113 [==============================] - 19s 168ms/step - loss: 0.0380 - accuracy: 0.9863 - jacard_coef: 0.9607 - val_loss: 0.0357 - val_accuracy: 0.9872 - val_jacard_coef: 0.9630\n",
            "Epoch 23/25\n",
            "113/113 [==============================] - 19s 167ms/step - loss: 0.0372 - accuracy: 0.9866 - jacard_coef: 0.9616 - val_loss: 0.0360 - val_accuracy: 0.9870 - val_jacard_coef: 0.9619\n",
            "Epoch 24/25\n",
            "113/113 [==============================] - 19s 168ms/step - loss: 0.0368 - accuracy: 0.9867 - jacard_coef: 0.9619 - val_loss: 0.0356 - val_accuracy: 0.9873 - val_jacard_coef: 0.9632\n",
            "Epoch 25/25\n",
            "113/113 [==============================] - 19s 167ms/step - loss: 0.0362 - accuracy: 0.9869 - jacard_coef: 0.9626 - val_loss: 0.0355 - val_accuracy: 0.9873 - val_jacard_coef: 0.9641\n"
          ]
        }
      ],
      "source": [
        "history1 = model.fit( trainX, masks_cat, \n",
        "                    batch_size = 64, \n",
        "                    \n",
        "                    epochs=25, \n",
        "                    validation_data=(valX[0:1000], masks_cat_val), shuffle=False)"
      ]
    },
    {
      "cell_type": "code",
      "execution_count": null,
      "metadata": {
        "colab": {
          "base_uri": "https://localhost:8080/",
          "height": 833
        },
        "id": "ucnj3K_QQw6X",
        "outputId": "df395eb5-abc1-44b7-e370-488abafe3e7d"
      },
      "outputs": [
        {
          "output_type": "execute_result",
          "data": {
            "text/plain": [
              "        loss  accuracy  jacard_coef  val_loss  val_accuracy  val_jacard_coef\n",
              "0   0.223284  0.937274     0.824326  0.135024      0.960108         0.865368\n",
              "1   0.126553  0.959252     0.885451  0.126582      0.960108         0.892149\n",
              "2   0.115139  0.959274     0.893323  0.114057      0.960159         0.897873\n",
              "3   0.106098  0.960915     0.900000  0.104633      0.963318         0.908193\n",
              "4   0.097105  0.965110     0.907180  0.095247      0.965769         0.913740\n",
              "5   0.085376  0.968332     0.915742  0.082357      0.970419         0.923180\n",
              "6   0.075699  0.972769     0.924427  0.069489      0.975308         0.929658\n",
              "7   0.067024  0.976028     0.932797  0.062665      0.977670         0.935359\n",
              "8   0.060913  0.978147     0.938506  0.056766      0.979627         0.940854\n",
              "9   0.056218  0.979787     0.942911  0.051768      0.981500         0.946867\n",
              "10  0.052425  0.981130     0.946537  0.047754      0.982891         0.950591\n",
              "11  0.049478  0.982119     0.949338  0.045869      0.983485         0.952106\n",
              "12  0.047750  0.982757     0.951049  0.043844      0.984209         0.954956\n",
              "13  0.045863  0.983410     0.952854  0.042910      0.984594         0.956097\n",
              "14  0.044620  0.983864     0.954117  0.041196      0.985113         0.957014\n",
              "15  0.043454  0.984293     0.955293  0.040345      0.985594         0.959774\n",
              "16  0.042234  0.984727     0.956481  0.039122      0.985916         0.959503\n",
              "17  0.040779  0.985237     0.957877  0.038746      0.986134         0.959227\n",
              "18  0.040081  0.985532     0.958638  0.037126      0.986670         0.962154\n",
              "19  0.039195  0.985813     0.959488  0.037159      0.986633         0.961324\n",
              "20  0.038569  0.986057     0.960151  0.035878      0.987133         0.963767\n",
              "21  0.038027  0.986279     0.960713  0.035681      0.987186         0.963029\n",
              "22  0.037161  0.986585     0.961610  0.036006      0.987032         0.961853\n",
              "23  0.036818  0.986713     0.961943  0.035585      0.987318         0.963196\n",
              "24  0.036179  0.986929     0.962580  0.035487      0.987277         0.964063"
            ],
            "text/html": [
              "\n",
              "  <div id=\"df-91727b06-1500-46ef-968c-90fb0919178d\">\n",
              "    <div class=\"colab-df-container\">\n",
              "      <div>\n",
              "<style scoped>\n",
              "    .dataframe tbody tr th:only-of-type {\n",
              "        vertical-align: middle;\n",
              "    }\n",
              "\n",
              "    .dataframe tbody tr th {\n",
              "        vertical-align: top;\n",
              "    }\n",
              "\n",
              "    .dataframe thead th {\n",
              "        text-align: right;\n",
              "    }\n",
              "</style>\n",
              "<table border=\"1\" class=\"dataframe\">\n",
              "  <thead>\n",
              "    <tr style=\"text-align: right;\">\n",
              "      <th></th>\n",
              "      <th>loss</th>\n",
              "      <th>accuracy</th>\n",
              "      <th>jacard_coef</th>\n",
              "      <th>val_loss</th>\n",
              "      <th>val_accuracy</th>\n",
              "      <th>val_jacard_coef</th>\n",
              "    </tr>\n",
              "  </thead>\n",
              "  <tbody>\n",
              "    <tr>\n",
              "      <th>0</th>\n",
              "      <td>0.223284</td>\n",
              "      <td>0.937274</td>\n",
              "      <td>0.824326</td>\n",
              "      <td>0.135024</td>\n",
              "      <td>0.960108</td>\n",
              "      <td>0.865368</td>\n",
              "    </tr>\n",
              "    <tr>\n",
              "      <th>1</th>\n",
              "      <td>0.126553</td>\n",
              "      <td>0.959252</td>\n",
              "      <td>0.885451</td>\n",
              "      <td>0.126582</td>\n",
              "      <td>0.960108</td>\n",
              "      <td>0.892149</td>\n",
              "    </tr>\n",
              "    <tr>\n",
              "      <th>2</th>\n",
              "      <td>0.115139</td>\n",
              "      <td>0.959274</td>\n",
              "      <td>0.893323</td>\n",
              "      <td>0.114057</td>\n",
              "      <td>0.960159</td>\n",
              "      <td>0.897873</td>\n",
              "    </tr>\n",
              "    <tr>\n",
              "      <th>3</th>\n",
              "      <td>0.106098</td>\n",
              "      <td>0.960915</td>\n",
              "      <td>0.900000</td>\n",
              "      <td>0.104633</td>\n",
              "      <td>0.963318</td>\n",
              "      <td>0.908193</td>\n",
              "    </tr>\n",
              "    <tr>\n",
              "      <th>4</th>\n",
              "      <td>0.097105</td>\n",
              "      <td>0.965110</td>\n",
              "      <td>0.907180</td>\n",
              "      <td>0.095247</td>\n",
              "      <td>0.965769</td>\n",
              "      <td>0.913740</td>\n",
              "    </tr>\n",
              "    <tr>\n",
              "      <th>5</th>\n",
              "      <td>0.085376</td>\n",
              "      <td>0.968332</td>\n",
              "      <td>0.915742</td>\n",
              "      <td>0.082357</td>\n",
              "      <td>0.970419</td>\n",
              "      <td>0.923180</td>\n",
              "    </tr>\n",
              "    <tr>\n",
              "      <th>6</th>\n",
              "      <td>0.075699</td>\n",
              "      <td>0.972769</td>\n",
              "      <td>0.924427</td>\n",
              "      <td>0.069489</td>\n",
              "      <td>0.975308</td>\n",
              "      <td>0.929658</td>\n",
              "    </tr>\n",
              "    <tr>\n",
              "      <th>7</th>\n",
              "      <td>0.067024</td>\n",
              "      <td>0.976028</td>\n",
              "      <td>0.932797</td>\n",
              "      <td>0.062665</td>\n",
              "      <td>0.977670</td>\n",
              "      <td>0.935359</td>\n",
              "    </tr>\n",
              "    <tr>\n",
              "      <th>8</th>\n",
              "      <td>0.060913</td>\n",
              "      <td>0.978147</td>\n",
              "      <td>0.938506</td>\n",
              "      <td>0.056766</td>\n",
              "      <td>0.979627</td>\n",
              "      <td>0.940854</td>\n",
              "    </tr>\n",
              "    <tr>\n",
              "      <th>9</th>\n",
              "      <td>0.056218</td>\n",
              "      <td>0.979787</td>\n",
              "      <td>0.942911</td>\n",
              "      <td>0.051768</td>\n",
              "      <td>0.981500</td>\n",
              "      <td>0.946867</td>\n",
              "    </tr>\n",
              "    <tr>\n",
              "      <th>10</th>\n",
              "      <td>0.052425</td>\n",
              "      <td>0.981130</td>\n",
              "      <td>0.946537</td>\n",
              "      <td>0.047754</td>\n",
              "      <td>0.982891</td>\n",
              "      <td>0.950591</td>\n",
              "    </tr>\n",
              "    <tr>\n",
              "      <th>11</th>\n",
              "      <td>0.049478</td>\n",
              "      <td>0.982119</td>\n",
              "      <td>0.949338</td>\n",
              "      <td>0.045869</td>\n",
              "      <td>0.983485</td>\n",
              "      <td>0.952106</td>\n",
              "    </tr>\n",
              "    <tr>\n",
              "      <th>12</th>\n",
              "      <td>0.047750</td>\n",
              "      <td>0.982757</td>\n",
              "      <td>0.951049</td>\n",
              "      <td>0.043844</td>\n",
              "      <td>0.984209</td>\n",
              "      <td>0.954956</td>\n",
              "    </tr>\n",
              "    <tr>\n",
              "      <th>13</th>\n",
              "      <td>0.045863</td>\n",
              "      <td>0.983410</td>\n",
              "      <td>0.952854</td>\n",
              "      <td>0.042910</td>\n",
              "      <td>0.984594</td>\n",
              "      <td>0.956097</td>\n",
              "    </tr>\n",
              "    <tr>\n",
              "      <th>14</th>\n",
              "      <td>0.044620</td>\n",
              "      <td>0.983864</td>\n",
              "      <td>0.954117</td>\n",
              "      <td>0.041196</td>\n",
              "      <td>0.985113</td>\n",
              "      <td>0.957014</td>\n",
              "    </tr>\n",
              "    <tr>\n",
              "      <th>15</th>\n",
              "      <td>0.043454</td>\n",
              "      <td>0.984293</td>\n",
              "      <td>0.955293</td>\n",
              "      <td>0.040345</td>\n",
              "      <td>0.985594</td>\n",
              "      <td>0.959774</td>\n",
              "    </tr>\n",
              "    <tr>\n",
              "      <th>16</th>\n",
              "      <td>0.042234</td>\n",
              "      <td>0.984727</td>\n",
              "      <td>0.956481</td>\n",
              "      <td>0.039122</td>\n",
              "      <td>0.985916</td>\n",
              "      <td>0.959503</td>\n",
              "    </tr>\n",
              "    <tr>\n",
              "      <th>17</th>\n",
              "      <td>0.040779</td>\n",
              "      <td>0.985237</td>\n",
              "      <td>0.957877</td>\n",
              "      <td>0.038746</td>\n",
              "      <td>0.986134</td>\n",
              "      <td>0.959227</td>\n",
              "    </tr>\n",
              "    <tr>\n",
              "      <th>18</th>\n",
              "      <td>0.040081</td>\n",
              "      <td>0.985532</td>\n",
              "      <td>0.958638</td>\n",
              "      <td>0.037126</td>\n",
              "      <td>0.986670</td>\n",
              "      <td>0.962154</td>\n",
              "    </tr>\n",
              "    <tr>\n",
              "      <th>19</th>\n",
              "      <td>0.039195</td>\n",
              "      <td>0.985813</td>\n",
              "      <td>0.959488</td>\n",
              "      <td>0.037159</td>\n",
              "      <td>0.986633</td>\n",
              "      <td>0.961324</td>\n",
              "    </tr>\n",
              "    <tr>\n",
              "      <th>20</th>\n",
              "      <td>0.038569</td>\n",
              "      <td>0.986057</td>\n",
              "      <td>0.960151</td>\n",
              "      <td>0.035878</td>\n",
              "      <td>0.987133</td>\n",
              "      <td>0.963767</td>\n",
              "    </tr>\n",
              "    <tr>\n",
              "      <th>21</th>\n",
              "      <td>0.038027</td>\n",
              "      <td>0.986279</td>\n",
              "      <td>0.960713</td>\n",
              "      <td>0.035681</td>\n",
              "      <td>0.987186</td>\n",
              "      <td>0.963029</td>\n",
              "    </tr>\n",
              "    <tr>\n",
              "      <th>22</th>\n",
              "      <td>0.037161</td>\n",
              "      <td>0.986585</td>\n",
              "      <td>0.961610</td>\n",
              "      <td>0.036006</td>\n",
              "      <td>0.987032</td>\n",
              "      <td>0.961853</td>\n",
              "    </tr>\n",
              "    <tr>\n",
              "      <th>23</th>\n",
              "      <td>0.036818</td>\n",
              "      <td>0.986713</td>\n",
              "      <td>0.961943</td>\n",
              "      <td>0.035585</td>\n",
              "      <td>0.987318</td>\n",
              "      <td>0.963196</td>\n",
              "    </tr>\n",
              "    <tr>\n",
              "      <th>24</th>\n",
              "      <td>0.036179</td>\n",
              "      <td>0.986929</td>\n",
              "      <td>0.962580</td>\n",
              "      <td>0.035487</td>\n",
              "      <td>0.987277</td>\n",
              "      <td>0.964063</td>\n",
              "    </tr>\n",
              "  </tbody>\n",
              "</table>\n",
              "</div>\n",
              "      <button class=\"colab-df-convert\" onclick=\"convertToInteractive('df-91727b06-1500-46ef-968c-90fb0919178d')\"\n",
              "              title=\"Convert this dataframe to an interactive table.\"\n",
              "              style=\"display:none;\">\n",
              "        \n",
              "  <svg xmlns=\"http://www.w3.org/2000/svg\" height=\"24px\"viewBox=\"0 0 24 24\"\n",
              "       width=\"24px\">\n",
              "    <path d=\"M0 0h24v24H0V0z\" fill=\"none\"/>\n",
              "    <path d=\"M18.56 5.44l.94 2.06.94-2.06 2.06-.94-2.06-.94-.94-2.06-.94 2.06-2.06.94zm-11 1L8.5 8.5l.94-2.06 2.06-.94-2.06-.94L8.5 2.5l-.94 2.06-2.06.94zm10 10l.94 2.06.94-2.06 2.06-.94-2.06-.94-.94-2.06-.94 2.06-2.06.94z\"/><path d=\"M17.41 7.96l-1.37-1.37c-.4-.4-.92-.59-1.43-.59-.52 0-1.04.2-1.43.59L10.3 9.45l-7.72 7.72c-.78.78-.78 2.05 0 2.83L4 21.41c.39.39.9.59 1.41.59.51 0 1.02-.2 1.41-.59l7.78-7.78 2.81-2.81c.8-.78.8-2.07 0-2.86zM5.41 20L4 18.59l7.72-7.72 1.47 1.35L5.41 20z\"/>\n",
              "  </svg>\n",
              "      </button>\n",
              "      \n",
              "  <style>\n",
              "    .colab-df-container {\n",
              "      display:flex;\n",
              "      flex-wrap:wrap;\n",
              "      gap: 12px;\n",
              "    }\n",
              "\n",
              "    .colab-df-convert {\n",
              "      background-color: #E8F0FE;\n",
              "      border: none;\n",
              "      border-radius: 50%;\n",
              "      cursor: pointer;\n",
              "      display: none;\n",
              "      fill: #1967D2;\n",
              "      height: 32px;\n",
              "      padding: 0 0 0 0;\n",
              "      width: 32px;\n",
              "    }\n",
              "\n",
              "    .colab-df-convert:hover {\n",
              "      background-color: #E2EBFA;\n",
              "      box-shadow: 0px 1px 2px rgba(60, 64, 67, 0.3), 0px 1px 3px 1px rgba(60, 64, 67, 0.15);\n",
              "      fill: #174EA6;\n",
              "    }\n",
              "\n",
              "    [theme=dark] .colab-df-convert {\n",
              "      background-color: #3B4455;\n",
              "      fill: #D2E3FC;\n",
              "    }\n",
              "\n",
              "    [theme=dark] .colab-df-convert:hover {\n",
              "      background-color: #434B5C;\n",
              "      box-shadow: 0px 1px 3px 1px rgba(0, 0, 0, 0.15);\n",
              "      filter: drop-shadow(0px 1px 2px rgba(0, 0, 0, 0.3));\n",
              "      fill: #FFFFFF;\n",
              "    }\n",
              "  </style>\n",
              "\n",
              "      <script>\n",
              "        const buttonEl =\n",
              "          document.querySelector('#df-91727b06-1500-46ef-968c-90fb0919178d button.colab-df-convert');\n",
              "        buttonEl.style.display =\n",
              "          google.colab.kernel.accessAllowed ? 'block' : 'none';\n",
              "\n",
              "        async function convertToInteractive(key) {\n",
              "          const element = document.querySelector('#df-91727b06-1500-46ef-968c-90fb0919178d');\n",
              "          const dataTable =\n",
              "            await google.colab.kernel.invokeFunction('convertToInteractive',\n",
              "                                                     [key], {});\n",
              "          if (!dataTable) return;\n",
              "\n",
              "          const docLinkHtml = 'Like what you see? Visit the ' +\n",
              "            '<a target=\"_blank\" href=https://colab.research.google.com/notebooks/data_table.ipynb>data table notebook</a>'\n",
              "            + ' to learn more about interactive tables.';\n",
              "          element.innerHTML = '';\n",
              "          dataTable['output_type'] = 'display_data';\n",
              "          await google.colab.output.renderOutput(dataTable, element);\n",
              "          const docLink = document.createElement('div');\n",
              "          docLink.innerHTML = docLinkHtml;\n",
              "          element.appendChild(docLink);\n",
              "        }\n",
              "      </script>\n",
              "    </div>\n",
              "  </div>\n",
              "  "
            ]
          },
          "metadata": {},
          "execution_count": 21
        }
      ],
      "source": [
        "hist_df1 = pd.DataFrame(history1.history)\n",
        "hist_df1.to_csv('history1.csv')\n",
        "hist_df1"
      ]
    },
    {
      "cell_type": "code",
      "execution_count": null,
      "metadata": {
        "colab": {
          "base_uri": "https://localhost:8080/",
          "height": 320
        },
        "id": "2oIniwrCWBZ3",
        "outputId": "d17b06ec-5f6f-4ac7-dccb-a407be22eb62"
      },
      "outputs": [
        {
          "output_type": "display_data",
          "data": {
            "text/plain": [
              "<Figure size 1440x360 with 1 Axes>"
            ],
            "image/png": "[encoded data removed]"
          },
          "metadata": {
            "needs_background": "light"
          }
        }
      ],
      "source": [
        "loss = history1.history['loss']\n",
        "val_loss = history1.history['val_loss']\n",
        "\n",
        "\n",
        "\n",
        "epochs = range(1, len(loss) + 1)\n",
        "\n",
        "plt.figure(figsize=(20, 5))\n",
        "\n",
        "# loss\n",
        "plt.subplot(1,3,1)\n",
        "plt.plot(epochs, loss, 'bo', label = 'Trainig loss')\n",
        "plt.plot(epochs, val_loss, 'r', label = 'Validation loss')\n",
        "plt.legend()\n",
        "\n",
        "plt.show()"
      ]
    },
    {
      "cell_type": "code",
      "execution_count": null,
      "metadata": {
        "colab": {
          "base_uri": "https://localhost:8080/"
        },
        "id": "KDpMD-Uyl34Q",
        "outputId": "ca462ab6-7dda-437e-ea86-8563b8fd1ce3"
      },
      "outputs": [
        {
          "output_type": "stream",
          "name": "stdout",
          "text": [
            "32/32 [==============================] - 1s 40ms/step - loss: 0.0357 - accuracy: 0.9871 - jacard_coef: 0.9635\n"
          ]
        },
        {
          "output_type": "execute_result",
          "data": {
            "text/plain": [
              "[0.035724490880966187, 0.9870994687080383, 0.9634848833084106]"
            ]
          },
          "metadata": {},
          "execution_count": 20
        }
      ],
      "source": [
        "model.evaluate(valX[0:1000],masks_cat_val)"
      ]
    },
    {
      "cell_type": "code",
      "execution_count": 21,
      "metadata": {
        "colab": {
          "base_uri": "https://localhost:8080/",
          "height": 278
        },
        "id": "QpNEW_49yHqF",
        "outputId": "2382e3cf-0e37-41d9-c4a3-6f095900657a"
      },
      "outputs": [
        {
          "output_type": "stream",
          "name": "stdout",
          "text": [
            "1/1 [==============================] - 1s 739ms/step\n"
          ]
        },
        {
          "output_type": "display_data",
          "data": {
            "text/plain": [
              "<Figure size 864x576 with 3 Axes>"
            ],
            "image/png": "[encoded data removed]"
          },
          "metadata": {
            "needs_background": "light"
          }
        }
      ],
      "source": [
        "import random\n",
        "\n",
        "test_img_number = random.randrange(0,350,1)\n",
        "test_img = valX[1000+test_img_number]\n",
        "ground_truth=valX[test_img_number]\n",
        "test_img_norm=test_img[:,:,0][:,:,None]\n",
        "test_img_input=np.expand_dims(test_img_norm, 0)\n",
        "prediction = (model.predict(test_img_input))\n",
        "predicted_img=np.argmax(prediction, axis=3)[0,:,:]\n",
        "\n",
        "\n",
        "plt.figure(figsize=(12, 8))\n",
        "plt.subplot(231)\n",
        "plt.title('Testing Image')\n",
        "plt.imshow(test_img[:,:,0,0], cmap='gray')\n",
        "plt.subplot(232)\n",
        "plt.title('Testing Label')\n",
        "plt.imshow(np.argmax(masks_cat_test[0], axis=2), cmap='bone')\n",
        "plt.subplot(233)\n",
        "plt.title('Prediction on test image')\n",
        "plt.imshow(predicted_img, cmap='bone')\n",
        "plt.show()\n",
        "# test_img_number+=1\n"
      ]
    },
    {
      "cell_type": "code",
      "source": [
        "import random\n",
        "\n",
        "test_img_number = random.randrange(0,350,1)\n",
        "test_img = valX[1000+test_img_number]\n",
        "ground_truth=valX[test_img_number]\n",
        "test_img_norm=test_img[:,:,0][:,:,None]\n",
        "test_img_input=np.expand_dims(test_img_norm, 0)\n",
        "prediction = (model.predict(test_img_input))\n",
        "predicted_img=np.argmax(prediction, axis=3)[0,:,:]\n",
        "\n",
        "\n",
        "plt.figure(figsize=(12, 8))\n",
        "plt.subplot(251)\n",
        "plt.title('Testing Image')\n",
        "plt.imshow(test_img[:,:,0,0], cmap='gray')\n",
        "plt.subplot(252)\n",
        "plt.title('Testing Label')\n",
        "plt.imshow(np.argmax(masks_cat_test[test_img_number], axis=2), cmap='bone')\n",
        "plt.subplot(253)\n",
        "plt.title('Prediction on test image')\n",
        "plt.imshow(predicted_img, cmap='bone')\n",
        "\n",
        "test_img_number = random.randrange(0,350,1)\n",
        "test_img = valX[1000+test_img_number]\n",
        "ground_truth=valX[test_img_number]\n",
        "test_img_norm=test_img[:,:,0][:,:,None]\n",
        "test_img_input=np.expand_dims(test_img_norm, 0)\n",
        "prediction = (model.predict(test_img_input))\n",
        "predicted_img=np.argmax(prediction, axis=3)[0,:,:]\n",
        "\n",
        "\n",
        "plt.figure(figsize=(12, 8))\n",
        "plt.subplot(151)\n",
        "plt.title('Testing Image')\n",
        "plt.imshow(test_img[:,:,0,0], cmap='gray')\n",
        "plt.subplot(152)\n",
        "plt.title('Testing Label')\n",
        "plt.imshow(np.argmax(masks_cat_test[test_img_number], axis=2), cmap='bone')\n",
        "plt.subplot(153)\n",
        "plt.title('Prediction on test image')\n",
        "plt.imshow(predicted_img, cmap='bone')\n",
        "\n",
        "test_img_number = random.randrange(0,350,1)\n",
        "test_img = valX[1000+test_img_number]\n",
        "ground_truth=valX[test_img_number]\n",
        "test_img_norm=test_img[:,:,0][:,:,None]\n",
        "test_img_input=np.expand_dims(test_img_norm, 0)\n",
        "prediction = (model.predict(test_img_input))\n",
        "predicted_img=np.argmax(prediction, axis=3)[0,:,:]\n",
        "\n",
        "\n",
        "plt.figure(figsize=(12, 8))\n",
        "plt.subplot(351)\n",
        "plt.title('Testing Image')\n",
        "plt.imshow(test_img[:,:,0,0], cmap='gray')\n",
        "plt.subplot(352)\n",
        "plt.title('Testing Label')\n",
        "plt.imshow(np.argmax(masks_cat_test[test_img_number], axis=2), cmap='bone')\n",
        "plt.subplot(353)\n",
        "plt.title('Prediction on test image')\n",
        "plt.imshow(predicted_img, cmap='bone')\n",
        "\n",
        "test_img_number = random.randrange(0,350,1)\n",
        "test_img = valX[1000+test_img_number]\n",
        "ground_truth=valX[test_img_number]\n",
        "test_img_norm=test_img[:,:,0][:,:,None]\n",
        "test_img_input=np.expand_dims(test_img_norm, 0)\n",
        "prediction = (model.predict(test_img_input))\n",
        "predicted_img=np.argmax(prediction, axis=3)[0,:,:]\n",
        "\n",
        "\n",
        "plt.figure(figsize=(12, 8))\n",
        "plt.subplot(351)\n",
        "plt.title('Testing Image')\n",
        "plt.imshow(test_img[:,:,0,0], cmap='gray')\n",
        "plt.subplot(352)\n",
        "plt.title('Testing Label')\n",
        "plt.imshow(np.argmax(masks_cat_test[test_img_number], axis=2), cmap='bone')\n",
        "plt.subplot(353)\n",
        "plt.title('Prediction on test image')\n",
        "plt.imshow(predicted_img, cmap='bone')\n",
        "plt.show()"
      ],
      "metadata": {
        "colab": {
          "base_uri": "https://localhost:8080/",
          "height": 734
        },
        "id": "w7VbtU7lBkz_",
        "outputId": "761f6a24-bb2c-4c7d-8744-58fb37f66321"
      },
      "execution_count": 34,
      "outputs": [
        {
          "output_type": "stream",
          "name": "stdout",
          "text": [
            "1/1 [==============================] - 0s 88ms/step\n",
            "1/1 [==============================] - 0s 65ms/step\n",
            "1/1 [==============================] - 0s 71ms/step\n",
            "1/1 [==============================] - 0s 84ms/step\n"
          ]
        },
        {
          "output_type": "display_data",
          "data": {
            "text/plain": [
              "<Figure size 864x576 with 3 Axes>"
            ],
            "image/png": "[encoded data removed]"
          },
          "metadata": {
            "needs_background": "light"
          }
        },
        {
          "output_type": "display_data",
          "data": {
            "text/plain": [
              "<Figure size 864x576 with 3 Axes>"
            ],
            "image/png": "[encoded data removed]"
          },
          "metadata": {
            "needs_background": "light"
          }
        },
        {
          "output_type": "display_data",
          "data": {
            "text/plain": [
              "<Figure size 864x576 with 3 Axes>"
            ],
            "image/png": "[encoded data removed]"
          },
          "metadata": {
            "needs_background": "light"
          }
        },
        {
          "output_type": "display_data",
          "data": {
            "text/plain": [
              "<Figure size 864x576 with 3 Axes>"
            ],
            "image/png": "[encoded data removed]"
          },
          "metadata": {
            "needs_background": "light"
          }
        }
      ]
    },
    {
      "cell_type": "code",
      "source": [
        "import random\n",
        "\n",
        "test_img_number = random.randrange(0,350,1)\n",
        "test_img = valX[1000+test_img_number]\n",
        "ground_truth=valX[test_img_number]\n",
        "test_img_norm=test_img[:,:,0][:,:,None]\n",
        "test_img_input=np.expand_dims(test_img_norm, 0)\n",
        "prediction = (model.predict(test_img_input))\n",
        "predicted_img=np.argmax(prediction, axis=3)[0,:,:]\n",
        "\n",
        "\n",
        "plt.figure(figsize=(12, 8))\n",
        "plt.subplot(231)\n",
        "plt.title('Testing Image')\n",
        "plt.imshow(test_img[:,:,0,0], cmap='gray')\n",
        "plt.subplot(232)\n",
        "plt.title('Testing Label')\n",
        "plt.imshow(np.argmax(masks_cat_test[test_img_number], axis=2), cmap='bone')\n",
        "plt.subplot(233)\n",
        "plt.title('Prediction on test image')\n",
        "plt.imshow(predicted_img, cmap='bone')"
      ],
      "metadata": {
        "colab": {
          "base_uri": "https://localhost:8080/",
          "height": 296
        },
        "id": "2I1TmHVPBwrX",
        "outputId": "bc72765d-3e72-4ea1-c708-f8f163283a66"
      },
      "execution_count": 24,
      "outputs": [
        {
          "output_type": "stream",
          "name": "stdout",
          "text": [
            "1/1 [==============================] - 0s 189ms/step\n"
          ]
        },
        {
          "output_type": "execute_result",
          "data": {
            "text/plain": [
              "<matplotlib.image.AxesImage at 0x7f0e0c831670>"
            ]
          },
          "metadata": {},
          "execution_count": 24
        },
        {
          "output_type": "display_data",
          "data": {
            "text/plain": [
              "<Figure size 864x576 with 3 Axes>"
            ],
            "image/png": "[encoded data removed]"
          },
          "metadata": {
            "needs_background": "light"
          }
        }
      ]
    }
  ],
  "metadata": {
    "accelerator": "GPU",
    "colab": {
      "provenance": []
    },
    "gpuClass": "standard",
    "kernelspec": {
      "display_name": "Python 3",
      "name": "python3"
    },
    "language_info": {
      "name": "python"
    }
  },
  "nbformat": 4,
  "nbformat_minor": 0
}