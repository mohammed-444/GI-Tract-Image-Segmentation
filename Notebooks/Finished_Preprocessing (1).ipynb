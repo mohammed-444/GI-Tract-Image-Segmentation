{
  "nbformat": 4,
  "nbformat_minor": 0,
  "metadata": {
    "colab": {
      "provenance": []
    },
    "kernelspec": {
      "name": "python3",
      "display_name": "Python 3"
    },
    "language_info": {
      "name": "python"
    }
  },
  "cells": [
    {
      "cell_type": "markdown",
      "source": [
        "Downloading the data from kaggle API"
      ],
      "metadata": {
        "id": "zpg_zrmoME9T"
      }
    },
    {
      "cell_type": "code",
      "source": [
        "!wget 'https://storage.googleapis.com/kaggle-competitions-data/kaggle-v2/27923/3495119/bundle/archive.zip?GoogleAccessId=web-data@kaggle-161607.iam.gserviceaccount.com&Expires=1673129599&Signature=Qnqv6lKODrjvQIN5E01cpdDRq66XMpR9%2BwTW8xoSw3XZOqfGJeQgqPhkK2%2F5kC19fxOjekOab8ehe%2BWEXhbE5dJuoWPDV5UsciSLux%2BkfoxP6uPGseI%2Bx%2FACuZbgc%2BNMx9U8uta8GbpEWIerO3bdlHzJHMK6J%2B%2B4E7sEH5O%2Fj0AbjlcVPPsrXOBs0D5jnptP%2Fja69nG3hr4vnamCgdepZ1AUYMxXgCpK60yjaMFjvfmdB6vFhoyrkyTxn0RHuQUdwh33arXWsbCrZfr023m8iGUwOOCqDGyDjXbBvWX6XQGtIh1Nk0ZDKKl626gJFzB9NY9w%2BbJ2VFWUDCbEqYG3%2Bg%3D%3D&response-content-disposition=attachment%3B+filename%3Duw-madison-gi-tract-image-segmentation.zip' "
      ],
      "metadata": {
        "colab": {
          "base_uri": "https://localhost:8080/"
        },
        "id": "F1eQRGBz2BSX",
        "outputId": "40177dca-d8ea-4135-eb46-a4d9600a0abe"
      },
      "execution_count": 4,
      "outputs": [
        {
          "output_type": "stream",
          "name": "stdout",
          "text": [
            "The name is too long, 548 chars total.\n",
            "Trying to shorten...\n",
            "New name is archive.zip?GoogleAccessId=web-data@kaggle-161607.iam.gserviceaccount.com&Expires=1673129599&Signature=Qnqv6lKODrjvQIN5E01cpdDRq66XMpR9+wTW8xoSw3XZOqfGJeQgqPhkK2%2F5kC19fxOjekOab8ehe+WEXhbE5dJuoWPDV5UsciSLux+kfoxP6uPGseI+x%2FACuZbgc+NMx.\n",
            "--2023-01-04 22:19:06--  https://storage.googleapis.com/kaggle-competitions-data/kaggle-v2/27923/3495119/bundle/archive.zip?GoogleAccessId=web-data@kaggle-161607.iam.gserviceaccount.com&Expires=1673129599&Signature=Qnqv6lKODrjvQIN5E01cpdDRq66XMpR9%2BwTW8xoSw3XZOqfGJeQgqPhkK2%2F5kC19fxOjekOab8ehe%2BWEXhbE5dJuoWPDV5UsciSLux%2BkfoxP6uPGseI%2Bx%2FACuZbgc%2BNMx9U8uta8GbpEWIerO3bdlHzJHMK6J%2B%2B4E7sEH5O%2Fj0AbjlcVPPsrXOBs0D5jnptP%2Fja69nG3hr4vnamCgdepZ1AUYMxXgCpK60yjaMFjvfmdB6vFhoyrkyTxn0RHuQUdwh33arXWsbCrZfr023m8iGUwOOCqDGyDjXbBvWX6XQGtIh1Nk0ZDKKl626gJFzB9NY9w%2BbJ2VFWUDCbEqYG3%2Bg%3D%3D&response-content-disposition=attachment%3B+filename%3Duw-madison-gi-tract-image-segmentation.zip\n",
            "Resolving storage.googleapis.com (storage.googleapis.com)... 173.194.202.128, 74.125.197.128, 74.125.135.128, ...\n",
            "Connecting to storage.googleapis.com (storage.googleapis.com)|173.194.202.128|:443... connected.\n",
            "HTTP request sent, awaiting response... 200 OK\n",
            "Length: 2466226116 (2.3G) [application/zip]\n",
            "Saving to: ‘archive.zip?GoogleAccessId=web-data@kaggle-161607.iam.gserviceaccount.com&Expires=1673129599&Signature=Qnqv6lKODrjvQIN5E01cpdDRq66XMpR9+wTW8xoSw3XZOqfGJeQgqPhkK2%2F5kC19fxOjekOab8ehe+WEXhbE5dJuoWPDV5UsciSLux+kfoxP6uPGseI+x%2FACuZbgc+NMx’\n",
            "\n",
            "archive.zip?GoogleA 100%[===================>]   2.30G   114MB/s    in 15s     \n",
            "\n",
            "2023-01-04 22:19:21 (160 MB/s) - ‘archive.zip?GoogleAccessId=web-data@kaggle-161607.iam.gserviceaccount.com&Expires=1673129599&Signature=Qnqv6lKODrjvQIN5E01cpdDRq66XMpR9+wTW8xoSw3XZOqfGJeQgqPhkK2%2F5kC19fxOjekOab8ehe+WEXhbE5dJuoWPDV5UsciSLux+kfoxP6uPGseI+x%2FACuZbgc+NMx’ saved [2466226116/2466226116]\n",
            "\n"
          ]
        }
      ]
    },
    {
      "cell_type": "code",
      "source": [
        "!unzip '/content/archive.zip?GoogleAccessId=web-data@kaggle-161607.iam.gserviceaccount.com&Expires=1673129599&Signature=Qnqv6lKODrjvQIN5E01cpdDRq66XMpR9+wTW8xoSw3XZOqfGJeQgqPhkK2%2F5kC19fxOjekOab8ehe+WEXhbE5dJuoWPDV5UsciSLux+kfoxP6uPGseI+x%2FACuZbgc+NMx'"
      ],
      "metadata": {
        "id": "VhQz9eQw3ufP"
      },
      "execution_count": null,
      "outputs": []
    },
    {
      "cell_type": "code",
      "execution_count": 1,
      "metadata": {
        "id": "G11pxHoO10Gp"
      },
      "outputs": [],
      "source": [
        "import numpy as np # linear algebra\n",
        "import pandas as pd # data processing, CSV file I/O (e.g. pd.read_csv)\n",
        "\n",
        "# Input data files are available in the read-only \"../input/\" directory\n",
        "# For example, running this (by clicking run or pressing Shift+Enter) will list all files under the input directory\n",
        "import pandas as pd\n",
        "import matplotlib.pyplot as plt\n",
        "import numpy as np\n",
        "import cv2\n",
        "import tensorflow as tf\n",
        "import tensorflow.keras as keras\n",
        "import os"
      ]
    },
    {
      "cell_type": "code",
      "source": [
        "df=pd.read_csv('/content/train.csv')"
      ],
      "metadata": {
        "id": "GhmRvzIO18G8"
      },
      "execution_count": 6,
      "outputs": []
    },
    {
      "cell_type": "code",
      "source": [
        "#check if the mask is nan\n",
        "def isNaN(num):\n",
        "    return num!= num"
      ],
      "metadata": {
        "id": "TTBwoWPB1-9y"
      },
      "execution_count": 7,
      "outputs": []
    },
    {
      "cell_type": "code",
      "source": [
        "#find the string in the text\n",
        "def find_string(txt, str1):\n",
        "    return txt.find(str1, txt.find(str1)+1)"
      ],
      "metadata": {
        "id": "njkqXr3v4epK"
      },
      "execution_count": 9,
      "outputs": []
    },
    {
      "cell_type": "code",
      "source": [
        "#Dividing the class column into 3 lists\n",
        "days=[]\n",
        "slices=[]\n",
        "large_bowel=[]\n",
        "small_bowel=[]\n",
        "stomach=[]\n",
        "cases=[]\n",
        "for j in range(0,115488,3):\n",
        "    cases.append(df['id'][j][0:df['id'][j].index('_')])\n",
        "    days.append(df['id'][j][df['id'][j].index('d'):find_string(df['id'][j],('_'))])\n",
        "    slices.append(df['id'][j][find_string(df['id'][j],('s'))::])\n",
        "for k in range(115488):\n",
        "    if(df['class'][k]=='large_bowel'):\n",
        "        large_bowel.append(df['segmentation'][k])\n",
        "\n",
        "    if(df['class'][k]=='small_bowel'):\n",
        "        small_bowel.append(df['segmentation'][k])\n",
        "\n",
        "    if(df['class'][k]=='stomach'):\n",
        "        stomach.append(df['segmentation'][k])"
      ],
      "metadata": {
        "id": "Wl1HCQ4769IB"
      },
      "execution_count": 10,
      "outputs": []
    },
    {
      "cell_type": "markdown",
      "source": [
        "Creating new dataFrame"
      ],
      "metadata": {
        "id": "xbsK5Jk7NA3_"
      }
    },
    {
      "cell_type": "code",
      "source": [
        "df2=0"
      ],
      "metadata": {
        "id": "AdSXX7yl7ABj"
      },
      "execution_count": 11,
      "outputs": []
    },
    {
      "cell_type": "code",
      "source": [
        "df2=pd.DataFrame(np.array(days),columns =[\"Days\"])"
      ],
      "metadata": {
        "id": "FhXWXwkX7OnV"
      },
      "execution_count": 12,
      "outputs": []
    },
    {
      "cell_type": "code",
      "source": [
        "df2.insert(1,'Slices',slices,True)"
      ],
      "metadata": {
        "id": "a599qEJg7Qxo"
      },
      "execution_count": 13,
      "outputs": []
    },
    {
      "cell_type": "code",
      "source": [
        "df2.insert(2,'Stomach',stomach,True)"
      ],
      "metadata": {
        "id": "xXxmYQk67TgY"
      },
      "execution_count": 14,
      "outputs": []
    },
    {
      "cell_type": "code",
      "source": [
        "df2.insert(3,'Small_bowel',small_bowel,True)"
      ],
      "metadata": {
        "id": "alSKHy0T7WDy"
      },
      "execution_count": 15,
      "outputs": []
    },
    {
      "cell_type": "code",
      "source": [
        "df2.insert(4,'Large_bowel',large_bowel,True)"
      ],
      "metadata": {
        "id": "1hAMXG_Y7XuI"
      },
      "execution_count": 16,
      "outputs": []
    },
    {
      "cell_type": "code",
      "source": [
        "df2.insert(5,'Cases',cases,True)"
      ],
      "metadata": {
        "id": "HAtJ7utR7Zsz"
      },
      "execution_count": 17,
      "outputs": []
    },
    {
      "cell_type": "code",
      "source": [
        "df2"
      ],
      "metadata": {
        "colab": {
          "base_uri": "https://localhost:8080/",
          "height": 424
        },
        "id": "axRlqsQL7bfV",
        "outputId": "5f953afc-3d15-40de-fa64-8fd45680f9e5"
      },
      "execution_count": 18,
      "outputs": [
        {
          "output_type": "execute_result",
          "data": {
            "text/plain": [
              "        Days      Slices Stomach Small_bowel Large_bowel    Cases\n",
              "0      day20  slice_0001     NaN         NaN         NaN  case123\n",
              "1      day20  slice_0002     NaN         NaN         NaN  case123\n",
              "2      day20  slice_0003     NaN         NaN         NaN  case123\n",
              "3      day20  slice_0004     NaN         NaN         NaN  case123\n",
              "4      day20  slice_0005     NaN         NaN         NaN  case123\n",
              "...      ...         ...     ...         ...         ...      ...\n",
              "38491   day0  slice_0140     NaN         NaN         NaN   case30\n",
              "38492   day0  slice_0141     NaN         NaN         NaN   case30\n",
              "38493   day0  slice_0142     NaN         NaN         NaN   case30\n",
              "38494   day0  slice_0143     NaN         NaN         NaN   case30\n",
              "38495   day0  slice_0144     NaN         NaN         NaN   case30\n",
              "\n",
              "[38496 rows x 6 columns]"
            ],
            "text/html": [
              "\n",
              "  <div id=\"df-551e6b49-30e4-474b-bfa3-8c6145e7e029\">\n",
              "    <div class=\"colab-df-container\">\n",
              "      <div>\n",
              "<style scoped>\n",
              "    .dataframe tbody tr th:only-of-type {\n",
              "        vertical-align: middle;\n",
              "    }\n",
              "\n",
              "    .dataframe tbody tr th {\n",
              "        vertical-align: top;\n",
              "    }\n",
              "\n",
              "    .dataframe thead th {\n",
              "        text-align: right;\n",
              "    }\n",
              "</style>\n",
              "<table border=\"1\" class=\"dataframe\">\n",
              "  <thead>\n",
              "    <tr style=\"text-align: right;\">\n",
              "      <th></th>\n",
              "      <th>Days</th>\n",
              "      <th>Slices</th>\n",
              "      <th>Stomach</th>\n",
              "      <th>Small_bowel</th>\n",
              "      <th>Large_bowel</th>\n",
              "      <th>Cases</th>\n",
              "    </tr>\n",
              "  </thead>\n",
              "  <tbody>\n",
              "    <tr>\n",
              "      <th>0</th>\n",
              "      <td>day20</td>\n",
              "      <td>slice_0001</td>\n",
              "      <td>NaN</td>\n",
              "      <td>NaN</td>\n",
              "      <td>NaN</td>\n",
              "      <td>case123</td>\n",
              "    </tr>\n",
              "    <tr>\n",
              "      <th>1</th>\n",
              "      <td>day20</td>\n",
              "      <td>slice_0002</td>\n",
              "      <td>NaN</td>\n",
              "      <td>NaN</td>\n",
              "      <td>NaN</td>\n",
              "      <td>case123</td>\n",
              "    </tr>\n",
              "    <tr>\n",
              "      <th>2</th>\n",
              "      <td>day20</td>\n",
              "      <td>slice_0003</td>\n",
              "      <td>NaN</td>\n",
              "      <td>NaN</td>\n",
              "      <td>NaN</td>\n",
              "      <td>case123</td>\n",
              "    </tr>\n",
              "    <tr>\n",
              "      <th>3</th>\n",
              "      <td>day20</td>\n",
              "      <td>slice_0004</td>\n",
              "      <td>NaN</td>\n",
              "      <td>NaN</td>\n",
              "      <td>NaN</td>\n",
              "      <td>case123</td>\n",
              "    </tr>\n",
              "    <tr>\n",
              "      <th>4</th>\n",
              "      <td>day20</td>\n",
              "      <td>slice_0005</td>\n",
              "      <td>NaN</td>\n",
              "      <td>NaN</td>\n",
              "      <td>NaN</td>\n",
              "      <td>case123</td>\n",
              "    </tr>\n",
              "    <tr>\n",
              "      <th>...</th>\n",
              "      <td>...</td>\n",
              "      <td>...</td>\n",
              "      <td>...</td>\n",
              "      <td>...</td>\n",
              "      <td>...</td>\n",
              "      <td>...</td>\n",
              "    </tr>\n",
              "    <tr>\n",
              "      <th>38491</th>\n",
              "      <td>day0</td>\n",
              "      <td>slice_0140</td>\n",
              "      <td>NaN</td>\n",
              "      <td>NaN</td>\n",
              "      <td>NaN</td>\n",
              "      <td>case30</td>\n",
              "    </tr>\n",
              "    <tr>\n",
              "      <th>38492</th>\n",
              "      <td>day0</td>\n",
              "      <td>slice_0141</td>\n",
              "      <td>NaN</td>\n",
              "      <td>NaN</td>\n",
              "      <td>NaN</td>\n",
              "      <td>case30</td>\n",
              "    </tr>\n",
              "    <tr>\n",
              "      <th>38493</th>\n",
              "      <td>day0</td>\n",
              "      <td>slice_0142</td>\n",
              "      <td>NaN</td>\n",
              "      <td>NaN</td>\n",
              "      <td>NaN</td>\n",
              "      <td>case30</td>\n",
              "    </tr>\n",
              "    <tr>\n",
              "      <th>38494</th>\n",
              "      <td>day0</td>\n",
              "      <td>slice_0143</td>\n",
              "      <td>NaN</td>\n",
              "      <td>NaN</td>\n",
              "      <td>NaN</td>\n",
              "      <td>case30</td>\n",
              "    </tr>\n",
              "    <tr>\n",
              "      <th>38495</th>\n",
              "      <td>day0</td>\n",
              "      <td>slice_0144</td>\n",
              "      <td>NaN</td>\n",
              "      <td>NaN</td>\n",
              "      <td>NaN</td>\n",
              "      <td>case30</td>\n",
              "    </tr>\n",
              "  </tbody>\n",
              "</table>\n",
              "<p>38496 rows × 6 columns</p>\n",
              "</div>\n",
              "      <button class=\"colab-df-convert\" onclick=\"convertToInteractive('df-551e6b49-30e4-474b-bfa3-8c6145e7e029')\"\n",
              "              title=\"Convert this dataframe to an interactive table.\"\n",
              "              style=\"display:none;\">\n",
              "        \n",
              "  <svg xmlns=\"http://www.w3.org/2000/svg\" height=\"24px\"viewBox=\"0 0 24 24\"\n",
              "       width=\"24px\">\n",
              "    <path d=\"M0 0h24v24H0V0z\" fill=\"none\"/>\n",
              "    <path d=\"M18.56 5.44l.94 2.06.94-2.06 2.06-.94-2.06-.94-.94-2.06-.94 2.06-2.06.94zm-11 1L8.5 8.5l.94-2.06 2.06-.94-2.06-.94L8.5 2.5l-.94 2.06-2.06.94zm10 10l.94 2.06.94-2.06 2.06-.94-2.06-.94-.94-2.06-.94 2.06-2.06.94z\"/><path d=\"M17.41 7.96l-1.37-1.37c-.4-.4-.92-.59-1.43-.59-.52 0-1.04.2-1.43.59L10.3 9.45l-7.72 7.72c-.78.78-.78 2.05 0 2.83L4 21.41c.39.39.9.59 1.41.59.51 0 1.02-.2 1.41-.59l7.78-7.78 2.81-2.81c.8-.78.8-2.07 0-2.86zM5.41 20L4 18.59l7.72-7.72 1.47 1.35L5.41 20z\"/>\n",
              "  </svg>\n",
              "      </button>\n",
              "      \n",
              "  <style>\n",
              "    .colab-df-container {\n",
              "      display:flex;\n",
              "      flex-wrap:wrap;\n",
              "      gap: 12px;\n",
              "    }\n",
              "\n",
              "    .colab-df-convert {\n",
              "      background-color: #E8F0FE;\n",
              "      border: none;\n",
              "      border-radius: 50%;\n",
              "      cursor: pointer;\n",
              "      display: none;\n",
              "      fill: #1967D2;\n",
              "      height: 32px;\n",
              "      padding: 0 0 0 0;\n",
              "      width: 32px;\n",
              "    }\n",
              "\n",
              "    .colab-df-convert:hover {\n",
              "      background-color: #E2EBFA;\n",
              "      box-shadow: 0px 1px 2px rgba(60, 64, 67, 0.3), 0px 1px 3px 1px rgba(60, 64, 67, 0.15);\n",
              "      fill: #174EA6;\n",
              "    }\n",
              "\n",
              "    [theme=dark] .colab-df-convert {\n",
              "      background-color: #3B4455;\n",
              "      fill: #D2E3FC;\n",
              "    }\n",
              "\n",
              "    [theme=dark] .colab-df-convert:hover {\n",
              "      background-color: #434B5C;\n",
              "      box-shadow: 0px 1px 3px 1px rgba(0, 0, 0, 0.15);\n",
              "      filter: drop-shadow(0px 1px 2px rgba(0, 0, 0, 0.3));\n",
              "      fill: #FFFFFF;\n",
              "    }\n",
              "  </style>\n",
              "\n",
              "      <script>\n",
              "        const buttonEl =\n",
              "          document.querySelector('#df-551e6b49-30e4-474b-bfa3-8c6145e7e029 button.colab-df-convert');\n",
              "        buttonEl.style.display =\n",
              "          google.colab.kernel.accessAllowed ? 'block' : 'none';\n",
              "\n",
              "        async function convertToInteractive(key) {\n",
              "          const element = document.querySelector('#df-551e6b49-30e4-474b-bfa3-8c6145e7e029');\n",
              "          const dataTable =\n",
              "            await google.colab.kernel.invokeFunction('convertToInteractive',\n",
              "                                                     [key], {});\n",
              "          if (!dataTable) return;\n",
              "\n",
              "          const docLinkHtml = 'Like what you see? Visit the ' +\n",
              "            '<a target=\"_blank\" href=https://colab.research.google.com/notebooks/data_table.ipynb>data table notebook</a>'\n",
              "            + ' to learn more about interactive tables.';\n",
              "          element.innerHTML = '';\n",
              "          dataTable['output_type'] = 'display_data';\n",
              "          await google.colab.output.renderOutput(dataTable, element);\n",
              "          const docLink = document.createElement('div');\n",
              "          docLink.innerHTML = docLinkHtml;\n",
              "          element.appendChild(docLink);\n",
              "        }\n",
              "      </script>\n",
              "    </div>\n",
              "  </div>\n",
              "  "
            ]
          },
          "metadata": {},
          "execution_count": 18
        }
      ]
    },
    {
      "cell_type": "code",
      "source": [
        "def rle_decode(iter_checker1, iter_checker2, iter_checker3, shape1,shape2):\n",
        "    '''\n",
        "    mask_rle: run-length as string formated (start length)\n",
        "    shape: (height,width) of array to return \n",
        "    Returns numpy array, 1 - mask, 0 - background\n",
        "    \n",
        "    '''\n",
        "    img = np.zeros(shape=(shape1*shape2,1), dtype=np.uint8)\n",
        "#iter_checker is for stomach\n",
        "    if(iter_checker1!=0):\n",
        "\n",
        "        s = iter_checker1.split()\n",
        "        starts, lengths = [np.asarray(x, dtype=int) for x in (s[::2], s[1::2])]\n",
        "        starts -= 1\n",
        "        ends = starts + lengths\n",
        "\n",
        "\n",
        "        for lo, hi in zip(starts, ends):\n",
        "            img[lo:hi] =1\n",
        "\n",
        "#iter_checker2 is for small_bowel\n",
        "    if(iter_checker2!=0):\n",
        "        s = iter_checker2.split()\n",
        "        starts, lengths = [np.asarray(x, dtype=int) for x in (s[::2], s[1::2])]\n",
        "        starts -= 1\n",
        "        ends = starts + lengths\n",
        "\n",
        "\n",
        "        for lo, hi in zip(starts, ends):\n",
        "            img[lo:hi] =2\n",
        "#iter_checker3 is for large_bowel\n",
        "    if(iter_checker3!=0):\n",
        "\n",
        "        s = iter_checker3.split()\n",
        "        starts, lengths = [np.asarray(x, dtype=int) for x in (s[::2], s[1::2])]\n",
        "        starts -= 1\n",
        "        ends = starts + lengths\n",
        "\n",
        "        for lo, hi in zip(starts, ends):\n",
        "            img[lo:hi] =3\n",
        "    return cv2.resize(img.reshape(shape1,shape2,1),(128,128))"
      ],
      "metadata": {
        "id": "FJ6e5ySg7cAT"
      },
      "execution_count": 70,
      "outputs": []
    },
    {
      "cell_type": "code",
      "source": [
        "all_images=[]\n",
        "all_masks=[]\n",
        "k=-1\n",
        "for u in range(0,38495):\n",
        "    \n",
        "    pat='/content/train/'+df2['Cases'][u]+'/'+df2['Cases'][u]+'_'+df2['Days'][u]+'/'+'scans'\n",
        "    li=len(os.listdir(pat))\n",
        "    if(k<(li-1)):\n",
        "        k=k+1\n",
        "    else:\n",
        "        k=0\n",
        "    f = os.path.join(pat, os.listdir(pat)[k])\n",
        "    rt=os.listdir(pat)[k]\n",
        "    z=int(rt[rt.index('_')+1:find_string(rt,('_'))])\n",
        "    slice_int = int(os.listdir(pat)[k][6:10])\n",
        "    slice_number= int(df2['Slices'][u][-4::])-slice_int\n",
        "    x1=int(f[-21:-18])\n",
        "    x2=int(f[-17:-14])\n",
        "    t=u-slice_number\n",
        "#     chech if there is a mask in any of these images\n",
        "    iter_checker1=0\n",
        "    iter_checker2=0\n",
        "    iter_checker3=0\n",
        "    mask = np.zeros(shape=(128,128))\n",
        "    if(isNaN(df2.loc[t]['Stomach'])==False):\n",
        "        iter_checker1=df2.loc[t]['Stomach']\n",
        "\n",
        "        \n",
        "    if(isNaN(df2.loc[t]['Small_bowel'])==False):\n",
        "\n",
        "        iter_checker2=df2.loc[t]['Small_bowel']\n",
        "        \n",
        "    if(isNaN(df2.loc[t]['Large_bowel'])==False):\n",
        "        iter_checker3=df2.loc[t]['Large_bowel']\n",
        "        \n",
        "    if(iter_checker1!=0 or iter_checker2!=0 or iter_checker3!=0):\n",
        "        history1.append(t)\n",
        "        temp1 = cv2.imread(f)\n",
        "        temp1=cv2.resize(temp1, (128, 128 ))\n",
        "        all_images.append(temp1)\n",
        "\n",
        "        all_masks.append(rle_decode(iter_checker1, iter_checker2, iter_checker3, cv2.imread(f).shape[0],cv2.imread(f).shape[1]))\n",
        "        "
      ],
      "metadata": {
        "id": "j6QykCfD7gaV"
      },
      "execution_count": 71,
      "outputs": []
    },
    {
      "cell_type": "code",
      "source": [
        "len(all_images)"
      ],
      "metadata": {
        "colab": {
          "base_uri": "https://localhost:8080/"
        },
        "id": "6qu5n2Ck8nCJ",
        "outputId": "eaa5efa7-5e19-44bf-c819-ed13d0e27a7c"
      },
      "execution_count": 72,
      "outputs": [
        {
          "output_type": "execute_result",
          "data": {
            "text/plain": [
              "16590"
            ]
          },
          "metadata": {},
          "execution_count": 72
        }
      ]
    },
    {
      "cell_type": "code",
      "source": [
        "imgs1=all_images[0:2000]\n",
        "imgs2=all_images[2000:4000]\n",
        "imgs3=all_images[6000:8000]\n",
        "imgs4=all_images[10000:12000]\n",
        "imgs5=all_images[14000:15000]"
      ],
      "metadata": {
        "id": "XzJWMVeZBFIQ"
      },
      "execution_count": 29,
      "outputs": []
    },
    {
      "cell_type": "code",
      "source": [
        "masks1=all_masks[0:2000]\n",
        "masks2=all_masks[2000:4000]\n",
        "masks3=all_masks[6000:8000]\n",
        "masks4=all_masks[10000:12000]\n",
        "masks5=all_masks[14000:15000]"
      ],
      "metadata": {
        "id": "kf6OSBB5C4zn"
      },
      "execution_count": 73,
      "outputs": []
    },
    {
      "cell_type": "markdown",
      "source": [
        "We are taking only half of the images due to the computational contrains of colab (when we took the whole data, colab crashed) "
      ],
      "metadata": {
        "id": "gah4o8VPBwfe"
      }
    },
    {
      "cell_type": "code",
      "source": [
        "imgs_axis_one=np.zeros(shape=(8000+1000,128,128))"
      ],
      "metadata": {
        "id": "tPLgtVm3-Qgz"
      },
      "execution_count": 28,
      "outputs": []
    },
    {
      "cell_type": "code",
      "source": [
        "for i in range(2000):\n",
        "  for j in range(128):\n",
        "    for g in range(128):\n",
        "      imgs_axis_one[i][j][g]=imgs1[i][j][g][0]"
      ],
      "metadata": {
        "id": "HOk_ls4rBAmU"
      },
      "execution_count": 35,
      "outputs": []
    },
    {
      "cell_type": "code",
      "source": [
        "for i in range(2000):\n",
        "  for j in range(128):\n",
        "    for g in range(128):\n",
        "      imgs_axis_one[i+2000][j][g]=imgs2[i][j][g][0]"
      ],
      "metadata": {
        "id": "bJU8gg_aBWmn"
      },
      "execution_count": 36,
      "outputs": []
    },
    {
      "cell_type": "code",
      "source": [
        "for i in range(2000):\n",
        "  for j in range(128):\n",
        "    for g in range(128):\n",
        "      imgs_axis_one[i+4000][j][g]=imgs3[i][j][g][0]"
      ],
      "metadata": {
        "id": "BdcfYaWVBaFe"
      },
      "execution_count": 37,
      "outputs": []
    },
    {
      "cell_type": "code",
      "source": [
        "for i in range(2000):\n",
        "  for j in range(128):\n",
        "    for g in range(128):\n",
        "      imgs_axis_one[i+6000][j][g]=imgs4[i][j][g][0]"
      ],
      "metadata": {
        "id": "LU9TGJ9eBcWW"
      },
      "execution_count": 77,
      "outputs": []
    },
    {
      "cell_type": "code",
      "source": [
        "for i in range(1000):\n",
        "  for j in range(128):\n",
        "    for g in range(128):\n",
        "      imgs_axis_one[i+8000][j][g]=imgs5[i][j][g][0]"
      ],
      "metadata": {
        "id": "UMb9TiLZBqPn"
      },
      "execution_count": 78,
      "outputs": []
    },
    {
      "cell_type": "code",
      "source": [
        "All_masks = np.zeros(shape=(8000+1000,128,128))"
      ],
      "metadata": {
        "id": "dYH6t7eNCgpP"
      },
      "execution_count": 40,
      "outputs": []
    },
    {
      "cell_type": "code",
      "source": [
        "All_masks[0:2000]=masks1"
      ],
      "metadata": {
        "id": "5qDe48mtIEfZ"
      },
      "execution_count": 74,
      "outputs": []
    },
    {
      "cell_type": "code",
      "source": [
        "All_masks[2000:4000]=masks2\n",
        "All_masks[4000:6000]=masks3\n",
        "All_masks[6000:8000]=masks4\n",
        "All_masks[8000:9000]=masks5"
      ],
      "metadata": {
        "id": "HQ6slfQYIMyn"
      },
      "execution_count": 75,
      "outputs": []
    },
    {
      "cell_type": "code",
      "source": [
        "plt.imshow(All_masks[10],cmap='gray')"
      ],
      "metadata": {
        "colab": {
          "base_uri": "https://localhost:8080/",
          "height": 285
        },
        "id": "rWmfyhAuIofh",
        "outputId": "5523a8ff-fccd-4c8a-c27b-31e2206c0710"
      },
      "execution_count": 86,
      "outputs": [
        {
          "output_type": "execute_result",
          "data": {
            "text/plain": [
              "<matplotlib.image.AxesImage at 0x7f0fad4a6df0>"
            ]
          },
          "metadata": {},
          "execution_count": 86
        },
        {
          "output_type": "display_data",
          "data": {
            "text/plain": [
              "<Figure size 432x288 with 1 Axes>"
            ],
            "image/png": "[encoded data removed]"
          },
          "metadata": {
            "needs_background": "light"
          }
        }
      ]
    },
    {
      "cell_type": "code",
      "source": [
        "from keras.utils import normalize"
      ],
      "metadata": {
        "id": "lSIfvYcPDJrH"
      },
      "execution_count": 76,
      "outputs": []
    },
    {
      "cell_type": "code",
      "source": [
        "imgs_normalized=normalize(imgs_axis_one)"
      ],
      "metadata": {
        "id": "lziR0XF7IrsY"
      },
      "execution_count": 79,
      "outputs": []
    },
    {
      "cell_type": "code",
      "source": [
        "imgs_normalized = np.expand_dims(imgs_normalized, axis=3)"
      ],
      "metadata": {
        "id": "3dkUYMGfJI4R"
      },
      "execution_count": 80,
      "outputs": []
    },
    {
      "cell_type": "code",
      "source": [
        "imgs_normalized.shape"
      ],
      "metadata": {
        "colab": {
          "base_uri": "https://localhost:8080/"
        },
        "id": "Ovei1r8YJPHo",
        "outputId": "4fe71dbd-1fe8-4332-d2c5-d50027240b2b"
      },
      "execution_count": 81,
      "outputs": [
        {
          "output_type": "execute_result",
          "data": {
            "text/plain": [
              "(9000, 128, 128, 1)"
            ]
          },
          "metadata": {},
          "execution_count": 81
        }
      ]
    },
    {
      "cell_type": "code",
      "source": [
        "plt.imshow(masks1[10])"
      ],
      "metadata": {
        "colab": {
          "base_uri": "https://localhost:8080/",
          "height": 285
        },
        "id": "GWC8Nl_2EiUP",
        "outputId": "f9b00bad-010a-467f-acac-c091bc56ea68"
      },
      "execution_count": 61,
      "outputs": [
        {
          "output_type": "execute_result",
          "data": {
            "text/plain": [
              "<matplotlib.image.AxesImage at 0x7f0fad82d220>"
            ]
          },
          "metadata": {},
          "execution_count": 61
        },
        {
          "output_type": "display_data",
          "data": {
            "text/plain": [
              "<Figure size 432x288 with 1 Axes>"
            ],
            "image/png": "[encoded data removed]"
          },
          "metadata": {
            "needs_background": "light"
          }
        }
      ]
    },
    {
      "cell_type": "code",
      "source": [
        "plt.imshow(all_images[10])\n",
        "# plt.imshow(all_masks[0], alpha=0.2)"
      ],
      "metadata": {
        "colab": {
          "base_uri": "https://localhost:8080/",
          "height": 285
        },
        "id": "7JLhRA6xFQ8c",
        "outputId": "7b1d168d-2731-4865-cdae-9002481ea24d"
      },
      "execution_count": 62,
      "outputs": [
        {
          "output_type": "execute_result",
          "data": {
            "text/plain": [
              "<matplotlib.image.AxesImage at 0x7f0fad7fd880>"
            ]
          },
          "metadata": {},
          "execution_count": 62
        },
        {
          "output_type": "display_data",
          "data": {
            "text/plain": [
              "<Figure size 432x288 with 1 Axes>"
            ],
            "image/png": "[encoded data removed]"
          },
          "metadata": {
            "needs_background": "light"
          }
        }
      ]
    },
    {
      "cell_type": "code",
      "source": [
        "plt.imshow(all_images[10])\n",
        "plt.imshow(all_masks[10], alpha=0.2)"
      ],
      "metadata": {
        "colab": {
          "base_uri": "https://localhost:8080/",
          "height": 285
        },
        "id": "IpGgKSdjGY-E",
        "outputId": "fc241ae8-7010-4fbd-cc15-2eb874d83ff9"
      },
      "execution_count": 63,
      "outputs": [
        {
          "output_type": "execute_result",
          "data": {
            "text/plain": [
              "<matplotlib.image.AxesImage at 0x7f0fad8125b0>"
            ]
          },
          "metadata": {},
          "execution_count": 63
        },
        {
          "output_type": "display_data",
          "data": {
            "text/plain": [
              "<Figure size 432x288 with 1 Axes>"
            ],
            "image/png": "[encoded data removed]"
          },
          "metadata": {
            "needs_background": "light"
          }
        }
      ]
    },
    {
      "cell_type": "code",
      "source": [
        "from numpy import save\n",
        "save('Final_images.npy', All_masks)"
      ],
      "metadata": {
        "id": "WrIHjl_IDNXK"
      },
      "execution_count": 87,
      "outputs": []
    },
    {
      "cell_type": "code",
      "source": [
        "from numpy import save\n",
        "save('Final_masks.npy', All_masks)"
      ],
      "metadata": {
        "id": "RSUmX1KgKbHI"
      },
      "execution_count": 88,
      "outputs": []
    },
    {
      "cell_type": "markdown",
      "source": [
        "We saved our images and masks in the drive"
      ],
      "metadata": {
        "id": "16aeUABWKw7B"
      }
    },
    {
      "cell_type": "code",
      "source": [
        "from google.colab import drive\n",
        "\n",
        "drive.mount('/content/gdrive')"
      ],
      "metadata": {
        "colab": {
          "base_uri": "https://localhost:8080/"
        },
        "id": "fbocKu_kKwWl",
        "outputId": "28ff528c-48c5-4f23-bb8b-d189c9d95128"
      },
      "execution_count": 89,
      "outputs": [
        {
          "output_type": "stream",
          "name": "stdout",
          "text": [
            "Mounted at /content/gdrive\n"
          ]
        }
      ]
    },
    {
      "cell_type": "code",
      "source": [
        "!cp Final_images.npy '/content/gdrive/MyDrive/DL/DeepLearning_Project.ipynb/used_data'"
      ],
      "metadata": {
        "id": "Z6-LwMAaKpCX"
      },
      "execution_count": 91,
      "outputs": []
    },
    {
      "cell_type": "code",
      "source": [
        "!cp Final_masks.npy '/content/gdrive/MyDrive/DL/DeepLearning_Project.ipynb/used_data'"
      ],
      "metadata": {
        "id": "3jDDnwRALKnO"
      },
      "execution_count": 92,
      "outputs": []
    },
    {
      "cell_type": "code",
      "source": [],
      "metadata": {
        "id": "K1_lTHnpLYJ2"
      },
      "execution_count": null,
      "outputs": []
    }
  ]
}