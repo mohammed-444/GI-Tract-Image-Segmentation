{
  "nbformat": 4,
  "nbformat_minor": 0,
  "metadata": {
    "colab": {
      "provenance": []
    },
    "kernelspec": {
      "name": "python3",
      "display_name": "Python 3"
    },
    "language_info": {
      "name": "python"
    },
    "accelerator": "GPU",
    "gpuClass": "standard"
  },
  "cells": [
    {
      "cell_type": "code",
      "source": [
        "!wget 'https://kkb-production.jupyter-proxy.kaggle.net/k/114023260/eyJhbGciOiJkaXIiLCJlbmMiOiJBMTI4Q0JDLUhTMjU2IiwidHlwIjoiSldUIn0..xiZ5BKXmX2dy_qhEq2rQLA.7B4oZQsS05npK6va--saXo-JYu5DvlE0973_EtSX4fRo2FnwJZuKCzk4-iTLV9_9_WFnYQ0tinyMRMfCAm5eetQ1brfAeXhugsH4E57GJ7lcYxdt8exDhxrZZa3hZCshvUZM7pqX_EBgrVikSODscfM6C8vkyWw9k5QdrlS_uQWAihGiru5UVNs-XkMlMeFiyMNTd8YR5vSbQc4daabTUw.zAQfVTOWv_WakSOQdQHEgA/proxy/files/Images2.npy'"
      ],
      "metadata": {
        "colab": {
          "base_uri": "https://localhost:8080/"
        },
        "id": "Pgrz7y1dAMhb",
        "outputId": "d6357299-9fb4-426f-8f1f-7f54d547a101"
      },
      "execution_count": null,
      "outputs": [
        {
          "output_type": "stream",
          "name": "stdout",
          "text": [
            "--2022-12-16 22:27:38--  https://kkb-production.jupyter-proxy.kaggle.net/k/114023260/eyJhbGciOiJkaXIiLCJlbmMiOiJBMTI4Q0JDLUhTMjU2IiwidHlwIjoiSldUIn0..xiZ5BKXmX2dy_qhEq2rQLA.7B4oZQsS05npK6va--saXo-JYu5DvlE0973_EtSX4fRo2FnwJZuKCzk4-iTLV9_9_WFnYQ0tinyMRMfCAm5eetQ1brfAeXhugsH4E57GJ7lcYxdt8exDhxrZZa3hZCshvUZM7pqX_EBgrVikSODscfM6C8vkyWw9k5QdrlS_uQWAihGiru5UVNs-XkMlMeFiyMNTd8YR5vSbQc4daabTUw.zAQfVTOWv_WakSOQdQHEgA/proxy/files/Images2.npy\n",
            "Resolving kkb-production.jupyter-proxy.kaggle.net (kkb-production.jupyter-proxy.kaggle.net)... 35.244.180.134\n",
            "Connecting to kkb-production.jupyter-proxy.kaggle.net (kkb-production.jupyter-proxy.kaggle.net)|35.244.180.134|:443... connected.\n",
            "HTTP request sent, awaiting response... 200 OK\n",
            "Length: 815431808 (778M) [application/octet-stream]\n",
            "Saving to: ‘Images2.npy’\n",
            "\n",
            "Images2.npy         100%[===================>] 777.66M  20.9MB/s    in 38s     \n",
            "\n",
            "2022-12-16 22:28:16 (20.7 MB/s) - ‘Images2.npy’ saved [815431808/815431808]\n",
            "\n"
          ]
        }
      ]
    },
    {
      "cell_type": "code",
      "source": [],
      "metadata": {
        "id": "6ZGgbUPmAp9z"
      },
      "execution_count": null,
      "outputs": []
    },
    {
      "cell_type": "code",
      "source": [
        "!wget 'https://kkb-production.jupyter-proxy.kaggle.net/k/114023260/eyJhbGciOiJkaXIiLCJlbmMiOiJBMTI4Q0JDLUhTMjU2IiwidHlwIjoiSldUIn0..xiZ5BKXmX2dy_qhEq2rQLA.7B4oZQsS05npK6va--saXo-JYu5DvlE0973_EtSX4fRo2FnwJZuKCzk4-iTLV9_9_WFnYQ0tinyMRMfCAm5eetQ1brfAeXhugsH4E57GJ7lcYxdt8exDhxrZZa3hZCshvUZM7pqX_EBgrVikSODscfM6C8vkyWw9k5QdrlS_uQWAihGiru5UVNs-XkMlMeFiyMNTd8YR5vSbQc4daabTUw.zAQfVTOWv_WakSOQdQHEgA/proxy/files/Masks2.npy'"
      ],
      "metadata": {
        "colab": {
          "base_uri": "https://localhost:8080/"
        },
        "id": "UFQjPf19ANSu",
        "outputId": "1b30c6a7-b682-4322-a5b6-295a62a59241"
      },
      "execution_count": null,
      "outputs": [
        {
          "output_type": "stream",
          "name": "stdout",
          "text": [
            "--2022-12-16 22:28:16--  https://kkb-production.jupyter-proxy.kaggle.net/k/114023260/eyJhbGciOiJkaXIiLCJlbmMiOiJBMTI4Q0JDLUhTMjU2IiwidHlwIjoiSldUIn0..xiZ5BKXmX2dy_qhEq2rQLA.7B4oZQsS05npK6va--saXo-JYu5DvlE0973_EtSX4fRo2FnwJZuKCzk4-iTLV9_9_WFnYQ0tinyMRMfCAm5eetQ1brfAeXhugsH4E57GJ7lcYxdt8exDhxrZZa3hZCshvUZM7pqX_EBgrVikSODscfM6C8vkyWw9k5QdrlS_uQWAihGiru5UVNs-XkMlMeFiyMNTd8YR5vSbQc4daabTUw.zAQfVTOWv_WakSOQdQHEgA/proxy/files/Masks2.npy\n",
            "Resolving kkb-production.jupyter-proxy.kaggle.net (kkb-production.jupyter-proxy.kaggle.net)... 35.244.180.134\n",
            "Connecting to kkb-production.jupyter-proxy.kaggle.net (kkb-production.jupyter-proxy.kaggle.net)|35.244.180.134|:443... connected.\n",
            "HTTP request sent, awaiting response... 200 OK\n",
            "Length: 815431808 (778M) [application/octet-stream]\n",
            "Saving to: ‘Masks2.npy’\n",
            "\n",
            "Masks2.npy          100%[===================>] 777.66M  21.4MB/s    in 38s     \n",
            "\n",
            "2022-12-16 22:28:54 (20.7 MB/s) - ‘Masks2.npy’ saved [815431808/815431808]\n",
            "\n"
          ]
        }
      ]
    },
    {
      "cell_type": "code",
      "source": [],
      "metadata": {
        "id": "3PyCCLNbk_Fv"
      },
      "execution_count": null,
      "outputs": []
    },
    {
      "cell_type": "code",
      "source": [
        "!pip install --upgrade gdown"
      ],
      "metadata": {
        "colab": {
          "base_uri": "https://localhost:8080/"
        },
        "id": "Fs4p2rmu6yin",
        "outputId": "001d3315-4eb3-421e-bceb-d9ee570d41b1"
      },
      "execution_count": 4,
      "outputs": [
        {
          "output_type": "stream",
          "name": "stdout",
          "text": [
            "Looking in indexes: https://pypi.org/simple, https://us-python.pkg.dev/colab-wheels/public/simple/\n",
            "Requirement already satisfied: gdown in /usr/local/lib/python3.8/dist-packages (4.4.0)\n",
            "Collecting gdown\n",
            "  Downloading gdown-4.6.0-py3-none-any.whl (14 kB)\n",
            "Requirement already satisfied: beautifulsoup4 in /usr/local/lib/python3.8/dist-packages (from gdown) (4.6.3)\n",
            "Requirement already satisfied: tqdm in /usr/local/lib/python3.8/dist-packages (from gdown) (4.64.1)\n",
            "Requirement already satisfied: filelock in /usr/local/lib/python3.8/dist-packages (from gdown) (3.8.2)\n",
            "Requirement already satisfied: six in /usr/local/lib/python3.8/dist-packages (from gdown) (1.15.0)\n",
            "Requirement already satisfied: requests[socks] in /usr/local/lib/python3.8/dist-packages (from gdown) (2.23.0)\n",
            "Requirement already satisfied: certifi>=2017.4.17 in /usr/local/lib/python3.8/dist-packages (from requests[socks]->gdown) (2022.12.7)\n",
            "Requirement already satisfied: chardet<4,>=3.0.2 in /usr/local/lib/python3.8/dist-packages (from requests[socks]->gdown) (3.0.4)\n",
            "Requirement already satisfied: urllib3!=1.25.0,!=1.25.1,<1.26,>=1.21.1 in /usr/local/lib/python3.8/dist-packages (from requests[socks]->gdown) (1.24.3)\n",
            "Requirement already satisfied: idna<3,>=2.5 in /usr/local/lib/python3.8/dist-packages (from requests[socks]->gdown) (2.10)\n",
            "Requirement already satisfied: PySocks!=1.5.7,>=1.5.6 in /usr/local/lib/python3.8/dist-packages (from requests[socks]->gdown) (1.7.1)\n",
            "Installing collected packages: gdown\n",
            "  Attempting uninstall: gdown\n",
            "    Found existing installation: gdown 4.4.0\n",
            "    Uninstalling gdown-4.4.0:\n",
            "      Successfully uninstalled gdown-4.4.0\n",
            "Successfully installed gdown-4.6.0\n"
          ]
        }
      ]
    },
    {
      "cell_type": "markdown",
      "source": [
        "Last modification\n"
      ],
      "metadata": {
        "id": "-ekvoPldTSvn"
      }
    },
    {
      "cell_type": "code",
      "source": [],
      "metadata": {
        "id": "hSRA_an_TR7B"
      },
      "execution_count": null,
      "outputs": []
    },
    {
      "cell_type": "markdown",
      "source": [
        "data before editting"
      ],
      "metadata": {
        "id": "Ut1mUr15kqSo"
      }
    },
    {
      "cell_type": "code",
      "source": [
        "!gdown 1-181t1CqKvINQiqPZ52rAEUFi3YR-dSr"
      ],
      "metadata": {
        "colab": {
          "base_uri": "https://localhost:8080/"
        },
        "id": "4CxrP7jwkkfg",
        "outputId": "e527d2e0-430f-4a56-8b4c-d74b983b3554"
      },
      "execution_count": 5,
      "outputs": [
        {
          "output_type": "stream",
          "name": "stdout",
          "text": [
            "Downloading...\n",
            "From: https://drive.google.com/uc?id=1-181t1CqKvINQiqPZ52rAEUFi3YR-dSr\n",
            "To: /content/Images.npy\n",
            "100% 815M/815M [00:02<00:00, 277MB/s]\n"
          ]
        }
      ]
    },
    {
      "cell_type": "code",
      "source": [
        "!gdown 1PkPOgNSpei7-fMjeGsbPeFEUPPNk5DpN"
      ],
      "metadata": {
        "colab": {
          "base_uri": "https://localhost:8080/"
        },
        "id": "GLaT_c3lkvMz",
        "outputId": "a4b0d729-a021-4e05-d1bb-58c728f238dc"
      },
      "execution_count": 6,
      "outputs": [
        {
          "output_type": "stream",
          "name": "stdout",
          "text": [
            "Downloading...\n",
            "From: https://drive.google.com/uc?id=1PkPOgNSpei7-fMjeGsbPeFEUPPNk5DpN\n",
            "To: /content/Masks.npy\n",
            "100% 272M/272M [00:01<00:00, 206MB/s]\n"
          ]
        }
      ]
    },
    {
      "cell_type": "markdown",
      "source": [
        "Data after editting"
      ],
      "metadata": {
        "id": "6MDJz_ZgkpTQ"
      }
    },
    {
      "cell_type": "code",
      "source": [
        "!gdown 1-3go67aHXaYfzNrhLj2ySpYwaRpHOu0Y"
      ],
      "metadata": {
        "colab": {
          "base_uri": "https://localhost:8080/"
        },
        "id": "QUBpZOIw61A4",
        "outputId": "7e46f2de-2595-4327-8c8e-888996b3bbd8"
      },
      "execution_count": null,
      "outputs": [
        {
          "output_type": "stream",
          "name": "stdout",
          "text": [
            "Downloading...\n",
            "From: https://drive.google.com/uc?id=1-3go67aHXaYfzNrhLj2ySpYwaRpHOu0Y\n",
            "To: /content/imgs_GI.npy\n",
            " 16% 1.03G/6.52G [00:08<00:44, 123MB/s]Traceback (most recent call last):\n",
            "  File \"/usr/local/bin/gdown\", line 8, in <module>\n",
            "    sys.exit(main())\n",
            "  File \"/usr/local/lib/python3.8/dist-packages/gdown/cli.py\", line 150, in main\n",
            "    filename = download(\n",
            "  File \"/usr/local/lib/python3.8/dist-packages/gdown/download.py\", line 270, in download\n",
            "    for chunk in res.iter_content(chunk_size=CHUNK_SIZE):\n",
            "  File \"/usr/local/lib/python3.8/dist-packages/requests/models.py\", line 751, in generate\n",
            "    for chunk in self.raw.stream(chunk_size, decode_content=True):\n",
            "  File \"/usr/local/lib/python3.8/dist-packages/urllib3/response.py\", line 496, in stream\n",
            "    data = self.read(amt=amt, decode_content=decode_content)\n",
            "  File \"/usr/local/lib/python3.8/dist-packages/urllib3/response.py\", line 444, in read\n",
            "    data = self._fp.read(amt)\n",
            "  File \"/usr/lib/python3.8/http/client.py\", line 459, in read\n",
            "    n = self.readinto(b)\n",
            "  File \"/usr/lib/python3.8/http/client.py\", line 503, in readinto\n",
            "    n = self.fp.readinto(b)\n",
            "  File \"/usr/lib/python3.8/socket.py\", line 669, in readinto\n",
            "    return self._sock.recv_into(b)\n",
            "  File \"/usr/lib/python3.8/ssl.py\", line 1241, in recv_into\n",
            "    return self.read(nbytes, buffer)\n",
            "  File \"/usr/lib/python3.8/ssl.py\", line 1099, in read\n",
            "    return self._sslobj.read(len, buffer)\n",
            "KeyboardInterrupt\n",
            " 16% 1.05G/6.52G [00:08<00:43, 125MB/s]\n",
            "^C\n"
          ]
        }
      ]
    },
    {
      "cell_type": "code",
      "source": [
        "!gdown 1-4LEcR7rxHlnUe1ho4SVK94haMgCjF17"
      ],
      "metadata": {
        "colab": {
          "base_uri": "https://localhost:8080/"
        },
        "id": "kR7ON5gF68L-",
        "outputId": "af47ab92-c8b8-472d-879f-169e0ff2d13e"
      },
      "execution_count": null,
      "outputs": [
        {
          "output_type": "stream",
          "name": "stdout",
          "text": [
            "Traceback (most recent call last):\n",
            "  File \"/usr/local/bin/gdown\", line 5, in <module>\n",
            "    from gdown.cli import main\n",
            "  File \"/usr/local/lib/python3.8/dist-packages/gdown/__init__.py\", line 6, in <module>\n",
            "    from .download_folder import download_folder\n",
            "  File \"/usr/local/lib/python3.8/dist-packages/gdown/download_folder.py\", line 13, in <module>\n",
            "    import bs4\n",
            "  File \"/usr/local/lib/python3.8/dist-packages/bs4/__init__.py\", line 36, in <module>\n",
            "    from .builder import builder_registry, ParserRejectedMarkup\n",
            "  File \"/usr/local/lib/python3.8/dist-packages/bs4/builder/__init__.py\", line 329, in <module>\n",
            "    from . import _html5lib\n",
            "  File \"/usr/local/lib/python3.8/dist-packages/bs4/builder/_html5lib.py\", line 20, in <module>\n",
            "    import html5lib\n",
            "  File \"/usr/local/lib/python3.8/dist-packages/html5lib/__init__.py\", line 25, in <module>\n",
            "    from .html5parser import HTMLParser, parse, parseFragment\n",
            "  File \"/usr/local/lib/python3.8/dist-packages/html5lib/html5parser.py\", line 7, in <module>\n",
            "    from . import _inputstream\n",
            "  File \"/usr/local/lib/python3.8/dist-packages/html5lib/_inputstream.py\", line 11, in <module>\n",
            "    from .constants import EOF, spaceCharacters, asciiLetters, asciiUppercase\n",
            "  File \"/usr/local/lib/python3.8/dist-packages/html5lib/constants.py\", line 651, in <module>\n",
            "    entities = {\n",
            "KeyboardInterrupt\n",
            "^C\n"
          ]
        }
      ]
    },
    {
      "cell_type": "code",
      "source": [
        "from google.colab import drive\n",
        "\n",
        "drive.mount('/content/gdrive' )"
      ],
      "metadata": {
        "colab": {
          "base_uri": "https://localhost:8080/"
        },
        "id": "NJbgm6JUFN_D",
        "outputId": "d1ec30bb-2fb8-4a7b-9df0-2ca21fa0ecb1"
      },
      "execution_count": 76,
      "outputs": [
        {
          "output_type": "stream",
          "name": "stdout",
          "text": [
            "Mounted at /content/gdrive\n"
          ]
        }
      ]
    },
    {
      "cell_type": "code",
      "execution_count": 2,
      "metadata": {
        "id": "SdUEgvoZ6o2E"
      },
      "outputs": [],
      "source": [
        "import pandas as pd\n",
        "from numpy import load\n",
        "import matplotlib.pyplot as plt\n",
        "from numpy import save\n",
        "import numpy as np\n",
        "import cv2\n",
        "import tensorflow as tf\n",
        "import numpy as np\n",
        "import tensorflow as tf\n",
        "import tensorflow.keras as keras\n",
        "from tensorflow.keras.preprocessing.image import ImageDataGenerator\n",
        "from tensorflow.keras.layers import Input\n",
        "from tensorflow.keras.layers import Conv2D\n",
        "from tensorflow.keras.layers import MaxPooling2D\n",
        "from tensorflow.keras.layers import Dropout \n",
        "from tensorflow.keras.layers import Conv2DTranspose\n",
        "from tensorflow.keras.layers import concatenate\n",
        "from sklearn.model_selection import train_test_split"
      ]
    },
    {
      "cell_type": "code",
      "source": [
        "imgs=[]\n",
        "masks=[]"
      ],
      "metadata": {
        "id": "SYUv3JLOtA9D"
      },
      "execution_count": 72,
      "outputs": []
    },
    {
      "cell_type": "code",
      "source": [
        "imgs=np.load('/content/Images.npy')"
      ],
      "metadata": {
        "id": "vRjBgf7QrKDg"
      },
      "execution_count": 3,
      "outputs": []
    },
    {
      "cell_type": "code",
      "source": [
        "plt.imshow(imgs[0])"
      ],
      "metadata": {
        "colab": {
          "base_uri": "https://localhost:8080/",
          "height": 285
        },
        "id": "rMb6ZHX6H5iA",
        "outputId": "1dccfaee-c5ec-460d-ae61-ccdab12d51d6"
      },
      "execution_count": 119,
      "outputs": [
        {
          "output_type": "execute_result",
          "data": {
            "text/plain": [
              "<matplotlib.image.AxesImage at 0x7fae9cd63040>"
            ]
          },
          "metadata": {},
          "execution_count": 119
        },
        {
          "output_type": "display_data",
          "data": {
            "text/plain": [
              "<Figure size 432x288 with 1 Axes>"
            ],
            "image/png": "[encoded data removed]"
          },
          "metadata": {
            "needs_background": "light"
          }
        }
      ]
    },
    {
      "cell_type": "code",
      "source": [
        "masks=np.load('/content/Masks.npy')"
      ],
      "metadata": {
        "id": "PknmMC7SrMVi"
      },
      "execution_count": 9,
      "outputs": []
    },
    {
      "cell_type": "code",
      "source": [
        "masks.shape"
      ],
      "metadata": {
        "colab": {
          "base_uri": "https://localhost:8080/"
        },
        "id": "ic-_cp7LUy61",
        "outputId": "b6df043e-2722-416d-c8ba-1590f0e462b9"
      },
      "execution_count": null,
      "outputs": [
        {
          "output_type": "execute_result",
          "data": {
            "text/plain": [
              "(16590, 128, 128)"
            ]
          },
          "metadata": {},
          "execution_count": 30
        }
      ]
    },
    {
      "cell_type": "code",
      "source": [
        "masks_reshaped=np.expand_dims(masks, axis=3)"
      ],
      "metadata": {
        "id": "nDQcDA5CVUmu"
      },
      "execution_count": 10,
      "outputs": []
    },
    {
      "cell_type": "code",
      "source": [
        "masks_reshaped.shape"
      ],
      "metadata": {
        "id": "jpaMC9QbVdV2"
      },
      "execution_count": 73,
      "outputs": []
    },
    {
      "cell_type": "code",
      "source": [
        "from keras.utils import normalize\n",
        "# imgs_normalized=imgs/61"
      ],
      "metadata": {
        "id": "mMW7-KF5WFua"
      },
      "execution_count": 14,
      "outputs": []
    },
    {
      "cell_type": "code",
      "source": [
        "imgs_axis_one=np.zeros(shape=(16590,128,128))"
      ],
      "metadata": {
        "id": "0b4Z38zjZmAr"
      },
      "execution_count": 5,
      "outputs": []
    },
    {
      "cell_type": "code",
      "source": [
        "for i in range(16590):\n",
        "  for j in range(128):\n",
        "    for g in range(128):\n",
        "      imgs_axis_one[i][j][g]=imgs[i][j][g][0]"
      ],
      "metadata": {
        "id": "PYqDSdCtZId4",
        "colab": {
          "base_uri": "https://localhost:8080/",
          "height": 200
        },
        "outputId": "2c75c865-6f9b-4b71-b4c8-efc95afa3bd5"
      },
      "execution_count": 6,
      "outputs": [
        {
          "output_type": "error",
          "ename": "KeyboardInterrupt",
          "evalue": "ignored",
          "traceback": [
            "\u001b[0;31m---------------------------------------------------------------------------\u001b[0m",
            "\u001b[0;31mKeyboardInterrupt\u001b[0m                         Traceback (most recent call last)",
            "\u001b[0;32m<ipython-input-6-9dc9ecb85170>\u001b[0m in \u001b[0;36m<module>\u001b[0;34m\u001b[0m\n\u001b[1;32m      2\u001b[0m   \u001b[0;32mfor\u001b[0m \u001b[0mj\u001b[0m \u001b[0;32min\u001b[0m \u001b[0mrange\u001b[0m\u001b[0;34m(\u001b[0m\u001b[0;36m128\u001b[0m\u001b[0;34m)\u001b[0m\u001b[0;34m:\u001b[0m\u001b[0;34m\u001b[0m\u001b[0;34m\u001b[0m\u001b[0m\n\u001b[1;32m      3\u001b[0m     \u001b[0;32mfor\u001b[0m \u001b[0mg\u001b[0m \u001b[0;32min\u001b[0m \u001b[0mrange\u001b[0m\u001b[0;34m(\u001b[0m\u001b[0;36m128\u001b[0m\u001b[0;34m)\u001b[0m\u001b[0;34m:\u001b[0m\u001b[0;34m\u001b[0m\u001b[0;34m\u001b[0m\u001b[0m\n\u001b[0;32m----> 4\u001b[0;31m       \u001b[0mimgs_axis_one\u001b[0m\u001b[0;34m[\u001b[0m\u001b[0mi\u001b[0m\u001b[0;34m]\u001b[0m\u001b[0;34m[\u001b[0m\u001b[0mj\u001b[0m\u001b[0;34m]\u001b[0m\u001b[0;34m[\u001b[0m\u001b[0mg\u001b[0m\u001b[0;34m]\u001b[0m\u001b[0;34m=\u001b[0m\u001b[0mimgs\u001b[0m\u001b[0;34m[\u001b[0m\u001b[0mi\u001b[0m\u001b[0;34m]\u001b[0m\u001b[0;34m[\u001b[0m\u001b[0mj\u001b[0m\u001b[0;34m]\u001b[0m\u001b[0;34m[\u001b[0m\u001b[0mg\u001b[0m\u001b[0;34m]\u001b[0m\u001b[0;34m[\u001b[0m\u001b[0;36m0\u001b[0m\u001b[0;34m]\u001b[0m\u001b[0;34m\u001b[0m\u001b[0;34m\u001b[0m\u001b[0m\n\u001b[0m",
            "\u001b[0;31mKeyboardInterrupt\u001b[0m: "
          ]
        }
      ]
    },
    {
      "cell_type": "code",
      "source": [
        "imgs_axis_one.shape"
      ],
      "metadata": {
        "colab": {
          "base_uri": "https://localhost:8080/"
        },
        "id": "mQvPRh3OzOF4",
        "outputId": "db0e04f9-b615-443d-f33a-1aee24a463d9"
      },
      "execution_count": 17,
      "outputs": [
        {
          "output_type": "execute_result",
          "data": {
            "text/plain": [
              "(16590, 128, 128)"
            ]
          },
          "metadata": {},
          "execution_count": 17
        }
      ]
    },
    {
      "cell_type": "code",
      "source": [
        "imgs_normalized = np.expand_dims(imgs_axis_one, axis=3)"
      ],
      "metadata": {
        "id": "5zGcyOt5RRlp"
      },
      "execution_count": 18,
      "outputs": []
    },
    {
      "cell_type": "code",
      "source": [
        "imgs_normalized = normalize(imgs)"
      ],
      "metadata": {
        "id": "zyaHCYULcQ8r"
      },
      "execution_count": null,
      "outputs": []
    },
    {
      "cell_type": "code",
      "source": [
        "plt.imshow"
      ],
      "metadata": {
        "id": "2pPlUu-EUvYT"
      },
      "execution_count": null,
      "outputs": []
    },
    {
      "cell_type": "code",
      "source": [
        "imgs_axis_one=0"
      ],
      "metadata": {
        "id": "1CgO54gXWnST"
      },
      "execution_count": 75,
      "outputs": []
    },
    {
      "cell_type": "code",
      "source": [
        "plt.imshow(imgs_normalized[0])"
      ],
      "metadata": {
        "id": "KauxrRNBPfiZ"
      },
      "execution_count": null,
      "outputs": []
    },
    {
      "cell_type": "code",
      "source": [],
      "metadata": {
        "id": "jrqTfCaGx2n_"
      },
      "execution_count": null,
      "outputs": []
    },
    {
      "cell_type": "code",
      "source": [
        "np.save('imgs_normalize2.npy', imgs_axis_one)"
      ],
      "metadata": {
        "id": "7AavAwP3pgSp"
      },
      "execution_count": 8,
      "outputs": []
    },
    {
      "cell_type": "code",
      "source": [],
      "metadata": {
        "id": "j_tVnmdzxywY"
      },
      "execution_count": null,
      "outputs": []
    },
    {
      "cell_type": "markdown",
      "source": [
        "Uploading Model"
      ],
      "metadata": {
        "id": "dVUUQUXExzc7"
      }
    },
    {
      "cell_type": "code",
      "source": [
        "!gdown 1L-Scg0kDmhGrEIrUBMpS9_0TJhmeyNDI"
      ],
      "metadata": {
        "colab": {
          "base_uri": "https://localhost:8080/"
        },
        "id": "kHoVL9w_xrCN",
        "outputId": "b6df78b4-d40f-4b06-d331-d1cb7aff81e2"
      },
      "execution_count": 12,
      "outputs": [
        {
          "output_type": "stream",
          "name": "stdout",
          "text": [
            "Downloading...\n",
            "From: https://drive.google.com/uc?id=1L-Scg0kDmhGrEIrUBMpS9_0TJhmeyNDI\n",
            "To: /content/my_model.h5\n",
            "\r  0% 0.00/23.5M [00:00<?, ?B/s]\r 20% 4.72M/23.5M [00:00<00:00, 42.1MB/s]\r100% 23.5M/23.5M [00:00<00:00, 138MB/s] \n"
          ]
        }
      ]
    },
    {
      "cell_type": "code",
      "source": [
        "model = tf.keras.models.load_model(\n",
        "    \n",
        "'/content/my_model_200_epochs.h5')"
      ],
      "metadata": {
        "colab": {
          "base_uri": "https://localhost:8080/"
        },
        "id": "1AJqSfWP2lvK",
        "outputId": "4bffbbd2-d218-407d-fa9e-a9938bda2180"
      },
      "execution_count": 7,
      "outputs": [
        {
          "output_type": "stream",
          "name": "stderr",
          "text": [
            "WARNING:tensorflow:No training configuration found in the save file, so the model was *not* compiled. Compile it manually.\n"
          ]
        }
      ]
    },
    {
      "cell_type": "code",
      "source": [
        "imgs_normalized.shape"
      ],
      "metadata": {
        "colab": {
          "base_uri": "https://localhost:8080/"
        },
        "id": "SYMWGcqBcbRm",
        "outputId": "bad0ace8-ec61-4a5f-dc6b-c5b98ac370ce"
      },
      "execution_count": 14,
      "outputs": [
        {
          "output_type": "execute_result",
          "data": {
            "text/plain": [
              "(16590, 128, 128, 1)"
            ]
          },
          "metadata": {},
          "execution_count": 14
        }
      ]
    },
    {
      "cell_type": "code",
      "source": [
        "masks=0"
      ],
      "metadata": {
        "id": "TeVQUPTmpZvE"
      },
      "execution_count": 16,
      "outputs": []
    },
    {
      "cell_type": "code",
      "source": [
        "# imgs_normalized=imgs/255"
      ],
      "metadata": {
        "id": "fKvdDV7ivHNW"
      },
      "execution_count": null,
      "outputs": []
    },
    {
      "cell_type": "code",
      "source": [
        "# np.save('Images_Normalized.npy',imgs)"
      ],
      "metadata": {
        "id": "PDIUrGeOETnS"
      },
      "execution_count": null,
      "outputs": []
    },
    {
      "cell_type": "code",
      "source": [
        "!cp my_model.h5 '/content/gdrive/MyDrive/DL'"
      ],
      "metadata": {
        "id": "qgUThOgIEw7p"
      },
      "execution_count": 28,
      "outputs": []
    },
    {
      "cell_type": "code",
      "source": [
        "masks=masks[0:10000]"
      ],
      "metadata": {
        "id": "ONmZ8xBSvLJ-"
      },
      "execution_count": null,
      "outputs": []
    },
    {
      "cell_type": "code",
      "source": [
        "imgs_normalized=np.load('/content/imgs_normalize2.npy')"
      ],
      "metadata": {
        "id": "jJOon9mzrttq"
      },
      "execution_count": 6,
      "outputs": []
    },
    {
      "cell_type": "code",
      "source": [
        "imgs_normalized = normalize(imgs_normalized)"
      ],
      "metadata": {
        "id": "GxVWmVjLU_i_"
      },
      "execution_count": 7,
      "outputs": []
    },
    {
      "cell_type": "code",
      "source": [
        "n_classes = len(np.unique(masks_reshaped))\n",
        "from keras.utils import to_categorical"
      ],
      "metadata": {
        "id": "RAp_7jU7eUur"
      },
      "execution_count": 32,
      "outputs": []
    },
    {
      "cell_type": "code",
      "source": [
        "n_classes"
      ],
      "metadata": {
        "colab": {
          "base_uri": "https://localhost:8080/"
        },
        "id": "K0GheHgKd7Dj",
        "outputId": "59648f7f-05cc-4849-af9f-3dc03f988fbb"
      },
      "execution_count": 33,
      "outputs": [
        {
          "output_type": "execute_result",
          "data": {
            "text/plain": [
              "4"
            ]
          },
          "metadata": {},
          "execution_count": 33
        }
      ]
    },
    {
      "cell_type": "code",
      "source": [
        "trainX, valX, trainY, valY = train_test_split(imgs_normalized[0:5000], masks_reshaped[0:5000], test_size=0.20, random_state=42)"
      ],
      "metadata": {
        "id": "OEwrBU_8k4mX"
      },
      "execution_count": 20,
      "outputs": []
    },
    {
      "cell_type": "code",
      "source": [
        "trainX = np.expand_dims(trainX, axis=3)\n",
        "valX = np.expand_dims(valX, axis=3)"
      ],
      "metadata": {
        "id": "zPu0xkjaVrla"
      },
      "execution_count": 28,
      "outputs": []
    },
    {
      "cell_type": "code",
      "source": [
        "trainX.shape"
      ],
      "metadata": {
        "colab": {
          "base_uri": "https://localhost:8080/"
        },
        "id": "Tok6PrR9V-fH",
        "outputId": "d66dd97c-8361-4c7d-c573-2ec7e4ee99f3"
      },
      "execution_count": 14,
      "outputs": [
        {
          "output_type": "execute_result",
          "data": {
            "text/plain": [
              "(4000, 128, 128, 1)"
            ]
          },
          "metadata": {},
          "execution_count": 14
        }
      ]
    },
    {
      "cell_type": "code",
      "source": [
        "masks_cat=to_categorical(trainY, num_classes= n_classes)"
      ],
      "metadata": {
        "id": "kezwFRh7d69m"
      },
      "execution_count": 34,
      "outputs": []
    },
    {
      "cell_type": "code",
      "source": [
        "masks_cat_test=to_categorical(valY, num_classes=n_classes)"
      ],
      "metadata": {
        "id": "erX0n8yUsqYh"
      },
      "execution_count": 35,
      "outputs": []
    },
    {
      "cell_type": "code",
      "source": [
        "!pip install segmentation_models"
      ],
      "metadata": {
        "colab": {
          "base_uri": "https://localhost:8080/"
        },
        "id": "QwXL9D6ot4Y6",
        "outputId": "74fd40d9-3e98-4a7d-839f-f600f181a920"
      },
      "execution_count": 12,
      "outputs": [
        {
          "output_type": "stream",
          "name": "stdout",
          "text": [
            "Looking in indexes: https://pypi.org/simple, https://us-python.pkg.dev/colab-wheels/public/simple/\n",
            "Requirement already satisfied: segmentation_models in /usr/local/lib/python3.8/dist-packages (1.0.1)\n",
            "Requirement already satisfied: image-classifiers==1.0.0 in /usr/local/lib/python3.8/dist-packages (from segmentation_models) (1.0.0)\n",
            "Requirement already satisfied: efficientnet==1.0.0 in /usr/local/lib/python3.8/dist-packages (from segmentation_models) (1.0.0)\n",
            "Requirement already satisfied: keras-applications<=1.0.8,>=1.0.7 in /usr/local/lib/python3.8/dist-packages (from segmentation_models) (1.0.8)\n",
            "Requirement already satisfied: scikit-image in /usr/local/lib/python3.8/dist-packages (from efficientnet==1.0.0->segmentation_models) (0.18.3)\n",
            "Requirement already satisfied: numpy>=1.9.1 in /usr/local/lib/python3.8/dist-packages (from keras-applications<=1.0.8,>=1.0.7->segmentation_models) (1.21.6)\n",
            "Requirement already satisfied: h5py in /usr/local/lib/python3.8/dist-packages (from keras-applications<=1.0.8,>=1.0.7->segmentation_models) (3.1.0)\n",
            "Requirement already satisfied: matplotlib!=3.0.0,>=2.0.0 in /usr/local/lib/python3.8/dist-packages (from scikit-image->efficientnet==1.0.0->segmentation_models) (3.2.2)\n",
            "Requirement already satisfied: tifffile>=2019.7.26 in /usr/local/lib/python3.8/dist-packages (from scikit-image->efficientnet==1.0.0->segmentation_models) (2022.10.10)\n",
            "Requirement already satisfied: PyWavelets>=1.1.1 in /usr/local/lib/python3.8/dist-packages (from scikit-image->efficientnet==1.0.0->segmentation_models) (1.4.1)\n",
            "Requirement already satisfied: pillow!=7.1.0,!=7.1.1,>=4.3.0 in /usr/local/lib/python3.8/dist-packages (from scikit-image->efficientnet==1.0.0->segmentation_models) (7.1.2)\n",
            "Requirement already satisfied: imageio>=2.3.0 in /usr/local/lib/python3.8/dist-packages (from scikit-image->efficientnet==1.0.0->segmentation_models) (2.9.0)\n",
            "Requirement already satisfied: networkx>=2.0 in /usr/local/lib/python3.8/dist-packages (from scikit-image->efficientnet==1.0.0->segmentation_models) (2.8.8)\n",
            "Requirement already satisfied: scipy>=1.0.1 in /usr/local/lib/python3.8/dist-packages (from scikit-image->efficientnet==1.0.0->segmentation_models) (1.7.3)\n",
            "Requirement already satisfied: kiwisolver>=1.0.1 in /usr/local/lib/python3.8/dist-packages (from matplotlib!=3.0.0,>=2.0.0->scikit-image->efficientnet==1.0.0->segmentation_models) (1.4.4)\n",
            "Requirement already satisfied: pyparsing!=2.0.4,!=2.1.2,!=2.1.6,>=2.0.1 in /usr/local/lib/python3.8/dist-packages (from matplotlib!=3.0.0,>=2.0.0->scikit-image->efficientnet==1.0.0->segmentation_models) (3.0.9)\n",
            "Requirement already satisfied: cycler>=0.10 in /usr/local/lib/python3.8/dist-packages (from matplotlib!=3.0.0,>=2.0.0->scikit-image->efficientnet==1.0.0->segmentation_models) (0.11.0)\n",
            "Requirement already satisfied: python-dateutil>=2.1 in /usr/local/lib/python3.8/dist-packages (from matplotlib!=3.0.0,>=2.0.0->scikit-image->efficientnet==1.0.0->segmentation_models) (2.8.2)\n",
            "Requirement already satisfied: six>=1.5 in /usr/local/lib/python3.8/dist-packages (from python-dateutil>=2.1->matplotlib!=3.0.0,>=2.0.0->scikit-image->efficientnet==1.0.0->segmentation_models) (1.15.0)\n"
          ]
        }
      ]
    },
    {
      "cell_type": "code",
      "source": [
        "trainY=0\n",
        "valY=0"
      ],
      "metadata": {
        "id": "5d50p3DDA48b"
      },
      "execution_count": 15,
      "outputs": []
    },
    {
      "cell_type": "code",
      "source": [
        "from keras.models import Model\n",
        "from keras.layers import Input, Conv2D, MaxPooling2D, UpSampling2D, concatenate, Conv2DTranspose, BatchNormalization, Dropout, Lambda\n",
        "from keras import backend as K\n",
        "\n",
        "def jacard_coef(y_true, y_pred):\n",
        "    y_true_f = K.flatten(y_true)\n",
        "    y_pred_f = K.flatten(y_pred)\n",
        "    intersection = K.sum(y_true_f * y_pred_f)\n",
        "    return (intersection + 1.0) / (K.sum(y_true_f) + K.sum(y_pred_f) - intersection + 1.0)\n",
        "\n",
        "\n",
        "\n",
        "################################################################\n",
        "def multi_unet_model(n_classes=4, IMG_HEIGHT=128, IMG_WIDTH=128, IMG_CHANNELS=1):\n",
        "#Build the model\n",
        "    inputs = Input((IMG_HEIGHT, IMG_WIDTH, IMG_CHANNELS))\n",
        "    #s = Lambda(lambda x: x / 255)(inputs)   #No need for this if we normalize our inputs beforehand\n",
        "    s = inputs\n",
        "\n",
        "    #Contraction path\n",
        "    c1 = Conv2D(16, (3, 3), activation='relu', kernel_initializer='he_normal', padding='same')(s)\n",
        "    c1 = Dropout(0.2)(c1)  # Original 0.1\n",
        "    c1 = Conv2D(16, (3, 3), activation='relu', kernel_initializer='he_normal', padding='same')(c1)\n",
        "    p1 = MaxPooling2D((2, 2))(c1)\n",
        "    \n",
        "    c2 = Conv2D(32, (3, 3), activation='relu', kernel_initializer='he_normal', padding='same')(p1)\n",
        "    c2 = Dropout(0.2)(c2)  # Original 0.1\n",
        "    c2 = Conv2D(32, (3, 3), activation='relu', kernel_initializer='he_normal', padding='same')(c2)\n",
        "    p2 = MaxPooling2D((2, 2))(c2)\n",
        "     \n",
        "    c3 = Conv2D(64, (3, 3), activation='relu', kernel_initializer='he_normal', padding='same')(p2)\n",
        "    c3 = Dropout(0.2)(c3)\n",
        "    c3 = Conv2D(64, (3, 3), activation='relu', kernel_initializer='he_normal', padding='same')(c3)\n",
        "    p3 = MaxPooling2D((2, 2))(c3)\n",
        "     \n",
        "    c4 = Conv2D(128, (3, 3), activation='relu', kernel_initializer='he_normal', padding='same')(p3)\n",
        "    c4 = Dropout(0.2)(c4)\n",
        "    c4 = Conv2D(128, (3, 3), activation='relu', kernel_initializer='he_normal', padding='same')(c4)\n",
        "    p4 = MaxPooling2D(pool_size=(2, 2))(c4)\n",
        "     \n",
        "    c5 = Conv2D(256, (3, 3), activation='relu', kernel_initializer='he_normal', padding='same')(p4)\n",
        "    c5 = Dropout(0.3)(c5)\n",
        "    c5 = Conv2D(256, (3, 3), activation='relu', kernel_initializer='he_normal', padding='same')(c5)\n",
        "    \n",
        "    #Expansive path \n",
        "    u6 = Conv2DTranspose(128, (2, 2), strides=(2, 2), padding='same')(c5)\n",
        "    u6 = concatenate([u6, c4])\n",
        "    c6 = Conv2D(128, (3, 3), activation='relu', kernel_initializer='he_normal', padding='same')(u6)\n",
        "    c6 = Dropout(0.2)(c6)\n",
        "    c6 = Conv2D(128, (3, 3), activation='relu', kernel_initializer='he_normal', padding='same')(c6)\n",
        "     \n",
        "    u7 = Conv2DTranspose(64, (2, 2), strides=(2, 2), padding='same')(c6)\n",
        "    u7 = concatenate([u7, c3])\n",
        "    c7 = Conv2D(64, (3, 3), activation='relu', kernel_initializer='he_normal', padding='same')(u7)\n",
        "    c7 = Dropout(0.2)(c7)\n",
        "    c7 = Conv2D(64, (3, 3), activation='relu', kernel_initializer='he_normal', padding='same')(c7)\n",
        "     \n",
        "    u8 = Conv2DTranspose(32, (2, 2), strides=(2, 2), padding='same')(c7)\n",
        "    u8 = concatenate([u8, c2])\n",
        "    c8 = Conv2D(32, (3, 3), activation='relu', kernel_initializer='he_normal', padding='same')(u8)\n",
        "    c8 = Dropout(0.2)(c8)  # Original 0.1\n",
        "    c8 = Conv2D(32, (3, 3), activation='relu', kernel_initializer='he_normal', padding='same')(c8)\n",
        "     \n",
        "    u9 = Conv2DTranspose(16, (2, 2), strides=(2, 2), padding='same')(c8)\n",
        "    u9 = concatenate([u9, c1], axis=3)\n",
        "    c9 = Conv2D(16, (3, 3), activation='relu', kernel_initializer='he_normal', padding='same')(u9)\n",
        "    c9 = Dropout(0.2)(c9)  # Original 0.1\n",
        "    c9 = Conv2D(16, (3, 3), activation='relu', kernel_initializer='he_normal', padding='same')(c9)\n",
        "     \n",
        "    outputs = Conv2D(n_classes, (1, 1), activation='softmax')(c9)\n",
        "     \n",
        "    model = Model(inputs=[inputs], outputs=[outputs])\n",
        "    \n",
        "    #NOTE: Compile the model in the main program to make it easy to test with various loss functions\n",
        "    #model.compile(optimizer='adam', loss='binary_crossentropy', metrics=['accuracy'])\n",
        "    \n",
        "    #model.summary()\n",
        "    \n",
        "    return model"
      ],
      "metadata": {
        "id": "vKWPb-rcuMem"
      },
      "execution_count": 9,
      "outputs": []
    },
    {
      "cell_type": "code",
      "source": [
        "import segmentation_models as sm\n",
        "from tensorflow.keras.metrics import MeanIoU\n",
        "\n",
        "from sklearn.preprocessing import MinMaxScaler, StandardScaler\n",
        "weights = [0.1666, 0.1666, 0.1666, 0.1666, 0.1666, 0.1666]\n",
        "dice_loss = sm.losses.DiceLoss(class_weights=weights) \n",
        "focal_loss = sm.losses.CategoricalFocalLoss()\n",
        "total_loss = dice_loss + (1 * focal_loss)  #\n",
        "\n",
        "\n",
        "IMG_HEIGHT = trainX.shape[1]\n",
        "IMG_WIDTH  = trainX.shape[2]\n",
        "IMG_CHANNELS = trainX.shape[3]\n",
        "\n",
        "\n",
        "\n",
        "metrics=['accuracy', jacard_coef]\n"
      ],
      "metadata": {
        "id": "9wxUUfsmtmyQ"
      },
      "execution_count": 14,
      "outputs": []
    },
    {
      "cell_type": "code",
      "source": [
        "masks_cat.shape"
      ],
      "metadata": {
        "colab": {
          "base_uri": "https://localhost:8080/"
        },
        "id": "K4j1qlCAvOCD",
        "outputId": "34be97dd-167b-4f01-999a-95cb327f75e2"
      },
      "execution_count": 38,
      "outputs": [
        {
          "output_type": "execute_result",
          "data": {
            "text/plain": [
              "(4000, 128, 128, 4)"
            ]
          },
          "metadata": {},
          "execution_count": 38
        }
      ]
    },
    {
      "cell_type": "code",
      "source": [
        "model =  multi_unet_model(n_classes=n_classes, IMG_HEIGHT=IMG_HEIGHT, IMG_WIDTH=IMG_WIDTH, IMG_CHANNELS=IMG_CHANNELS)\n",
        "# model.compile(optimizer='adam', loss=total_loss, metrics=metrics)\n",
        "model.compile(optimizer='adam', loss='categorical_crossentropy', metrics=metrics)\n",
        "# model.summary()\n"
      ],
      "metadata": {
        "id": "iblKtwdgvWnD"
      },
      "execution_count": 15,
      "outputs": []
    },
    {
      "cell_type": "code",
      "source": [
        "\n",
        "\n",
        "history1 = model.fit(trainX, masks_cat, \n",
        "                    batch_size = 128, \n",
        "                    \n",
        "                    epochs=20, \n",
        "                    validation_data=(valX[0:900], masks_cat_test[0:900]), \n",
        "                    shuffle=False)"
      ],
      "metadata": {
        "colab": {
          "base_uri": "https://localhost:8080/"
        },
        "id": "XLR-96Oxt1EZ",
        "outputId": "600d6744-281f-4f83-9e42-702701720c12"
      },
      "execution_count": 97,
      "outputs": [
        {
          "output_type": "stream",
          "name": "stdout",
          "text": [
            "Epoch 1/20\n",
            "32/32 [==============================] - 15s 331ms/step - loss: 0.0219 - accuracy: 0.9920 - jacard_coef: 0.9773 - val_loss: 0.0286 - val_accuracy: 0.9905 - val_jacard_coef: 0.9758\n",
            "Epoch 2/20\n",
            "32/32 [==============================] - 10s 325ms/step - loss: 0.0217 - accuracy: 0.9921 - jacard_coef: 0.9776 - val_loss: 0.0285 - val_accuracy: 0.9906 - val_jacard_coef: 0.9759\n",
            "Epoch 3/20\n",
            "32/32 [==============================] - 10s 327ms/step - loss: 0.0215 - accuracy: 0.9921 - jacard_coef: 0.9777 - val_loss: 0.0284 - val_accuracy: 0.9906 - val_jacard_coef: 0.9758\n",
            "Epoch 4/20\n",
            "32/32 [==============================] - 10s 328ms/step - loss: 0.0215 - accuracy: 0.9922 - jacard_coef: 0.9778 - val_loss: 0.0285 - val_accuracy: 0.9906 - val_jacard_coef: 0.9759\n",
            "Epoch 5/20\n",
            "32/32 [==============================] - 10s 326ms/step - loss: 0.0214 - accuracy: 0.9922 - jacard_coef: 0.9779 - val_loss: 0.0284 - val_accuracy: 0.9906 - val_jacard_coef: 0.9759\n",
            "Epoch 6/20\n",
            "32/32 [==============================] - 10s 323ms/step - loss: 0.0214 - accuracy: 0.9922 - jacard_coef: 0.9779 - val_loss: 0.0285 - val_accuracy: 0.9906 - val_jacard_coef: 0.9762\n",
            "Epoch 7/20\n",
            "32/32 [==============================] - 10s 323ms/step - loss: 0.0213 - accuracy: 0.9922 - jacard_coef: 0.9779 - val_loss: 0.0284 - val_accuracy: 0.9906 - val_jacard_coef: 0.9760\n",
            "Epoch 8/20\n",
            "32/32 [==============================] - 10s 323ms/step - loss: 0.0213 - accuracy: 0.9922 - jacard_coef: 0.9780 - val_loss: 0.0286 - val_accuracy: 0.9906 - val_jacard_coef: 0.9763\n",
            "Epoch 9/20\n",
            "32/32 [==============================] - 10s 323ms/step - loss: 0.0213 - accuracy: 0.9922 - jacard_coef: 0.9780 - val_loss: 0.0284 - val_accuracy: 0.9906 - val_jacard_coef: 0.9759\n",
            "Epoch 10/20\n",
            "32/32 [==============================] - 10s 326ms/step - loss: 0.0212 - accuracy: 0.9922 - jacard_coef: 0.9780 - val_loss: 0.0281 - val_accuracy: 0.9906 - val_jacard_coef: 0.9760\n",
            "Epoch 11/20\n",
            "32/32 [==============================] - 10s 326ms/step - loss: 0.0212 - accuracy: 0.9923 - jacard_coef: 0.9780 - val_loss: 0.0284 - val_accuracy: 0.9906 - val_jacard_coef: 0.9758\n",
            "Epoch 12/20\n",
            "32/32 [==============================] - 10s 325ms/step - loss: 0.0212 - accuracy: 0.9923 - jacard_coef: 0.9781 - val_loss: 0.0284 - val_accuracy: 0.9907 - val_jacard_coef: 0.9761\n",
            "Epoch 13/20\n",
            "32/32 [==============================] - 10s 327ms/step - loss: 0.0211 - accuracy: 0.9923 - jacard_coef: 0.9781 - val_loss: 0.0284 - val_accuracy: 0.9907 - val_jacard_coef: 0.9761\n",
            "Epoch 14/20\n",
            "32/32 [==============================] - 10s 323ms/step - loss: 0.0211 - accuracy: 0.9923 - jacard_coef: 0.9781 - val_loss: 0.0287 - val_accuracy: 0.9906 - val_jacard_coef: 0.9760\n",
            "Epoch 15/20\n",
            "32/32 [==============================] - 10s 323ms/step - loss: 0.0211 - accuracy: 0.9923 - jacard_coef: 0.9782 - val_loss: 0.0285 - val_accuracy: 0.9907 - val_jacard_coef: 0.9760\n",
            "Epoch 16/20\n",
            "32/32 [==============================] - 10s 326ms/step - loss: 0.0212 - accuracy: 0.9923 - jacard_coef: 0.9781 - val_loss: 0.0284 - val_accuracy: 0.9907 - val_jacard_coef: 0.9761\n",
            "Epoch 17/20\n",
            "32/32 [==============================] - 10s 325ms/step - loss: 0.0211 - accuracy: 0.9923 - jacard_coef: 0.9782 - val_loss: 0.0285 - val_accuracy: 0.9907 - val_jacard_coef: 0.9763\n",
            "Epoch 18/20\n",
            "32/32 [==============================] - 10s 323ms/step - loss: 0.0211 - accuracy: 0.9923 - jacard_coef: 0.9782 - val_loss: 0.0284 - val_accuracy: 0.9907 - val_jacard_coef: 0.9763\n",
            "Epoch 19/20\n",
            "32/32 [==============================] - 10s 324ms/step - loss: 0.0211 - accuracy: 0.9923 - jacard_coef: 0.9782 - val_loss: 0.0284 - val_accuracy: 0.9906 - val_jacard_coef: 0.9760\n",
            "Epoch 20/20\n",
            "32/32 [==============================] - 10s 324ms/step - loss: 0.0211 - accuracy: 0.9923 - jacard_coef: 0.9782 - val_loss: 0.0284 - val_accuracy: 0.9907 - val_jacard_coef: 0.9765\n"
          ]
        }
      ]
    },
    {
      "cell_type": "code",
      "source": [
        "loss = history1.history['loss']\n",
        "val_loss = history1.history['val_loss']\n",
        "\n",
        "# iou_coef = history.history['iou_coef']\n",
        "# val_iou_coef = history.history['val_iou_coef']\n",
        "\n",
        "# dice_coef = history.history['dice_coef']\n",
        "# val_dice_coef = history.history['val_dice_coef']\n",
        "\n",
        "\n",
        "epochs = range(1, len(loss) + 1)\n",
        "\n",
        "plt.figure(figsize=(20, 5))\n",
        "\n",
        "# loss\n",
        "plt.subplot(1,3,1)\n",
        "plt.plot(epochs, loss, 'bo', label = 'Trainig loss')\n",
        "plt.plot(epochs, val_loss, 'r', label = 'Validation loss')\n",
        "plt.legend()\n",
        "\n",
        "\n",
        "# dice\n",
        "# plt.subplot(1,3,2)\n",
        "# plt.plot(epochs, dice_coef, 'bo', label = 'Training dice accuracy')\n",
        "# plt.plot(epochs, val_dice_coef, 'r', label = 'Validation dice accuracy')\n",
        "# plt.legend()\n",
        "\n",
        "plt.show()"
      ],
      "metadata": {
        "id": "_98BzJdf90dI",
        "colab": {
          "base_uri": "https://localhost:8080/",
          "height": 322
        },
        "outputId": "2844881f-0f76-4582-e22e-c8eb3e7ab977"
      },
      "execution_count": 98,
      "outputs": [
        {
          "output_type": "display_data",
          "data": {
            "text/plain": [
              "<Figure size 1440x360 with 1 Axes>"
            ],
            "image/png": "[encoded data removed]"
          },
          "metadata": {
            "needs_background": "light"
          }
        }
      ]
    },
    {
      "cell_type": "code",
      "source": [
        "model.save('my_model_200_epochs.h5', include_optimizer=False)"
      ],
      "metadata": {
        "id": "BHNEvrSjZ5wG"
      },
      "execution_count": 99,
      "outputs": []
    },
    {
      "cell_type": "code",
      "source": [
        "!cp my_model_150_epochs.h5 '/content/gdrive/MyDrive/DL'"
      ],
      "metadata": {
        "id": "THrZVaHwJqqg"
      },
      "execution_count": 100,
      "outputs": []
    },
    {
      "cell_type": "code",
      "source": [
        "model1=tf.keras.models.load_model('/content/my_model_200_epochs.h5')"
      ],
      "metadata": {
        "colab": {
          "base_uri": "https://localhost:8080/"
        },
        "id": "H9xkP1xLF6xl",
        "outputId": "ddd01548-da7f-4876-fc0b-4d7a6719c6c6"
      },
      "execution_count": 101,
      "outputs": [
        {
          "output_type": "stream",
          "name": "stderr",
          "text": [
            "WARNING:tensorflow:No training configuration found in the save file, so the model was *not* compiled. Compile it manually.\n"
          ]
        }
      ]
    },
    {
      "cell_type": "code",
      "source": [
        "model1.compile(optimizer='adam', loss='categorical_crossentropy', metrics=metrics)"
      ],
      "metadata": {
        "id": "ndrS3yptGTTC"
      },
      "execution_count": 102,
      "outputs": []
    },
    {
      "cell_type": "code",
      "source": [
        "pred = model.predict(valX[900:905])\n",
        "pred_argmax = np.argmax(pred, axis=3)"
      ],
      "metadata": {
        "colab": {
          "base_uri": "https://localhost:8080/"
        },
        "id": "KCWNf84sGZco",
        "outputId": "a47c0a35-07db-49a5-82a2-aff5465d0cc4"
      },
      "execution_count": 42,
      "outputs": [
        {
          "output_type": "stream",
          "name": "stdout",
          "text": [
            "1/1 [==============================] - 1s 646ms/step\n"
          ]
        }
      ]
    },
    {
      "cell_type": "code",
      "source": [
        "import random\n",
        "test_img_number = random.randint(901, len(valX))\n",
        "test_img = valX[test_img_number]\n",
        "ground_truth=masks_cat_test[test_img_number]\n",
        "test_img_norm=test_img[:,:,0][:,:,None]\n",
        "test_img_input=np.expand_dims(test_img_norm, 0)\n",
        "prediction = (model.predict(test_img_input))\n",
        "predicted_img=np.argmax(prediction, axis=3)[0,:,:]\n",
        "\n",
        "\n",
        "plt.figure(figsize=(12, 8))\n",
        "plt.subplot(231)\n",
        "plt.title('Testing Image')\n",
        "plt.imshow(test_img[:,:,0], cmap='gray')\n",
        "plt.subplot(232)\n",
        "plt.title('Testing Label')\n",
        "plt.imshow(valY[test_img_number][:,:,0], cmap='gray')\n",
        "plt.subplot(233)\n",
        "plt.title('Prediction on test image')\n",
        "plt.imshow(predicted_img, cmap='gray')\n",
        "plt.show()"
      ],
      "metadata": {
        "colab": {
          "base_uri": "https://localhost:8080/",
          "height": 278
        },
        "id": "EESn-u_8Le4U",
        "outputId": "eb8e7bf7-9a5f-4d00-a276-928b48eda65e"
      },
      "execution_count": 117,
      "outputs": [
        {
          "output_type": "stream",
          "name": "stdout",
          "text": [
            "1/1 [==============================] - 0s 20ms/step\n"
          ]
        },
        {
          "output_type": "display_data",
          "data": {
            "text/plain": [
              "<Figure size 864x576 with 3 Axes>"
            ],
            "image/png": "[encoded data removed]"
          },
          "metadata": {
            "needs_background": "light"
          }
        }
      ]
    },
    {
      "cell_type": "code",
      "source": [
        "np.unique(predicted_img)"
      ],
      "metadata": {
        "colab": {
          "base_uri": "https://localhost:8080/"
        },
        "id": "MZs67J7WAcPM",
        "outputId": "1c631aa2-df45-4a8f-a103-546d7e442483"
      },
      "execution_count": 59,
      "outputs": [
        {
          "output_type": "execute_result",
          "data": {
            "text/plain": [
              "array([0, 1, 3])"
            ]
          },
          "metadata": {},
          "execution_count": 59
        }
      ]
    },
    {
      "cell_type": "code",
      "source": [
        "print(predicted_img.shape)\n",
        "# plt.imshow(valX[901])\n",
        "plt.imshow(np.argmax(predicted_img))\n"
      ],
      "metadata": {
        "colab": {
          "base_uri": "https://localhost:8080/",
          "height": 615
        },
        "id": "frlgofd2FM3q",
        "outputId": "31d01bc0-610d-4dd0-82e1-9b5ba40f8126"
      },
      "execution_count": 54,
      "outputs": [
        {
          "output_type": "stream",
          "name": "stdout",
          "text": [
            "(128, 128)\n"
          ]
        },
        {
          "output_type": "error",
          "ename": "TypeError",
          "evalue": "ignored",
          "traceback": [
            "\u001b[0;31m---------------------------------------------------------------------------\u001b[0m",
            "\u001b[0;31mTypeError\u001b[0m                                 Traceback (most recent call last)",
            "\u001b[0;32m<ipython-input-54-1bf0fd88c38a>\u001b[0m in \u001b[0;36m<module>\u001b[0;34m\u001b[0m\n\u001b[1;32m      1\u001b[0m \u001b[0mprint\u001b[0m\u001b[0;34m(\u001b[0m\u001b[0mpredicted_img\u001b[0m\u001b[0;34m.\u001b[0m\u001b[0mshape\u001b[0m\u001b[0;34m)\u001b[0m\u001b[0;34m\u001b[0m\u001b[0;34m\u001b[0m\u001b[0m\n\u001b[1;32m      2\u001b[0m \u001b[0;31m# plt.imshow(valX[901])\u001b[0m\u001b[0;34m\u001b[0m\u001b[0;34m\u001b[0m\u001b[0;34m\u001b[0m\u001b[0m\n\u001b[0;32m----> 3\u001b[0;31m \u001b[0mplt\u001b[0m\u001b[0;34m.\u001b[0m\u001b[0mimshow\u001b[0m\u001b[0;34m(\u001b[0m\u001b[0mnp\u001b[0m\u001b[0;34m.\u001b[0m\u001b[0margmax\u001b[0m\u001b[0;34m(\u001b[0m\u001b[0mpredicted_img\u001b[0m\u001b[0;34m)\u001b[0m\u001b[0;34m)\u001b[0m\u001b[0;34m\u001b[0m\u001b[0;34m\u001b[0m\u001b[0m\n\u001b[0m",
            "\u001b[0;32m/usr/local/lib/python3.8/dist-packages/matplotlib/pyplot.py\u001b[0m in \u001b[0;36mimshow\u001b[0;34m(X, cmap, norm, aspect, interpolation, alpha, vmin, vmax, origin, extent, shape, filternorm, filterrad, imlim, resample, url, data, **kwargs)\u001b[0m\n\u001b[1;32m   2643\u001b[0m         \u001b[0mfilterrad\u001b[0m\u001b[0;34m=\u001b[0m\u001b[0;36m4.0\u001b[0m\u001b[0;34m,\u001b[0m \u001b[0mimlim\u001b[0m\u001b[0;34m=\u001b[0m\u001b[0mcbook\u001b[0m\u001b[0;34m.\u001b[0m\u001b[0mdeprecation\u001b[0m\u001b[0;34m.\u001b[0m\u001b[0m_deprecated_parameter\u001b[0m\u001b[0;34m,\u001b[0m\u001b[0;34m\u001b[0m\u001b[0;34m\u001b[0m\u001b[0m\n\u001b[1;32m   2644\u001b[0m         resample=None, url=None, *, data=None, **kwargs):\n\u001b[0;32m-> 2645\u001b[0;31m     __ret = gca().imshow(\n\u001b[0m\u001b[1;32m   2646\u001b[0m         \u001b[0mX\u001b[0m\u001b[0;34m,\u001b[0m \u001b[0mcmap\u001b[0m\u001b[0;34m=\u001b[0m\u001b[0mcmap\u001b[0m\u001b[0;34m,\u001b[0m \u001b[0mnorm\u001b[0m\u001b[0;34m=\u001b[0m\u001b[0mnorm\u001b[0m\u001b[0;34m,\u001b[0m \u001b[0maspect\u001b[0m\u001b[0;34m=\u001b[0m\u001b[0maspect\u001b[0m\u001b[0;34m,\u001b[0m\u001b[0;34m\u001b[0m\u001b[0;34m\u001b[0m\u001b[0m\n\u001b[1;32m   2647\u001b[0m         \u001b[0minterpolation\u001b[0m\u001b[0;34m=\u001b[0m\u001b[0minterpolation\u001b[0m\u001b[0;34m,\u001b[0m \u001b[0malpha\u001b[0m\u001b[0;34m=\u001b[0m\u001b[0malpha\u001b[0m\u001b[0;34m,\u001b[0m \u001b[0mvmin\u001b[0m\u001b[0;34m=\u001b[0m\u001b[0mvmin\u001b[0m\u001b[0;34m,\u001b[0m\u001b[0;34m\u001b[0m\u001b[0;34m\u001b[0m\u001b[0m\n",
            "\u001b[0;32m/usr/local/lib/python3.8/dist-packages/matplotlib/__init__.py\u001b[0m in \u001b[0;36minner\u001b[0;34m(ax, data, *args, **kwargs)\u001b[0m\n\u001b[1;32m   1563\u001b[0m     \u001b[0;32mdef\u001b[0m \u001b[0minner\u001b[0m\u001b[0;34m(\u001b[0m\u001b[0max\u001b[0m\u001b[0;34m,\u001b[0m \u001b[0;34m*\u001b[0m\u001b[0margs\u001b[0m\u001b[0;34m,\u001b[0m \u001b[0mdata\u001b[0m\u001b[0;34m=\u001b[0m\u001b[0;32mNone\u001b[0m\u001b[0;34m,\u001b[0m \u001b[0;34m**\u001b[0m\u001b[0mkwargs\u001b[0m\u001b[0;34m)\u001b[0m\u001b[0;34m:\u001b[0m\u001b[0;34m\u001b[0m\u001b[0;34m\u001b[0m\u001b[0m\n\u001b[1;32m   1564\u001b[0m         \u001b[0;32mif\u001b[0m \u001b[0mdata\u001b[0m \u001b[0;32mis\u001b[0m \u001b[0;32mNone\u001b[0m\u001b[0;34m:\u001b[0m\u001b[0;34m\u001b[0m\u001b[0;34m\u001b[0m\u001b[0m\n\u001b[0;32m-> 1565\u001b[0;31m             \u001b[0;32mreturn\u001b[0m \u001b[0mfunc\u001b[0m\u001b[0;34m(\u001b[0m\u001b[0max\u001b[0m\u001b[0;34m,\u001b[0m \u001b[0;34m*\u001b[0m\u001b[0mmap\u001b[0m\u001b[0;34m(\u001b[0m\u001b[0msanitize_sequence\u001b[0m\u001b[0;34m,\u001b[0m \u001b[0margs\u001b[0m\u001b[0;34m)\u001b[0m\u001b[0;34m,\u001b[0m \u001b[0;34m**\u001b[0m\u001b[0mkwargs\u001b[0m\u001b[0;34m)\u001b[0m\u001b[0;34m\u001b[0m\u001b[0;34m\u001b[0m\u001b[0m\n\u001b[0m\u001b[1;32m   1566\u001b[0m \u001b[0;34m\u001b[0m\u001b[0m\n\u001b[1;32m   1567\u001b[0m         \u001b[0mbound\u001b[0m \u001b[0;34m=\u001b[0m \u001b[0mnew_sig\u001b[0m\u001b[0;34m.\u001b[0m\u001b[0mbind\u001b[0m\u001b[0;34m(\u001b[0m\u001b[0max\u001b[0m\u001b[0;34m,\u001b[0m \u001b[0;34m*\u001b[0m\u001b[0margs\u001b[0m\u001b[0;34m,\u001b[0m \u001b[0;34m**\u001b[0m\u001b[0mkwargs\u001b[0m\u001b[0;34m)\u001b[0m\u001b[0;34m\u001b[0m\u001b[0;34m\u001b[0m\u001b[0m\n",
            "\u001b[0;32m/usr/local/lib/python3.8/dist-packages/matplotlib/cbook/deprecation.py\u001b[0m in \u001b[0;36mwrapper\u001b[0;34m(*args, **kwargs)\u001b[0m\n\u001b[1;32m    356\u001b[0m                 \u001b[0;34mf\"%(removal)s.  If any parameter follows {name!r}, they \"\u001b[0m\u001b[0;34m\u001b[0m\u001b[0;34m\u001b[0m\u001b[0m\n\u001b[1;32m    357\u001b[0m                 f\"should be pass as keyword, not positionally.\")\n\u001b[0;32m--> 358\u001b[0;31m         \u001b[0;32mreturn\u001b[0m \u001b[0mfunc\u001b[0m\u001b[0;34m(\u001b[0m\u001b[0;34m*\u001b[0m\u001b[0margs\u001b[0m\u001b[0;34m,\u001b[0m \u001b[0;34m**\u001b[0m\u001b[0mkwargs\u001b[0m\u001b[0;34m)\u001b[0m\u001b[0;34m\u001b[0m\u001b[0;34m\u001b[0m\u001b[0m\n\u001b[0m\u001b[1;32m    359\u001b[0m \u001b[0;34m\u001b[0m\u001b[0m\n\u001b[1;32m    360\u001b[0m     \u001b[0;32mreturn\u001b[0m \u001b[0mwrapper\u001b[0m\u001b[0;34m\u001b[0m\u001b[0;34m\u001b[0m\u001b[0m\n",
            "\u001b[0;32m/usr/local/lib/python3.8/dist-packages/matplotlib/cbook/deprecation.py\u001b[0m in \u001b[0;36mwrapper\u001b[0;34m(*args, **kwargs)\u001b[0m\n\u001b[1;32m    356\u001b[0m                 \u001b[0;34mf\"%(removal)s.  If any parameter follows {name!r}, they \"\u001b[0m\u001b[0;34m\u001b[0m\u001b[0;34m\u001b[0m\u001b[0m\n\u001b[1;32m    357\u001b[0m                 f\"should be pass as keyword, not positionally.\")\n\u001b[0;32m--> 358\u001b[0;31m         \u001b[0;32mreturn\u001b[0m \u001b[0mfunc\u001b[0m\u001b[0;34m(\u001b[0m\u001b[0;34m*\u001b[0m\u001b[0margs\u001b[0m\u001b[0;34m,\u001b[0m \u001b[0;34m**\u001b[0m\u001b[0mkwargs\u001b[0m\u001b[0;34m)\u001b[0m\u001b[0;34m\u001b[0m\u001b[0;34m\u001b[0m\u001b[0m\n\u001b[0m\u001b[1;32m    359\u001b[0m \u001b[0;34m\u001b[0m\u001b[0m\n\u001b[1;32m    360\u001b[0m     \u001b[0;32mreturn\u001b[0m \u001b[0mwrapper\u001b[0m\u001b[0;34m\u001b[0m\u001b[0;34m\u001b[0m\u001b[0m\n",
            "\u001b[0;32m/usr/local/lib/python3.8/dist-packages/matplotlib/axes/_axes.py\u001b[0m in \u001b[0;36mimshow\u001b[0;34m(self, X, cmap, norm, aspect, interpolation, alpha, vmin, vmax, origin, extent, shape, filternorm, filterrad, imlim, resample, url, **kwargs)\u001b[0m\n\u001b[1;32m   5624\u001b[0m                               resample=resample, **kwargs)\n\u001b[1;32m   5625\u001b[0m \u001b[0;34m\u001b[0m\u001b[0m\n\u001b[0;32m-> 5626\u001b[0;31m         \u001b[0mim\u001b[0m\u001b[0;34m.\u001b[0m\u001b[0mset_data\u001b[0m\u001b[0;34m(\u001b[0m\u001b[0mX\u001b[0m\u001b[0;34m)\u001b[0m\u001b[0;34m\u001b[0m\u001b[0;34m\u001b[0m\u001b[0m\n\u001b[0m\u001b[1;32m   5627\u001b[0m         \u001b[0mim\u001b[0m\u001b[0;34m.\u001b[0m\u001b[0mset_alpha\u001b[0m\u001b[0;34m(\u001b[0m\u001b[0malpha\u001b[0m\u001b[0;34m)\u001b[0m\u001b[0;34m\u001b[0m\u001b[0;34m\u001b[0m\u001b[0m\n\u001b[1;32m   5628\u001b[0m         \u001b[0;32mif\u001b[0m \u001b[0mim\u001b[0m\u001b[0;34m.\u001b[0m\u001b[0mget_clip_path\u001b[0m\u001b[0;34m(\u001b[0m\u001b[0;34m)\u001b[0m \u001b[0;32mis\u001b[0m \u001b[0;32mNone\u001b[0m\u001b[0;34m:\u001b[0m\u001b[0;34m\u001b[0m\u001b[0;34m\u001b[0m\u001b[0m\n",
            "\u001b[0;32m/usr/local/lib/python3.8/dist-packages/matplotlib/image.py\u001b[0m in \u001b[0;36mset_data\u001b[0;34m(self, A)\u001b[0m\n\u001b[1;32m    696\u001b[0m         if not (self._A.ndim == 2\n\u001b[1;32m    697\u001b[0m                 or self._A.ndim == 3 and self._A.shape[-1] in [3, 4]):\n\u001b[0;32m--> 698\u001b[0;31m             raise TypeError(\"Invalid shape {} for image data\"\n\u001b[0m\u001b[1;32m    699\u001b[0m                             .format(self._A.shape))\n\u001b[1;32m    700\u001b[0m \u001b[0;34m\u001b[0m\u001b[0m\n",
            "\u001b[0;31mTypeError\u001b[0m: Invalid shape () for image data"
          ]
        },
        {
          "output_type": "display_data",
          "data": {
            "text/plain": [
              "<Figure size 432x288 with 1 Axes>"
            ],
            "image/png": "[encoded data removed]"
          },
          "metadata": {
            "needs_background": "light"
          }
        }
      ]
    },
    {
      "cell_type": "code",
      "source": [
        "plt.imshow(masks_cat_test[903])"
      ],
      "metadata": {
        "colab": {
          "base_uri": "https://localhost:8080/",
          "height": 285
        },
        "id": "MbR8eLvRHZ5-",
        "outputId": "9f7e8c29-c3af-496d-9c46-f68e769a44f9"
      },
      "execution_count": 56,
      "outputs": [
        {
          "output_type": "execute_result",
          "data": {
            "text/plain": [
              "<matplotlib.image.AxesImage at 0x7fc05fdd9e50>"
            ]
          },
          "metadata": {},
          "execution_count": 56
        },
        {
          "output_type": "display_data",
          "data": {
            "text/plain": [
              "<Figure size 432x288 with 1 Axes>"
            ],
            "image/png": "[encoded data removed]"
          },
          "metadata": {
            "needs_background": "light"
          }
        }
      ]
    },
    {
      "cell_type": "code",
      "source": [
        "np.save('train_data.npy', training_generator)"
      ],
      "metadata": {
        "id": "cfvsPtwUlOfs"
      },
      "execution_count": null,
      "outputs": []
    },
    {
      "cell_type": "code",
      "source": [
        "datagen = ImageDataGenerator(validation_split=0.2)\n",
        "training_generator = datagen.flow(imgs,masks , batch_size=64,subset='training',seed=7)\n"
      ],
      "metadata": {
        "id": "gxpuyJyK7Ntg"
      },
      "execution_count": null,
      "outputs": []
    },
    {
      "cell_type": "code",
      "source": [
        "training_generator[1][0].shape"
      ],
      "metadata": {
        "colab": {
          "base_uri": "https://localhost:8080/"
        },
        "id": "MNMfjNk1Pzrc",
        "outputId": "6c057537-4169-4166-c2f2-6520c7537f3d"
      },
      "execution_count": null,
      "outputs": [
        {
          "output_type": "execute_result",
          "data": {
            "text/plain": [
              "(64, 128, 128, 3)"
            ]
          },
          "metadata": {},
          "execution_count": 68
        }
      ]
    },
    {
      "cell_type": "code",
      "source": [
        "training_generator[206][0].shape"
      ],
      "metadata": {
        "colab": {
          "base_uri": "https://localhost:8080/"
        },
        "id": "iY7mmJ-zqmDi",
        "outputId": "cab7ab93-5a21-4b6b-a5b0-1ffbb1918862"
      },
      "execution_count": null,
      "outputs": [
        {
          "output_type": "execute_result",
          "data": {
            "text/plain": [
              "(64, 128, 128, 3)"
            ]
          },
          "metadata": {},
          "execution_count": 76
        }
      ]
    },
    {
      "cell_type": "code",
      "source": [
        "imgs1=imgs[14000:15000].copy()"
      ],
      "metadata": {
        "id": "kVjfAok6suzj"
      },
      "execution_count": null,
      "outputs": []
    },
    {
      "cell_type": "code",
      "source": [
        "masks.shape"
      ],
      "metadata": {
        "colab": {
          "base_uri": "https://localhost:8080/"
        },
        "id": "pe0SeCBns3RU",
        "outputId": "242b7af0-cfb1-4e19-a7ee-97a0e9b466ba"
      },
      "execution_count": null,
      "outputs": [
        {
          "output_type": "execute_result",
          "data": {
            "text/plain": [
              "(16590, 128, 128, 3)"
            ]
          },
          "metadata": {},
          "execution_count": 78
        }
      ]
    },
    {
      "cell_type": "code",
      "source": [
        "validation_generator = datagen.flow(imgs, masks, batch_size=64,subset='validation',seed=7)"
      ],
      "metadata": {
        "id": "uxivcYrjkIIF"
      },
      "execution_count": null,
      "outputs": []
    },
    {
      "cell_type": "code",
      "source": [
        "imgs\n",
        "# validation_generator"
      ],
      "metadata": {
        "colab": {
          "base_uri": "https://localhost:8080/"
        },
        "id": "Y0K4cCj4vfy7",
        "outputId": "2549bea2-519b-4cbb-fb3d-1f5a98fb0b96"
      },
      "execution_count": null,
      "outputs": [
        {
          "output_type": "execute_result",
          "data": {
            "text/plain": [
              "0"
            ]
          },
          "metadata": {},
          "execution_count": 78
        }
      ]
    },
    {
      "cell_type": "code",
      "source": [
        "masks=0"
      ],
      "metadata": {
        "id": "Vcnc_OPqvhuz"
      },
      "execution_count": null,
      "outputs": []
    },
    {
      "cell_type": "code",
      "source": [
        "type(training_generator) "
      ],
      "metadata": {
        "colab": {
          "base_uri": "https://localhost:8080/"
        },
        "id": "nGUTSIw4qlNR",
        "outputId": "3e01a104-51c2-436c-dbec-de52e55d33e5"
      },
      "execution_count": null,
      "outputs": [
        {
          "output_type": "execute_result",
          "data": {
            "text/plain": [
              "keras.preprocessing.image.NumpyArrayIterator"
            ]
          },
          "metadata": {},
          "execution_count": 6
        }
      ]
    },
    {
      "cell_type": "code",
      "source": [
        "training_generator[0][0][0][0][0]"
      ],
      "metadata": {
        "colab": {
          "base_uri": "https://localhost:8080/"
        },
        "id": "pww3eg7cmoza",
        "outputId": "e5e530cf-107d-42fb-f036-db415c480b85"
      },
      "execution_count": null,
      "outputs": [
        {
          "output_type": "execute_result",
          "data": {
            "text/plain": [
              "array([0., 0., 0.], dtype=float32)"
            ]
          },
          "metadata": {},
          "execution_count": 14
        }
      ]
    },
    {
      "cell_type": "code",
      "source": [],
      "metadata": {
        "id": "gCk0X37vpcKO"
      },
      "execution_count": null,
      "outputs": []
    },
    {
      "cell_type": "code",
      "source": [
        "def conv_block(inputs=None, n_filters=32, dropout_prob=0, max_pooling=True):\n",
        "    \"\"\"\n",
        "    Convolutional downsampling block\n",
        "    \n",
        "    Arguments:\n",
        "        inputs -- Input tensor\n",
        "        n_filters -- Number of filters for the convolutional layers\n",
        "        dropout_prob -- Dropout probability\n",
        "        max_pooling -- Use MaxPooling2D to reduce the spatial dimensions of the output volume\n",
        "    Returns: \n",
        "        next_layer, skip_connection --  Next layer and skip connection outputs\n",
        "    \"\"\"\n",
        "    conv = Conv2D(n_filters, 3, activation='relu', kernel_initializer='he_normal', padding='same')(inputs)\n",
        "    conv = Conv2D(n_filters, 3, activation='relu', kernel_initializer='he_normal', padding='same')(inputs)\n",
        "    \n",
        "    \n",
        "    ### START CODE HERE\n",
        "    \n",
        "    \n",
        "    \n",
        "    ### END CODE HERE\n",
        "    \n",
        "    # if dropout_prob > 0 add a dropout layer, with the variable dropout_prob as parameter\n",
        "    if dropout_prob > 0:\n",
        "      conv= Dropout(dropout_prob) (conv)\n",
        "         ### START CODE HERE\n",
        "        \n",
        "         ### END CODE HERE\n",
        "         \n",
        "        \n",
        "    # if max_pooling is True add a MaxPooling2D with 2x2 pool_size\n",
        "    if max_pooling:\n",
        "      next_layer=MaxPooling2D((2, 2),strides=2) (conv)\n",
        "        ### START CODE HERE\n",
        "        \n",
        "        ### END CODE HERE\n",
        "        \n",
        "    else:\n",
        "        next_layer = conv\n",
        "        \n",
        "    skip_connection = conv\n",
        "    \n",
        "    return next_layer, skip_connection"
      ],
      "metadata": {
        "id": "A1Ejb3yx7x9E"
      },
      "execution_count": null,
      "outputs": []
    },
    {
      "cell_type": "code",
      "source": [
        "def upsampling_block(expansive_input, contractive_input, n_filters=32):\n",
        "    \"\"\"\n",
        "    Convolutional upsampling block\n",
        "    \n",
        "    Arguments:\n",
        "        expansive_input -- Input tensor from previous layer\n",
        "        contractive_input -- Input tensor from previous skip layer\n",
        "        n_filters -- Number of filters for the convolutional layers\n",
        "    Returns: \n",
        "        conv -- Tensor output\n",
        "    \"\"\"\n",
        "    \n",
        "    ### START CODE HERE\n",
        "    up=Conv2DTranspose(n_filters, 3, strides=2, padding='same') (expansive_input)\n",
        "    conv=concatenate([up, contractive_input], axis=3)\n",
        "    conv=Conv2D(n_filters, 3, activation='relu', kernel_initializer='he_normal', padding='same')(conv)\n",
        "    conv=Conv2D(n_filters, 3, activation='relu', kernel_initializer='he_normal', padding='same')(conv)\n",
        "    \n",
        "    ### END CODE HERE\n",
        "    \n",
        "    return conv"
      ],
      "metadata": {
        "id": "88s5hgN97_Kw"
      },
      "execution_count": null,
      "outputs": []
    },
    {
      "cell_type": "code",
      "source": [
        "def unet_model(input_size=(128, 128, 3), n_filters=32, n_classes=3):\n",
        "    \"\"\"\n",
        "    Unet model\n",
        "    \n",
        "    Arguments:\n",
        "        input_size -- Input shape \n",
        "        n_filters -- Number of filters for the convolutional layers\n",
        "        n_classes -- Number of output classes\n",
        "    Returns: \n",
        "        model -- tf.keras.Model\n",
        "    \"\"\"\n",
        "    inputs = Input(input_size)\n",
        "    # Contracting Path (encoding)\n",
        "    # Add a conv_block with the inputs of the unet_ model and n_filters\n",
        "    ### START CODE HERE\n",
        "    \n",
        "    # Chain the first element of the output of each block to be the input of the next conv_block. \n",
        "    # Double the number of filters at each new step\n",
        "    \n",
        "    \n",
        "    ### END CODE HERE\n",
        "    \n",
        "    # Expanding Path (decoding)\n",
        "    # Add the first upsampling_block.\n",
        "    # From here,at each step, use half the number of filters of the previous block \n",
        "    # Use the cblock5[0] as expansive_input and cblock4[1] as contractive_input and n_filters * 8\n",
        "    ### START CODE HERE\n",
        "    \n",
        "    \n",
        "    \n",
        "    ### END CODE HERE\n",
        "    cblock1 = conv_block(inputs=inputs, n_filters=n_filters*1)\n",
        "    # Chain the first element of the output of each block to be the input of the next conv_block. \n",
        "    # Double the number of filters at each new step\n",
        "    cblock2 = conv_block(inputs=cblock1[0], n_filters=n_filters*2)\n",
        "    cblock3 = conv_block(inputs=cblock2[0], n_filters=n_filters*4)\n",
        "    # Include a dropout of 0.3 for this layer\n",
        "    cblock4 = conv_block(inputs=cblock3[0], n_filters=n_filters*8,dropout_prob=0.3)\n",
        "    # Include a dropout of 0.3 for this layer, and avoid the max_pooling layer\n",
        "    cblock5 = conv_block(inputs=cblock4[0], n_filters=n_filters*16,dropout_prob=0.3, max_pooling=False) \n",
        "    ### END CODE HERE\n",
        "    \n",
        "    # Expanding Path (decoding)\n",
        "    # Add the first upsampling_block.\n",
        "    # From here,at each step, use half the number of filters of the previous block \n",
        "    # Use the cblock5[0] as expansive_input and cblock4[1] as contractive_input and n_filters * 8\n",
        "    ### START CODE HERE\n",
        "    ublock6 = upsampling_block(cblock5[0], cblock4[1], n_filters*8)\n",
        "    # Chain the output of the previous block as expansive_input and the corresponding contractive block output.\n",
        "    # Note that you must use the second element of the contractive block i.e before the maxpooling layer. \n",
        "    \n",
        "    ublock7 = upsampling_block(ublock6, cblock3[1], n_filters*4)\n",
        "    ublock8 = upsampling_block(ublock7, cblock2[1], n_filters*2)\n",
        "    ublock9 = upsampling_block(ublock8, cblock1[1], n_filters*1)\n",
        "    conv9 = Conv2D(n_filters,\n",
        "                 3,\n",
        "                 activation='relu',\n",
        "                 padding='same',\n",
        "                 kernel_initializer='he_normal')(ublock9)\n",
        "\n",
        "    # Add a Conv2D layer with n_classes filter, kernel size of 1 and a 'same' padding\n",
        "    ### START CODE HERE\n",
        "    # Add a Conv2D layer with n_classes filter, kernel size of 1 and a 'same' padding\n",
        "    ### START CODE HERE\n",
        "    conv10 = Conv2D(n_classes, 1, padding='same')(conv9)\n",
        "    \n",
        "    ### END CODE HERE\n",
        "    \n",
        "    model = tf.keras.Model(inputs=inputs, outputs=conv10)\n",
        "\n",
        "    return model"
      ],
      "metadata": {
        "id": "EneVRsPz8g-s"
      },
      "execution_count": null,
      "outputs": []
    },
    {
      "cell_type": "code",
      "source": [
        "img_height = 128\n",
        "img_width = 128\n",
        "num_channels = 3\n",
        "\n",
        "unet = unet_model((img_height, img_width, num_channels))"
      ],
      "metadata": {
        "id": "yLc_cDvW8lV_"
      },
      "execution_count": null,
      "outputs": []
    },
    {
      "cell_type": "code",
      "source": [
        "# unet.summary()"
      ],
      "metadata": {
        "id": "YF5V0vt88o9R"
      },
      "execution_count": null,
      "outputs": []
    },
    {
      "cell_type": "code",
      "source": [
        "from tensorflow.keras.losses import BinaryCrossentropy\n",
        "\n",
        "def loss_f(y_true, y_pred):\n",
        "    bce = BinaryCrossentropy()\n",
        "    return dice_loss(y_true, y_pred) + bce(y_true, y_pred)\n",
        "    \n",
        "def dice_loss(y_true, y_pred):\n",
        "    return 1. - dice_coef(y_true, y_pred)"
      ],
      "metadata": {
        "id": "BWNcNeBQ8vzt"
      },
      "execution_count": null,
      "outputs": []
    },
    {
      "cell_type": "code",
      "source": [
        "from keras import backend as K\n",
        "\n",
        "def dice_coef(y_true, y_pred, smooth = 1):\n",
        "    y_true_f = K.flatten(y_true)\n",
        "    y_pred_f = K.flatten(y_pred)\n",
        "    intersection = K.sum(y_true_f * y_pred_f)\n",
        "    return (2. * intersection + smooth) / (K.sum(y_true_f) + K.sum(y_pred_f) + smooth)\n",
        "\n",
        "#intersection over union coefficient\n",
        "# def iou_coef(y_true, y_pred, smooth = 1):\n",
        "#     intersection = K.sum(K.abs(y_true * y_pred))\n",
        "#     union = K.sum(y_true)+K.sum(y_pred)-intersection\n",
        "#     iou = K.mean((intersection + smooth) / (union + smooth), axis=0)\n",
        "#     return iou"
      ],
      "metadata": {
        "id": "isCJonraAbEQ"
      },
      "execution_count": null,
      "outputs": []
    },
    {
      "cell_type": "code",
      "source": [
        "def weighted_categorical_crossentropy(weights):\n",
        "    # weights = [0.9,0.05,0.04,0.01]\n",
        "    def wcce(y_true, y_pred):\n",
        "        Kweights = K.constant(weights)\n",
        "        if not K.is_tensor(y_pred): y_pred = K.constant(y_pred)\n",
        "        y_true = K.cast(y_true, y_pred.dtype)\n",
        "        return K.categorical_crossentropy(y_true, y_pred) * K.sum(y_true * Kweights, axis=-1)\n",
        "    return wcce"
      ],
      "metadata": {
        "id": "xCa8iapYn9AS"
      },
      "execution_count": null,
      "outputs": []
    },
    {
      "cell_type": "code",
      "source": [
        "# unet = unet_model()\n",
        "# unet.compile(optimizer=tf.keras.optimizers.Adam(learning_rate = 1e-4),\n",
        "#                   loss=\"categorical_crossentropy\",  metrics = ['accuracy'])\n",
        "# unet.compile(optimizer=tf.keras.optimizers.Adam(learning_rate = 1e-4),\n",
        "#                    loss = loss_f, metrics = ['accuracy'])\n",
        "unet.compile(optimizer='adam',\n",
        "              loss=tf.keras.losses.SparseCategoricalCrossentropy(from_logits=True),\n",
        "              metrics=['accuracy'])"
      ],
      "metadata": {
        "id": "vttR7qKw8raO"
      },
      "execution_count": null,
      "outputs": []
    },
    {
      "cell_type": "code",
      "source": [
        "from tensorflow.keras.callbacks import EarlyStopping, LearningRateScheduler, ReduceLROnPlateau\n",
        "\n",
        "early_stop = EarlyStopping(monitor = 'val_loss', patience = 3, verbose = 1, restore_best_weights = True)\n",
        "reduce_lr = ReduceLROnPlateau(monitor = \"val_loss\", factor = 0.1, patience = 2, verbose = 1)"
      ],
      "metadata": {
        "id": "_6q_imN79ccB"
      },
      "execution_count": null,
      "outputs": []
    },
    {
      "cell_type": "code",
      "source": [
        "unet.summary()"
      ],
      "metadata": {
        "colab": {
          "base_uri": "https://localhost:8080/"
        },
        "id": "ZJ3EKcZcBIFE",
        "outputId": "e4193f3e-3fe2-4b0b-fccb-73b1380bf3b7"
      },
      "execution_count": null,
      "outputs": [
        {
          "output_type": "stream",
          "name": "stdout",
          "text": [
            "Model: \"model\"\n",
            "__________________________________________________________________________________________________\n",
            " Layer (type)                   Output Shape         Param #     Connected to                     \n",
            "==================================================================================================\n",
            " input_1 (InputLayer)           [(None, 128, 128, 3  0           []                               \n",
            "                                )]                                                                \n",
            "                                                                                                  \n",
            " conv2d_1 (Conv2D)              (None, 128, 128, 32  896         ['input_1[0][0]']                \n",
            "                                )                                                                 \n",
            "                                                                                                  \n",
            " max_pooling2d (MaxPooling2D)   (None, 64, 64, 32)   0           ['conv2d_1[0][0]']               \n",
            "                                                                                                  \n",
            " conv2d_3 (Conv2D)              (None, 64, 64, 64)   18496       ['max_pooling2d[0][0]']          \n",
            "                                                                                                  \n",
            " max_pooling2d_1 (MaxPooling2D)  (None, 32, 32, 64)  0           ['conv2d_3[0][0]']               \n",
            "                                                                                                  \n",
            " conv2d_5 (Conv2D)              (None, 32, 32, 128)  73856       ['max_pooling2d_1[0][0]']        \n",
            "                                                                                                  \n",
            " max_pooling2d_2 (MaxPooling2D)  (None, 16, 16, 128)  0          ['conv2d_5[0][0]']               \n",
            "                                                                                                  \n",
            " conv2d_7 (Conv2D)              (None, 16, 16, 256)  295168      ['max_pooling2d_2[0][0]']        \n",
            "                                                                                                  \n",
            " dropout (Dropout)              (None, 16, 16, 256)  0           ['conv2d_7[0][0]']               \n",
            "                                                                                                  \n",
            " max_pooling2d_3 (MaxPooling2D)  (None, 8, 8, 256)   0           ['dropout[0][0]']                \n",
            "                                                                                                  \n",
            " conv2d_9 (Conv2D)              (None, 8, 8, 512)    1180160     ['max_pooling2d_3[0][0]']        \n",
            "                                                                                                  \n",
            " dropout_1 (Dropout)            (None, 8, 8, 512)    0           ['conv2d_9[0][0]']               \n",
            "                                                                                                  \n",
            " conv2d_transpose (Conv2DTransp  (None, 16, 16, 256)  1179904    ['dropout_1[0][0]']              \n",
            " ose)                                                                                             \n",
            "                                                                                                  \n",
            " concatenate (Concatenate)      (None, 16, 16, 512)  0           ['conv2d_transpose[0][0]',       \n",
            "                                                                  'dropout[0][0]']                \n",
            "                                                                                                  \n",
            " conv2d_10 (Conv2D)             (None, 16, 16, 256)  1179904     ['concatenate[0][0]']            \n",
            "                                                                                                  \n",
            " conv2d_11 (Conv2D)             (None, 16, 16, 256)  590080      ['conv2d_10[0][0]']              \n",
            "                                                                                                  \n",
            " conv2d_transpose_1 (Conv2DTran  (None, 32, 32, 128)  295040     ['conv2d_11[0][0]']              \n",
            " spose)                                                                                           \n",
            "                                                                                                  \n",
            " concatenate_1 (Concatenate)    (None, 32, 32, 256)  0           ['conv2d_transpose_1[0][0]',     \n",
            "                                                                  'conv2d_5[0][0]']               \n",
            "                                                                                                  \n",
            " conv2d_12 (Conv2D)             (None, 32, 32, 128)  295040      ['concatenate_1[0][0]']          \n",
            "                                                                                                  \n",
            " conv2d_13 (Conv2D)             (None, 32, 32, 128)  147584      ['conv2d_12[0][0]']              \n",
            "                                                                                                  \n",
            " conv2d_transpose_2 (Conv2DTran  (None, 64, 64, 64)  73792       ['conv2d_13[0][0]']              \n",
            " spose)                                                                                           \n",
            "                                                                                                  \n",
            " concatenate_2 (Concatenate)    (None, 64, 64, 128)  0           ['conv2d_transpose_2[0][0]',     \n",
            "                                                                  'conv2d_3[0][0]']               \n",
            "                                                                                                  \n",
            " conv2d_14 (Conv2D)             (None, 64, 64, 64)   73792       ['concatenate_2[0][0]']          \n",
            "                                                                                                  \n",
            " conv2d_15 (Conv2D)             (None, 64, 64, 64)   36928       ['conv2d_14[0][0]']              \n",
            "                                                                                                  \n",
            " conv2d_transpose_3 (Conv2DTran  (None, 128, 128, 32  18464      ['conv2d_15[0][0]']              \n",
            " spose)                         )                                                                 \n",
            "                                                                                                  \n",
            " concatenate_3 (Concatenate)    (None, 128, 128, 64  0           ['conv2d_transpose_3[0][0]',     \n",
            "                                )                                 'conv2d_1[0][0]']               \n",
            "                                                                                                  \n",
            " conv2d_16 (Conv2D)             (None, 128, 128, 32  18464       ['concatenate_3[0][0]']          \n",
            "                                )                                                                 \n",
            "                                                                                                  \n",
            " conv2d_17 (Conv2D)             (None, 128, 128, 32  9248        ['conv2d_16[0][0]']              \n",
            "                                )                                                                 \n",
            "                                                                                                  \n",
            " conv2d_18 (Conv2D)             (None, 128, 128, 32  9248        ['conv2d_17[0][0]']              \n",
            "                                )                                                                 \n",
            "                                                                                                  \n",
            " conv2d_19 (Conv2D)             (None, 128, 128, 3)  99          ['conv2d_18[0][0]']              \n",
            "                                                                                                  \n",
            "==================================================================================================\n",
            "Total params: 5,496,163\n",
            "Trainable params: 5,496,163\n",
            "Non-trainable params: 0\n",
            "__________________________________________________________________________________________________\n"
          ]
        }
      ]
    },
    {
      "cell_type": "code",
      "source": [
        "# loss = weighted_categorical_crossentropy(weights)\n",
        "# optimizer = keras.optimizers.Adam(lr=0.01)\n",
        "# unet.compile(optimizer=optimizer, loss=loss)"
      ],
      "metadata": {
        "id": "Gjt4v1lcoKEN"
      },
      "execution_count": null,
      "outputs": []
    },
    {
      "cell_type": "code",
      "source": [
        "cross_entropy = tf.nn.softmax_cross_entropy_with_logits_v2(logits=logits, \n",
        "                                                           labels = one_hot_y)\n",
        "loss          = tf.reduce_mean(cross_entropy)\n",
        "\n",
        "optimizer = tf.train.AdamOptimizer(learning_rate= 0.001).minimize(loss)"
      ],
      "metadata": {
        "id": "5VEMuak7pW87"
      },
      "execution_count": null,
      "outputs": []
    },
    {
      "cell_type": "code",
      "source": [
        "masks=masks.reshape(len(masks),128,128,1)"
      ],
      "metadata": {
        "id": "n2WRJeJDtVir"
      },
      "execution_count": null,
      "outputs": []
    },
    {
      "cell_type": "code",
      "source": [
        "# EPOCHS = 3\n",
        "# history = unet.fit( imgs[0:10000],masks[0:10000],\n",
        "#                          validation_data = (imgs[10000:13000], masks[10000:13000]), \n",
        "#                          epochs = EPOCHS, callbacks = [early_stop, reduce_lr])\n",
        "history = unet.fit( training_generator,\n",
        "                         validation_data = validation_generator, \n",
        "                         epochs = EPOCHS, callbacks = [early_stop, reduce_lr])"
      ],
      "metadata": {
        "colab": {
          "base_uri": "https://localhost:8080/",
          "height": 1000
        },
        "id": "6MBlSsc29g0L",
        "outputId": "2ba2ebee-42a1-42a2-9d86-c1382ceefbec"
      },
      "execution_count": null,
      "outputs": [
        {
          "output_type": "stream",
          "name": "stdout",
          "text": [
            "Epoch 1/3\n"
          ]
        },
        {
          "output_type": "error",
          "ename": "InvalidArgumentError",
          "evalue": "ignored",
          "traceback": [
            "\u001b[0;31m---------------------------------------------------------------------------\u001b[0m",
            "\u001b[0;31mInvalidArgumentError\u001b[0m                      Traceback (most recent call last)",
            "\u001b[0;32m<ipython-input-81-97ff3a8fbfdf>\u001b[0m in \u001b[0;36m<module>\u001b[0;34m\u001b[0m\n\u001b[1;32m      3\u001b[0m \u001b[0;31m#                          validation_data = (imgs[10000:13000], masks[10000:13000]),\u001b[0m\u001b[0;34m\u001b[0m\u001b[0;34m\u001b[0m\u001b[0;34m\u001b[0m\u001b[0m\n\u001b[1;32m      4\u001b[0m \u001b[0;31m#                          epochs = EPOCHS, callbacks = [early_stop, reduce_lr])\u001b[0m\u001b[0;34m\u001b[0m\u001b[0;34m\u001b[0m\u001b[0;34m\u001b[0m\u001b[0m\n\u001b[0;32m----> 5\u001b[0;31m history = unet.fit( training_generator,\n\u001b[0m\u001b[1;32m      6\u001b[0m                          \u001b[0mvalidation_data\u001b[0m \u001b[0;34m=\u001b[0m \u001b[0mvalidation_generator\u001b[0m\u001b[0;34m,\u001b[0m\u001b[0;34m\u001b[0m\u001b[0;34m\u001b[0m\u001b[0m\n\u001b[1;32m      7\u001b[0m                          epochs = EPOCHS, callbacks = [early_stop, reduce_lr])\n",
            "\u001b[0;32m/usr/local/lib/python3.8/dist-packages/keras/utils/traceback_utils.py\u001b[0m in \u001b[0;36merror_handler\u001b[0;34m(*args, **kwargs)\u001b[0m\n\u001b[1;32m     65\u001b[0m     \u001b[0;32mexcept\u001b[0m \u001b[0mException\u001b[0m \u001b[0;32mas\u001b[0m \u001b[0me\u001b[0m\u001b[0;34m:\u001b[0m  \u001b[0;31m# pylint: disable=broad-except\u001b[0m\u001b[0;34m\u001b[0m\u001b[0;34m\u001b[0m\u001b[0m\n\u001b[1;32m     66\u001b[0m       \u001b[0mfiltered_tb\u001b[0m \u001b[0;34m=\u001b[0m \u001b[0m_process_traceback_frames\u001b[0m\u001b[0;34m(\u001b[0m\u001b[0me\u001b[0m\u001b[0;34m.\u001b[0m\u001b[0m__traceback__\u001b[0m\u001b[0;34m)\u001b[0m\u001b[0;34m\u001b[0m\u001b[0;34m\u001b[0m\u001b[0m\n\u001b[0;32m---> 67\u001b[0;31m       \u001b[0;32mraise\u001b[0m \u001b[0me\u001b[0m\u001b[0;34m.\u001b[0m\u001b[0mwith_traceback\u001b[0m\u001b[0;34m(\u001b[0m\u001b[0mfiltered_tb\u001b[0m\u001b[0;34m)\u001b[0m \u001b[0;32mfrom\u001b[0m \u001b[0;32mNone\u001b[0m\u001b[0;34m\u001b[0m\u001b[0;34m\u001b[0m\u001b[0m\n\u001b[0m\u001b[1;32m     68\u001b[0m     \u001b[0;32mfinally\u001b[0m\u001b[0;34m:\u001b[0m\u001b[0;34m\u001b[0m\u001b[0;34m\u001b[0m\u001b[0m\n\u001b[1;32m     69\u001b[0m       \u001b[0;32mdel\u001b[0m \u001b[0mfiltered_tb\u001b[0m\u001b[0;34m\u001b[0m\u001b[0;34m\u001b[0m\u001b[0m\n",
            "\u001b[0;32m/usr/local/lib/python3.8/dist-packages/tensorflow/python/eager/execute.py\u001b[0m in \u001b[0;36mquick_execute\u001b[0;34m(op_name, num_outputs, inputs, attrs, ctx, name)\u001b[0m\n\u001b[1;32m     52\u001b[0m   \u001b[0;32mtry\u001b[0m\u001b[0;34m:\u001b[0m\u001b[0;34m\u001b[0m\u001b[0;34m\u001b[0m\u001b[0m\n\u001b[1;32m     53\u001b[0m     \u001b[0mctx\u001b[0m\u001b[0;34m.\u001b[0m\u001b[0mensure_initialized\u001b[0m\u001b[0;34m(\u001b[0m\u001b[0;34m)\u001b[0m\u001b[0;34m\u001b[0m\u001b[0;34m\u001b[0m\u001b[0m\n\u001b[0;32m---> 54\u001b[0;31m     tensors = pywrap_tfe.TFE_Py_Execute(ctx._handle, device_name, op_name,\n\u001b[0m\u001b[1;32m     55\u001b[0m                                         inputs, attrs, num_outputs)\n\u001b[1;32m     56\u001b[0m   \u001b[0;32mexcept\u001b[0m \u001b[0mcore\u001b[0m\u001b[0;34m.\u001b[0m\u001b[0m_NotOkStatusException\u001b[0m \u001b[0;32mas\u001b[0m \u001b[0me\u001b[0m\u001b[0;34m:\u001b[0m\u001b[0;34m\u001b[0m\u001b[0;34m\u001b[0m\u001b[0m\n",
            "\u001b[0;31mInvalidArgumentError\u001b[0m: Graph execution error:\n\nDetected at node 'sparse_categorical_crossentropy/SparseSoftmaxCrossEntropyWithLogits/SparseSoftmaxCrossEntropyWithLogits' defined at (most recent call last):\n    File \"/usr/lib/python3.8/runpy.py\", line 194, in _run_module_as_main\n      return _run_code(code, main_globals, None,\n    File \"/usr/lib/python3.8/runpy.py\", line 87, in _run_code\n      exec(code, run_globals)\n    File \"/usr/local/lib/python3.8/dist-packages/ipykernel_launcher.py\", line 16, in <module>\n      app.launch_new_instance()\n    File \"/usr/local/lib/python3.8/dist-packages/traitlets/config/application.py\", line 992, in launch_instance\n      app.start()\n    File \"/usr/local/lib/python3.8/dist-packages/ipykernel/kernelapp.py\", line 612, in start\n      self.io_loop.start()\n    File \"/usr/local/lib/python3.8/dist-packages/tornado/platform/asyncio.py\", line 149, in start\n      self.asyncio_loop.run_forever()\n    File \"/usr/lib/python3.8/asyncio/base_events.py\", line 570, in run_forever\n      self._run_once()\n    File \"/usr/lib/python3.8/asyncio/base_events.py\", line 1859, in _run_once\n      handle._run()\n    File \"/usr/lib/python3.8/asyncio/events.py\", line 81, in _run\n      self._context.run(self._callback, *self._args)\n    File \"/usr/local/lib/python3.8/dist-packages/tornado/ioloop.py\", line 690, in <lambda>\n      lambda f: self._run_callback(functools.partial(callback, future))\n    File \"/usr/local/lib/python3.8/dist-packages/tornado/ioloop.py\", line 743, in _run_callback\n      ret = callback()\n    File \"/usr/local/lib/python3.8/dist-packages/tornado/gen.py\", line 787, in inner\n      self.run()\n    File \"/usr/local/lib/python3.8/dist-packages/tornado/gen.py\", line 748, in run\n      yielded = self.gen.send(value)\n    File \"/usr/local/lib/python3.8/dist-packages/ipykernel/kernelbase.py\", line 365, in process_one\n      yield gen.maybe_future(dispatch(*args))\n    File \"/usr/local/lib/python3.8/dist-packages/tornado/gen.py\", line 209, in wrapper\n      yielded = next(result)\n    File \"/usr/local/lib/python3.8/dist-packages/ipykernel/kernelbase.py\", line 268, in dispatch_shell\n      yield gen.maybe_future(handler(stream, idents, msg))\n    File \"/usr/local/lib/python3.8/dist-packages/tornado/gen.py\", line 209, in wrapper\n      yielded = next(result)\n    File \"/usr/local/lib/python3.8/dist-packages/ipykernel/kernelbase.py\", line 543, in execute_request\n      self.do_execute(\n    File \"/usr/local/lib/python3.8/dist-packages/tornado/gen.py\", line 209, in wrapper\n      yielded = next(result)\n    File \"/usr/local/lib/python3.8/dist-packages/ipykernel/ipkernel.py\", line 306, in do_execute\n      res = shell.run_cell(code, store_history=store_history, silent=silent)\n    File \"/usr/local/lib/python3.8/dist-packages/ipykernel/zmqshell.py\", line 536, in run_cell\n      return super(ZMQInteractiveShell, self).run_cell(*args, **kwargs)\n    File \"/usr/local/lib/python3.8/dist-packages/IPython/core/interactiveshell.py\", line 2854, in run_cell\n      result = self._run_cell(\n    File \"/usr/local/lib/python3.8/dist-packages/IPython/core/interactiveshell.py\", line 2881, in _run_cell\n      return runner(coro)\n    File \"/usr/local/lib/python3.8/dist-packages/IPython/core/async_helpers.py\", line 68, in _pseudo_sync_runner\n      coro.send(None)\n    File \"/usr/local/lib/python3.8/dist-packages/IPython/core/interactiveshell.py\", line 3057, in run_cell_async\n      has_raised = await self.run_ast_nodes(code_ast.body, cell_name,\n    File \"/usr/local/lib/python3.8/dist-packages/IPython/core/interactiveshell.py\", line 3249, in run_ast_nodes\n      if (await self.run_code(code, result,  async_=asy)):\n    File \"/usr/local/lib/python3.8/dist-packages/IPython/core/interactiveshell.py\", line 3326, in run_code\n      exec(code_obj, self.user_global_ns, self.user_ns)\n    File \"<ipython-input-57-70be2c2ea9f1>\", line 2, in <module>\n      history = unet.fit( training_generator,\n    File \"/usr/local/lib/python3.8/dist-packages/keras/utils/traceback_utils.py\", line 64, in error_handler\n      return fn(*args, **kwargs)\n    File \"/usr/local/lib/python3.8/dist-packages/keras/engine/training.py\", line 1409, in fit\n      tmp_logs = self.train_function(iterator)\n    File \"/usr/local/lib/python3.8/dist-packages/keras/engine/training.py\", line 1051, in train_function\n      return step_function(self, iterator)\n    File \"/usr/local/lib/python3.8/dist-packages/keras/engine/training.py\", line 1040, in step_function\n      outputs = model.distribute_strategy.run(run_step, args=(data,))\n    File \"/usr/local/lib/python3.8/dist-packages/keras/engine/training.py\", line 1030, in run_step\n      outputs = model.train_step(data)\n    File \"/usr/local/lib/python3.8/dist-packages/keras/engine/training.py\", line 890, in train_step\n      loss = self.compute_loss(x, y, y_pred, sample_weight)\n    File \"/usr/local/lib/python3.8/dist-packages/keras/engine/training.py\", line 948, in compute_loss\n      return self.compiled_loss(\n    File \"/usr/local/lib/python3.8/dist-packages/keras/engine/compile_utils.py\", line 201, in __call__\n      loss_value = loss_obj(y_t, y_p, sample_weight=sw)\n    File \"/usr/local/lib/python3.8/dist-packages/keras/losses.py\", line 139, in __call__\n      losses = call_fn(y_true, y_pred)\n    File \"/usr/local/lib/python3.8/dist-packages/keras/losses.py\", line 243, in call\n      return ag_fn(y_true, y_pred, **self._fn_kwargs)\n    File \"/usr/local/lib/python3.8/dist-packages/keras/losses.py\", line 1860, in sparse_categorical_crossentropy\n      return backend.sparse_categorical_crossentropy(\n    File \"/usr/local/lib/python3.8/dist-packages/keras/backend.py\", line 5238, in sparse_categorical_crossentropy\n      res = tf.nn.sparse_softmax_cross_entropy_with_logits(\nNode: 'sparse_categorical_crossentropy/SparseSoftmaxCrossEntropyWithLogits/SparseSoftmaxCrossEntropyWithLogits'\nlogits and labels must have the same first dimension, got logits shape [1048576,3] and labels shape [3145728]\n\t [[{{node sparse_categorical_crossentropy/SparseSoftmaxCrossEntropyWithLogits/SparseSoftmaxCrossEntropyWithLogits}}]] [Op:__inference_train_function_2853]"
          ]
        }
      ]
    },
    {
      "cell_type": "code",
      "source": [
        "masks=0"
      ],
      "metadata": {
        "id": "mHh9fgAAnKuD"
      },
      "execution_count": null,
      "outputs": []
    },
    {
      "cell_type": "code",
      "source": [
        "loss = history.history['loss']\n",
        "val_loss = history.history['val_loss']\n",
        "\n",
        "\n",
        "\n",
        "\n",
        "epochs = range(1, len(loss) + 1)\n",
        "\n",
        "plt.figure(figsize=(20, 5))\n",
        "\n",
        "\n",
        "\n",
        "plt.show()"
      ],
      "metadata": {
        "colab": {
          "base_uri": "https://localhost:8080/",
          "height": 34
        },
        "id": "ZXACcOexT05G",
        "outputId": "9e452719-b5e0-43a1-f8a4-63a6690d704d"
      },
      "execution_count": null,
      "outputs": [
        {
          "output_type": "display_data",
          "data": {
            "text/plain": [
              "<Figure size 1440x360 with 0 Axes>"
            ]
          },
          "metadata": {}
        }
      ]
    },
    {
      "cell_type": "code",
      "source": [
        "X, y = imgs[15500],masks[15500]\n",
        "pred = unet.predict(imgs[0:10])"
      ],
      "metadata": {
        "colab": {
          "base_uri": "https://localhost:8080/"
        },
        "id": "BGZJoHMBUMng",
        "outputId": "6e28326a-f6d2-474c-fbc2-afcc91193517"
      },
      "execution_count": null,
      "outputs": [
        {
          "output_type": "stream",
          "name": "stdout",
          "text": [
            "1/1 [==============================] - 2s 2s/step\n"
          ]
        }
      ]
    },
    {
      "cell_type": "code",
      "source": [
        "pred.shape"
      ],
      "metadata": {
        "id": "v8qSVvI1bZDV"
      },
      "execution_count": null,
      "outputs": []
    },
    {
      "cell_type": "code",
      "source": [
        "\n",
        "plt.imshow(masks[5].reshape(128,128))"
      ],
      "metadata": {
        "id": "5zV_wb-lcWme",
        "colab": {
          "base_uri": "https://localhost:8080/",
          "height": 285
        },
        "outputId": "ec0fc326-d600-4613-db64-40872c6e213c"
      },
      "execution_count": null,
      "outputs": [
        {
          "output_type": "execute_result",
          "data": {
            "text/plain": [
              "<matplotlib.image.AxesImage at 0x7f52470e53a0>"
            ]
          },
          "metadata": {},
          "execution_count": 63
        },
        {
          "output_type": "display_data",
          "data": {
            "text/plain": [
              "<Figure size 432x288 with 1 Axes>"
            ],
            "image/png": "[encoded data removed]"
          },
          "metadata": {
            "needs_background": "light"
          }
        }
      ]
    },
    {
      "cell_type": "code",
      "source": [
        "num = 10\n",
        "fig, ax = plt.subplots(num,3, figsize=(18, 8 * num))\n",
        "\n",
        "for i in range(num):\n",
        "    img = X[i, :, :, 0]\n",
        "    masks = y[i]\n",
        "    pred_masks = pred[i]\n",
        "    ax[i, 0].imshow(img)\n",
        "    \n",
        "    mask = np.zeros(masks.shape[:-1])\n",
        "    m = masks[:, :, 0]\n",
        "    # mask = m/4*np.max(img)\n",
        "    ax[i, 1].imshow(m)\n",
        "    \n",
        "    pred_mask = np.zeros(masks.shape[:-1])\n",
        "    m = (pred_masks[:, :, 0] > 0.5).astype(np.float32)\n",
        "    # pred_mask = m/4*np.max(img)\n",
        "    ax[i, 2].imshow(m)\n"
      ],
      "metadata": {
        "colab": {
          "base_uri": "https://localhost:8080/",
          "height": 1000
        },
        "id": "6I56H9-6c4Om",
        "outputId": "dbe74777-2ad1-402f-92c6-6437ff5fb975"
      },
      "execution_count": null,
      "outputs": [
        {
          "output_type": "error",
          "ename": "IndexError",
          "evalue": "ignored",
          "traceback": [
            "\u001b[0;31m---------------------------------------------------------------------------\u001b[0m",
            "\u001b[0;31mIndexError\u001b[0m                                Traceback (most recent call last)",
            "\u001b[0;32m<ipython-input-70-da7de0bb9227>\u001b[0m in \u001b[0;36m<module>\u001b[0;34m\u001b[0m\n\u001b[1;32m     11\u001b[0m     \u001b[0mm\u001b[0m \u001b[0;34m=\u001b[0m \u001b[0mmasks\u001b[0m\u001b[0;34m\u001b[0m\u001b[0;34m\u001b[0m\u001b[0m\n\u001b[1;32m     12\u001b[0m     \u001b[0;31m# mask = m/4*np.max(img)\u001b[0m\u001b[0;34m\u001b[0m\u001b[0;34m\u001b[0m\u001b[0;34m\u001b[0m\u001b[0m\n\u001b[0;32m---> 13\u001b[0;31m     \u001b[0max\u001b[0m\u001b[0;34m[\u001b[0m\u001b[0mi\u001b[0m\u001b[0;34m,\u001b[0m \u001b[0;36m1\u001b[0m\u001b[0;34m]\u001b[0m\u001b[0;34m.\u001b[0m\u001b[0mimshow\u001b[0m\u001b[0;34m(\u001b[0m\u001b[0mm\u001b[0m\u001b[0;34m[\u001b[0m\u001b[0;36m0\u001b[0m\u001b[0;34m]\u001b[0m\u001b[0;34m)\u001b[0m\u001b[0;34m\u001b[0m\u001b[0;34m\u001b[0m\u001b[0m\n\u001b[0m\u001b[1;32m     14\u001b[0m \u001b[0;34m\u001b[0m\u001b[0m\n\u001b[1;32m     15\u001b[0m     \u001b[0mpred_mask\u001b[0m \u001b[0;34m=\u001b[0m \u001b[0mnp\u001b[0m\u001b[0;34m.\u001b[0m\u001b[0mzeros\u001b[0m\u001b[0;34m(\u001b[0m\u001b[0mmasks\u001b[0m\u001b[0;34m.\u001b[0m\u001b[0mshape\u001b[0m\u001b[0;34m[\u001b[0m\u001b[0;34m:\u001b[0m\u001b[0;34m-\u001b[0m\u001b[0;36m1\u001b[0m\u001b[0;34m]\u001b[0m\u001b[0;34m)\u001b[0m\u001b[0;34m\u001b[0m\u001b[0;34m\u001b[0m\u001b[0m\n",
            "\u001b[0;31mIndexError\u001b[0m: invalid index to scalar variable."
          ]
        },
        {
          "output_type": "display_data",
          "data": {
            "text/plain": [
              "<Figure size 1296x5760 with 30 Axes>"
            ],
            "image/png": "[encoded data removed]"
          },
          "metadata": {
            "needs_background": "light"
          }
        }
      ]
    },
    {
      "cell_type": "code",
      "source": [],
      "metadata": {
        "id": "ksUginLJc4r-"
      },
      "execution_count": null,
      "outputs": []
    }
  ]
}