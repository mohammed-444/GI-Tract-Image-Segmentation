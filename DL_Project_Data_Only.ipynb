{
  "cells": [
    {
      "cell_type": "markdown",
      "metadata": {
        "id": "OywpOudqjZXg"
      },
      "source": [
        "# Load the data"
      ]
    },
    {
      "cell_type": "code",
      "execution_count": 2,
      "metadata": {
        "id": "L3SGafXJjWc9"
      },
      "outputs": [],
      "source": [
        "import pandas as pd\n",
        "from numpy import load\n",
        "import matplotlib.pyplot as plt\n",
        "from numpy import save\n",
        "import numpy as np\n",
        "import cv2"
      ]
    },
    {
      "cell_type": "code",
      "execution_count": 3,
      "metadata": {
        "id": "6uOh-qeGIahz"
      },
      "outputs": [],
      "source": [
        "import tensorflow as tf\n",
        "import numpy as np\n",
        "\n",
        "from tensorflow.keras.layers import Input\n",
        "from tensorflow.keras.layers import Conv2D\n",
        "from tensorflow.keras.layers import MaxPooling2D\n",
        "from tensorflow.keras.layers import Dropout \n",
        "from tensorflow.keras.layers import Conv2DTranspose\n",
        "from tensorflow.keras.layers import concatenate"
      ]
    },
    {
      "cell_type": "code",
      "execution_count": 1,
      "metadata": {
        "colab": {
          "base_uri": "https://localhost:8080/"
        },
        "id": "UQj3B9yNevhw",
        "outputId": "56c7676a-0c8a-4642-ae44-b1a3a6ec130f"
      },
      "outputs": [
        {
          "name": "stdout",
          "output_type": "stream",
          "text": [
            "Collecting gdown\n",
            "  Downloading gdown-4.6.0-py3-none-any.whl (14 kB)\n",
            "Requirement already satisfied: beautifulsoup4 in c:\\users\\dell\\anaconda3\\envs\\tfgpy\\lib\\site-packages (from gdown) (4.11.1)\n",
            "Requirement already satisfied: tqdm in c:\\users\\dell\\anaconda3\\envs\\tfgpy\\lib\\site-packages (from gdown) (4.64.1)\n",
            "Collecting filelock\n",
            "  Downloading filelock-3.9.0-py3-none-any.whl (9.7 kB)\n",
            "Requirement already satisfied: six in c:\\users\\dell\\appdata\\roaming\\python\\python310\\site-packages (from gdown) (1.16.0)\n",
            "Requirement already satisfied: requests[socks] in c:\\users\\dell\\anaconda3\\envs\\tfgpy\\lib\\site-packages (from gdown) (2.28.1)\n",
            "Requirement already satisfied: soupsieve>1.2 in c:\\users\\dell\\anaconda3\\envs\\tfgpy\\lib\\site-packages (from beautifulsoup4->gdown) (2.3.2.post1)\n",
            "Requirement already satisfied: idna<4,>=2.5 in c:\\users\\dell\\anaconda3\\envs\\tfgpy\\lib\\site-packages (from requests[socks]->gdown) (3.4)\n",
            "Requirement already satisfied: urllib3<1.27,>=1.21.1 in c:\\users\\dell\\anaconda3\\envs\\tfgpy\\lib\\site-packages (from requests[socks]->gdown) (1.26.12)\n",
            "Requirement already satisfied: certifi>=2017.4.17 in c:\\users\\dell\\anaconda3\\envs\\tfgpy\\lib\\site-packages (from requests[socks]->gdown) (2022.9.24)\n",
            "Requirement already satisfied: charset-normalizer<3,>=2 in c:\\users\\dell\\anaconda3\\envs\\tfgpy\\lib\\site-packages (from requests[socks]->gdown) (2.1.1)\n",
            "Collecting PySocks!=1.5.7,>=1.5.6\n",
            "  Downloading PySocks-1.7.1-py3-none-any.whl (16 kB)\n",
            "Requirement already satisfied: colorama in c:\\users\\dell\\appdata\\roaming\\python\\python310\\site-packages (from tqdm->gdown) (0.4.6)\n",
            "Installing collected packages: PySocks, filelock, gdown\n",
            "Successfully installed PySocks-1.7.1 filelock-3.9.0 gdown-4.6.0\n"
          ]
        }
      ],
      "source": [
        "!pip install --upgrade gdown"
      ]
    },
    {
      "cell_type": "code",
      "execution_count": 5,
      "metadata": {
        "colab": {
          "base_uri": "https://localhost:8080/"
        },
        "id": "D5PAzV0pey9B",
        "outputId": "0d443746-6b8a-4bdf-b1be-19d08cb63986"
      },
      "outputs": [
        {
          "name": "stdout",
          "output_type": "stream",
          "text": [
            "Access denied with the following error:\n"
          ]
        },
        {
          "name": "stderr",
          "output_type": "stream",
          "text": [
            "\n",
            " \tCannot retrieve the public link of the file. You may need to change\n",
            "\tthe permission to 'Anyone with the link', or have had many accesses. \n",
            "\n",
            "You may still be able to access the file from the browser:\n",
            "\n",
            "\t https://drive.google.com/uc?id=1-LooxJakzRwIsU7gF0QbJ3DlEoO9ijlA \n",
            "\n"
          ]
        }
      ],
      "source": [
        "!gdown 1-LooxJakzRwIsU7gF0QbJ3DlEoO9ijlA"
      ]
    },
    {
      "cell_type": "code",
      "execution_count": 4,
      "metadata": {
        "id": "cVAlKoJafbDB"
      },
      "outputs": [
        {
          "ename": "FileNotFoundError",
          "evalue": "[Errno 2] No such file or directory: '/content/all_images_stomach.npy'",
          "output_type": "error",
          "traceback": [
            "\u001b[1;31m---------------------------------------------------------------------------\u001b[0m",
            "\u001b[1;31mFileNotFoundError\u001b[0m                         Traceback (most recent call last)",
            "Cell \u001b[1;32mIn[4], line 1\u001b[0m\n\u001b[1;32m----> 1\u001b[0m Images \u001b[39m=\u001b[39m load(\u001b[39m'\u001b[39;49m\u001b[39m/content/all_images_stomach.npy\u001b[39;49m\u001b[39m'\u001b[39;49m, allow_pickle\u001b[39m=\u001b[39;49m\u001b[39mTrue\u001b[39;49;00m)\n",
            "File \u001b[1;32mc:\\Users\\DELL\\anaconda3\\envs\\tfgpy\\lib\\site-packages\\numpy\\lib\\npyio.py:390\u001b[0m, in \u001b[0;36mload\u001b[1;34m(file, mmap_mode, allow_pickle, fix_imports, encoding)\u001b[0m\n\u001b[0;32m    388\u001b[0m     own_fid \u001b[39m=\u001b[39m \u001b[39mFalse\u001b[39;00m\n\u001b[0;32m    389\u001b[0m \u001b[39melse\u001b[39;00m:\n\u001b[1;32m--> 390\u001b[0m     fid \u001b[39m=\u001b[39m stack\u001b[39m.\u001b[39menter_context(\u001b[39mopen\u001b[39;49m(os_fspath(file), \u001b[39m\"\u001b[39;49m\u001b[39mrb\u001b[39;49m\u001b[39m\"\u001b[39;49m))\n\u001b[0;32m    391\u001b[0m     own_fid \u001b[39m=\u001b[39m \u001b[39mTrue\u001b[39;00m\n\u001b[0;32m    393\u001b[0m \u001b[39m# Code to distinguish from NumPy binary files and pickles.\u001b[39;00m\n",
            "\u001b[1;31mFileNotFoundError\u001b[0m: [Errno 2] No such file or directory: '/content/all_images_stomach.npy'"
          ]
        }
      ],
      "source": [
        "Images = load('/content/all_images_stomach.npy', allow_pickle=True)"
      ]
    },
    {
      "cell_type": "code",
      "execution_count": 7,
      "metadata": {
        "colab": {
          "base_uri": "https://localhost:8080/"
        },
        "id": "LKK-I4BJkBFf",
        "outputId": "36c01620-051e-4f4e-ddf9-d6fb2e322dd7"
      },
      "outputs": [
        {
          "name": "stdout",
          "output_type": "stream",
          "text": [
            "Downloading...\n",
            "From: https://drive.google.com/uc?id=1-Q2FPGoSXyZlUdDwjJ0XFBrAJT9Yi4KH\n",
            "To: /content/stomach_masks.npy\n",
            "100% 710M/710M [00:03<00:00, 220MB/s]\n"
          ]
        }
      ],
      "source": [
        "!gdown 1-Q2FPGoSXyZlUdDwjJ0XFBrAJT9Yi4KH"
      ]
    },
    {
      "cell_type": "code",
      "execution_count": 24,
      "metadata": {
        "id": "ztxSUNeehM5Z"
      },
      "outputs": [],
      "source": [
        "Masks_Stomach = load('/content/stomach_masks.npy', allow_pickle=True)"
      ]
    },
    {
      "cell_type": "code",
      "execution_count": 10,
      "metadata": {
        "id": "DVwn9y0uLP7p"
      },
      "outputs": [],
      "source": [
        "fio=''"
      ]
    },
    {
      "cell_type": "code",
      "execution_count": 32,
      "metadata": {
        "id": "dV1nM86rLsID"
      },
      "outputs": [],
      "source": [
        "for i in range(len(Images)):\n",
        "  Images[i] = cv2.resize(Images[i],(128,128))\n",
        "  Masks_Stomach[i] = cv2.resize(Masks_Stomach[i],(128,128))"
      ]
    },
    {
      "cell_type": "code",
      "execution_count": 15,
      "metadata": {
        "colab": {
          "base_uri": "https://localhost:8080/",
          "height": 285
        },
        "id": "B5crrkg9HZgx",
        "outputId": "ce53dc7b-60db-473d-88de-af10ab4f128e"
      },
      "outputs": [
        {
          "data": {
            "text/plain": [
              "<matplotlib.image.AxesImage at 0x7f50f3578c70>"
            ]
          },
          "execution_count": 15,
          "metadata": {},
          "output_type": "execute_result"
        },
        {
          "data": {
            "image/png": "[encoded data removed]",
            "text/plain": [
              "<Figure size 432x288 with 1 Axes>"
            ]
          },
          "metadata": {
            "needs_background": "light"
          },
          "output_type": "display_data"
        }
      ],
      "source": [
        "plt.imshow(Images[0])\n",
        "plt.imshow(Masks_Stomach[0], alpha=0.15)"
      ]
    }
  ],
  "metadata": {
    "colab": {
      "provenance": []
    },
    "kernelspec": {
      "display_name": "tfgpy",
      "language": "python",
      "name": "python3"
    },
    "language_info": {
      "codemirror_mode": {
        "name": "ipython",
        "version": 3
      },
      "file_extension": ".py",
      "mimetype": "text/x-python",
      "name": "python",
      "nbconvert_exporter": "python",
      "pygments_lexer": "ipython3",
      "version": "3.10.6"
    },
    "vscode": {
      "interpreter": {
        "hash": "7b6a876542c6e3b7dc485a3df575169d2e761a8f6ebfc9515906478165665ee3"
      }
    }
  },
  "nbformat": 4,
  "nbformat_minor": 0
}
